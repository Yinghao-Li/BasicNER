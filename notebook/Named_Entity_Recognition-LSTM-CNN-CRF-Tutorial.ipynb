{
 "cells": [
  {
   "attachments": {},
   "cell_type": "markdown",
   "metadata": {},
   "source": [
    "# End-to-end Sequence Labeling via Bi-directional LSTM-CNNs"
   ]
  },
  {
   "attachments": {},
   "cell_type": "markdown",
   "metadata": {},
   "source": [
    "In this tutorial we will demonstrate how to implement the Bi-directional LSTM-CNN architecture (Published at ACL'16. [Link To Paper](http://www.aclweb.org/anthology/P16-1101)) for Named Entity Recognition using PyTorch. \n",
    "**Notice** that the original paper also has a CRF layer after the LSTM output, but we remove that in this tutorial for simplicity.\n",
    "For an implementation of the original architecture, please check the link below.\n",
    "\n",
    "The main aim of the tutorial is to make the audience comfortable with pytorch using this tutorial and give a step-by-step walk through of the Bi-LSTM-CNN architecture for NER. Some familiarity with pytorch (or any other deep learning framework) would definitely be a plus. \n",
    "\n",
    "The agenda of this tutorial is as follows:\n",
    "\n",
    "1. Getting Ready with the data \n",
    "2. Network Definition. This includes\n",
    "    * CNN Encoder for Character Level representation.\n",
    "    * Bi-directional LSTM for Word-Level Encoding.\n",
    "3. Training \n",
    "4. Model testing\n",
    "\n",
    "This tutorial is modified from [this GitHub repo](https://github.com/TheAnig/NER-LSTM-CNN-Pytorch)."
   ]
  },
  {
   "attachments": {},
   "cell_type": "markdown",
   "metadata": {},
   "source": [
    "**Author:**\n",
    "[**Yinghao Li**](https://yinghao-li.github.io/)"
   ]
  },
  {
   "attachments": {},
   "cell_type": "markdown",
   "metadata": {},
   "source": [
    "### Downloading data\n",
    "\n",
    "Before starting, we need to download the dataset and pre-trained GloVe embedding files into the machine.\n",
    "We can use the following commands.\n",
    "\n",
    "Notice that this may take a while (2~3 mins on Colab)"
   ]
  },
  {
   "cell_type": "code",
   "execution_count": 1,
   "metadata": {},
   "outputs": [
    {
     "name": "stdout",
     "output_type": "stream",
     "text": [
      "mkdir: cannot create directory ‘data’: File exists\n",
      "File ‘./data/eng.train’ already there; not retrieving.\n",
      "\n",
      "File ‘./data/eng.testa’ already there; not retrieving.\n",
      "\n",
      "File ‘./data/eng.testb’ already there; not retrieving.\n",
      "\n",
      "File ‘./data/glove.6B.zip’ already there; not retrieving.\n",
      "\n",
      "Archive:  ./data/glove.6B.zip\n"
     ]
    }
   ],
   "source": [
    "!mkdir data\n",
    "!wget -P ./data/ https://raw.githubusercontent.com/TheAnig/NER-LSTM-CNN-Pytorch/master/data/eng.train -nc\n",
    "!wget -P ./data/ https://raw.githubusercontent.com/TheAnig/NER-LSTM-CNN-Pytorch/master/data/eng.testa -nc\n",
    "!wget -P ./data/ https://raw.githubusercontent.com/TheAnig/NER-LSTM-CNN-Pytorch/master/data/eng.testb -nc\n",
    "!wget -P ./data/ http://nlp.stanford.edu/data/glove.6B.zip -nc\n",
    "\n",
    "!unzip -n ./data/glove.6B.zip -d ./data/"
   ]
  },
  {
   "cell_type": "markdown",
   "metadata": {},
   "source": [
    "### Data Preparation\n",
    "\n",
    "The paper uses the English data from CoNLL 2003 shared task\\[1\\], which is present in the \"data\" directory of this project. We will later apply more preprocessing steps to generate tag mapping, word mapping and character  mapping. The data set contains four different types of named entities: PERSON, LOCATION, ORGANIZATION, and MISC and uses the BIO tagging scheme\n",
    "\n",
    "BIO tagging Scheme:\n",
    "\n",
    "    I - Word is inside a phrase of type TYPE\n",
    "    B - If two phrases of the same type immediately follow each other, the first word of the second phrase will have tag B-TYPE \n",
    "    O - Word is not part of a phrase\n",
    "    \n",
    "Example of English-NER sentence available in the data:\n",
    "    \n",
    "    U.N.         NNP  I-NP  I-ORG \n",
    "    official     NN   I-NP  O \n",
    "    Ekeus        NNP  I-NP  I-PER \n",
    "    heads        VBZ  I-VP  O \n",
    "    for          IN   I-PP  O \n",
    "    Baghdad      NNP  I-NP  I-LOC \n",
    "    .            .    O     O \n",
    "    \n",
    "Data Split(We use the same split as mentioned in paper):\n",
    "\n",
    "    Training Data - eng.train\n",
    "    Validation Data - eng.testa\n",
    "    Testing Data - eng.testb\n",
    "    \n",
    "\n",
    " To get started we first import the necessary libraries"
   ]
  },
  {
   "cell_type": "code",
   "execution_count": 2,
   "metadata": {},
   "outputs": [],
   "source": [
    "import torch\n",
    "import torch.nn as nn\n",
    "from torch.autograd import Variable\n",
    "from tqdm.auto import tqdm\n",
    "\n",
    "import matplotlib.pyplot as plt\n",
    "\n",
    "import os\n",
    "import codecs\n",
    "import re\n",
    "import numpy as np"
   ]
  },
  {
   "cell_type": "markdown",
   "metadata": {},
   "source": [
    "##### Define constants and paramaters"
   ]
  },
  {
   "cell_type": "markdown",
   "metadata": {},
   "source": [
    "We now define some constants and parameters that we will be using later"
   ]
  },
  {
   "cell_type": "code",
   "execution_count": 3,
   "metadata": {},
   "outputs": [],
   "source": [
    "# parameters for the Model\n",
    "args = dict()\n",
    "args['train'] = \"./data/eng.train\"  # Path to train file\n",
    "args['dev'] = \"./data/eng.testa\"  # Path to test file\n",
    "args['test'] = \"./data/eng.testb\"  # Path to dev file\n",
    "args['tag_scheme'] = \"BIO\"  # BIO or BIOES\n",
    "args['lower'] = True  #  Boolean variable to control lowercasing of words\n",
    "args['zeros'] =  True  #  Boolean variable to control replacement of  all digits by 0 \n",
    "args['char_dim'] = 30  # Char embedding dimension\n",
    "args['word_dim'] = 100  # Token embedding dimension\n",
    "args['word_lstm_dim'] = 200  # Token LSTM hidden layer size\n",
    "args['word_bidirect'] = True  # Use a bidirectional LSTM for words\n",
    "args['embedding_path'] = \"./data/glove.6B.100d.txt\"  # Location of pretrained embeddings\n",
    "args['all_emb'] = 1  # Load all embeddings\n",
    "args['dropout'] = 0.5  # Droupout on the input (0 = no dropout)\n",
    "args['weights'] = \"\"  # path to Pretrained for from a previous run\n",
    "args['name'] = \"self-trained-model\"  #  Model name\n",
    "models_path = \"./models/\"  # path to saved models\n",
    "\n",
    "# GPU\n",
    "args['use_gpu'] = torch.cuda.is_available()  # GPU Check\n",
    "use_gpu = args['use_gpu']\n",
    "\n",
    "args['reload'] = \"./models/pre-trained-model.ckpt\" \n",
    "\n",
    "# Constants\n",
    "START_TAG = '<START>'\n",
    "STOP_TAG = '<STOP>'"
   ]
  },
  {
   "cell_type": "code",
   "execution_count": 4,
   "metadata": {},
   "outputs": [],
   "source": [
    "# paths to files \n",
    "# To stored mapping file\n",
    "mapping_file = './data/mapping.pt'\n",
    "\n",
    "# To stored model\n",
    "name = args['name']\n",
    "model_name = os.path.join(models_path, name)  # get_name(parameters)\n",
    "\n",
    "if not os.path.exists(models_path):\n",
    "    os.makedirs(models_path, exist_ok=True)"
   ]
  },
  {
   "cell_type": "markdown",
   "metadata": {},
   "source": [
    "##### Load data and preprocess"
   ]
  },
  {
   "attachments": {},
   "cell_type": "markdown",
   "metadata": {},
   "source": [
    "Firstly, the data is loaded from the train, dev and test files into a list of sentences.\n",
    "\n",
    "Preprocessing:  \n",
    "* All the digits in the words are replaced by 0\n",
    "    \n",
    "Why this preprocessing step?  \n",
    "* For the Named Entity Recognition task, the information present in numerical digits doesnot help in predicting the entity.\n",
    "So, we replace all the digits by 0. So, now the model can concentrate on more important alphabets.\n",
    "\n",
    "Notice that this step is unecessary for more advanced word embedding methods such as BERT."
   ]
  },
  {
   "cell_type": "code",
   "execution_count": 5,
   "metadata": {},
   "outputs": [],
   "source": [
    "def zero_digits(s):\n",
    "    \"\"\"\n",
    "    Replace every digit in a string by a zero.\n",
    "    \"\"\"\n",
    "    return re.sub('\\d', '0', s)\n",
    "\n",
    "def load_sentences(path, zeros):\n",
    "    \"\"\"\n",
    "    Load sentences. A line must contain at least a word and its tag.\n",
    "    Sentences are separated by empty lines.\n",
    "    \"\"\"\n",
    "    sentences = []\n",
    "    sentence = []\n",
    "    for line in codecs.open(path, 'r', 'utf8'):\n",
    "        line = zero_digits(line.rstrip()) if zeros else line.rstrip()\n",
    "        if not line:\n",
    "            if len(sentence) > 0:\n",
    "                if 'DOCSTART' not in sentence[0][0]:\n",
    "                    sentences.append(sentence)\n",
    "                sentence = []\n",
    "        else:\n",
    "            word = line.split()\n",
    "            assert len(word) >= 2\n",
    "            sentence.append(word)\n",
    "    if len(sentence) > 0:\n",
    "        if 'DOCSTART' not in sentence[0][0]:\n",
    "            sentences.append(sentence)\n",
    "    return sentences"
   ]
  },
  {
   "cell_type": "code",
   "execution_count": 6,
   "metadata": {},
   "outputs": [],
   "source": [
    "train_sentences = load_sentences(args['train'], args['zeros'])\n",
    "test_sentences = load_sentences(args['test'], args['zeros'])\n",
    "dev_sentences = load_sentences(args['dev'], args['zeros'])"
   ]
  },
  {
   "cell_type": "markdown",
   "metadata": {},
   "source": [
    "##### Update tagging scheme"
   ]
  },
  {
   "attachments": {},
   "cell_type": "markdown",
   "metadata": {},
   "source": [
    "Different types of tagging schemes can be used for NER. We update the tags for train, test and dev data ( depending on the parameters \\[ tag_scheme \\] ).\n",
    "\n",
    "The original data is labeled using the BIO-1 scheme, but a more general scheme is BIO-2.\n",
    "The difference is that BIO-1 use predix `B-` only for the beginning token of the second entity within two consecutive entities, while BIO-2 use it for all entity beginning tokens.\n",
    "\n",
    "There are also other tagging schemes such as `BIOES`. Please refer to [this wiki page](https://en.wikipedia.org/wiki/Inside%E2%80%93outside%E2%80%93beginning_(tagging)) for details."
   ]
  },
  {
   "cell_type": "code",
   "execution_count": 7,
   "metadata": {},
   "outputs": [],
   "source": [
    "def iob2(tags):\n",
    "    \"\"\"\n",
    "    Check that tags have a valid BIO format.\n",
    "    Tags in BIO1 format are converted to BIO2.\n",
    "    \"\"\"\n",
    "    for i, tag in enumerate(tags):\n",
    "        if tag == 'O':\n",
    "            continue\n",
    "        split = tag.split('-')\n",
    "        if len(split) != 2 or split[0] not in ['I', 'B']:\n",
    "            return False\n",
    "        if split[0] == 'B':\n",
    "            continue\n",
    "        elif i == 0 or tags[i - 1] == 'O':   #  conversion IOB1 to IOB2\n",
    "            tags[i] = 'B' + tag[1:]\n",
    "        elif tags[i - 1][1:] == tag[1:]:\n",
    "            continue\n",
    "        else:   #  conversion IOB1 to IOB2\n",
    "            tags[i] = 'B' + tag[1:]\n",
    "    return True\n",
    "\n",
    "def iob_iobes(tags):\n",
    "    \"\"\"\n",
    "    the function is used to convert\n",
    "    BIO -> BIOES tagging\n",
    "    \"\"\"\n",
    "    new_tags = []\n",
    "    for i, tag in enumerate(tags):\n",
    "        if tag == 'O':\n",
    "            new_tags.append(tag)\n",
    "        elif tag.split('-')[0] == 'B':\n",
    "            if i + 1 != len(tags) and \\\n",
    "               tags[i + 1].split('-')[0] == 'I':\n",
    "                new_tags.append(tag)\n",
    "            else:\n",
    "                new_tags.append(tag.replace('B-', 'S-'))\n",
    "        elif tag.split('-')[0] == 'I':\n",
    "            if i + 1 < len(tags) and \\\n",
    "                    tags[i + 1].split('-')[0] == 'I':\n",
    "                new_tags.append(tag)\n",
    "            else:\n",
    "                new_tags.append(tag.replace('I-', 'E-'))\n",
    "        else:\n",
    "            raise Exception('Invalid IOB format!')\n",
    "    return new_tags\n",
    "\n",
    "def update_tag_scheme(sentences, tag_scheme):\n",
    "    \"\"\"\n",
    "    Check and update sentences tagging scheme to BIO2\n",
    "    Only BIO1 and BIO2 schemes are accepted for input data.\n",
    "    \"\"\"\n",
    "    for i, s in enumerate(sentences):\n",
    "        tags = [w[-1] for w in s]\n",
    "         #  Check that tags are given in the BIO format\n",
    "        if not iob2(tags):\n",
    "            s_str = '\\n'.join(' '.join(w) for w in s)\n",
    "            raise Exception('Sentences should be given in BIO format! ' +\n",
    "                            'Please check sentence %i:\\n%s' % (i, s_str))\n",
    "        if tag_scheme == 'BIOES':\n",
    "            new_tags = iob_iobes(tags)\n",
    "            for word, new_tag in zip(s, new_tags):\n",
    "                word[-1] = new_tag\n",
    "        elif tag_scheme == 'BIO':\n",
    "            for word, tag in zip(s, tags):\n",
    "                word[-1] = tag\n",
    "        else:\n",
    "            raise Exception('Wrong tagging scheme!')"
   ]
  },
  {
   "cell_type": "code",
   "execution_count": 8,
   "metadata": {},
   "outputs": [],
   "source": [
    "update_tag_scheme(train_sentences, args['tag_scheme'])\n",
    "update_tag_scheme(dev_sentences, args['tag_scheme'])\n",
    "update_tag_scheme(test_sentences, args['tag_scheme'])"
   ]
  },
  {
   "cell_type": "markdown",
   "metadata": {},
   "source": [
    "##### Create Mappings for Words, Characters and Tags"
   ]
  },
  {
   "cell_type": "markdown",
   "metadata": {},
   "source": [
    "After we have updated the tag scheme. We now have a list of sentences which are words along with their modified tags. Now, we want to map these individual words, tags and characters in each word, to unique numerical ID's so that each unique word, character and tag in the vocabulary is represented by a particular integer ID. To do this, we first create a functions that do these mapping for us"
   ]
  },
  {
   "cell_type": "markdown",
   "metadata": {},
   "source": [
    "##### Why mapping is important?"
   ]
  },
  {
   "cell_type": "markdown",
   "metadata": {},
   "source": [
    "These indices for words, tags and characters help us employ matrix (tensor) operations inside the neural network architecture, which are considerably faster."
   ]
  },
  {
   "cell_type": "code",
   "execution_count": 9,
   "metadata": {},
   "outputs": [],
   "source": [
    "def create_dico(item_list):\n",
    "    \"\"\"\n",
    "    Create a dictionary of items from a list of list of items.\n",
    "    \"\"\"\n",
    "    assert type(item_list) is list\n",
    "    dico = {}\n",
    "    for items in item_list:\n",
    "        for item in items:\n",
    "            if item not in dico:\n",
    "                dico[item] = 1\n",
    "            else:\n",
    "                dico[item] += 1\n",
    "    return dico\n",
    "\n",
    "def create_mapping(dico):\n",
    "    \"\"\"\n",
    "    Create a mapping (item to ID / ID to item) from a dictionary.\n",
    "    Items are ordered by decreasing frequency.\n",
    "    \"\"\"\n",
    "    sorted_items = sorted(dico.items(), key=lambda x: (-x[1], x[0]))\n",
    "    id_to_item = {i: v[0] for i, v in enumerate(sorted_items)}\n",
    "    item_to_id = {v: k for k, v in id_to_item.items()}\n",
    "    return item_to_id, id_to_item\n",
    "\n",
    "def word_mapping(sentences, lower):\n",
    "    \"\"\"\n",
    "    Create a dictionary and a mapping of words, sorted by frequency.\n",
    "    \"\"\"\n",
    "    words = [[x[0].lower() if lower else x[0] for x in s] for s in sentences]\n",
    "    dico = create_dico(words)\n",
    "    dico['<UNK>'] = 10000000  # UNK tag for unknown words\n",
    "    word_to_id, id_to_word = create_mapping(dico)\n",
    "    print(\"Found %i unique words (%i in total)\" % (\n",
    "        len(dico), sum(len(x) for x in words)\n",
    "    ))\n",
    "    return dico, word_to_id, id_to_word\n",
    "\n",
    "def char_mapping(sentences):\n",
    "    \"\"\"\n",
    "    Create a dictionary and mapping of characters, sorted by frequency.\n",
    "    \"\"\"\n",
    "    chars = [\"\".join([w[0] for w in s]) for s in sentences]\n",
    "    dico = create_dico(chars)\n",
    "    char_to_id, id_to_char = create_mapping(dico)\n",
    "    print(\"Found %i unique characters\" % len(dico))\n",
    "    return dico, char_to_id, id_to_char\n",
    "\n",
    "def tag_mapping(sentences):\n",
    "    \"\"\"\n",
    "    Create a dictionary and a mapping of tags, sorted by frequency.\n",
    "    \"\"\"\n",
    "    tags = [[word[-1] for word in s] for s in sentences]\n",
    "    dico = create_dico(tags)\n",
    "    dico[START_TAG] = -1\n",
    "    dico[STOP_TAG] = -2\n",
    "    tag_to_id, id_to_tag = create_mapping(dico)\n",
    "    print(\"Found %i unique named entity tags\" % len(dico))\n",
    "    return dico, tag_to_id, id_to_tag"
   ]
  },
  {
   "cell_type": "code",
   "execution_count": 10,
   "metadata": {},
   "outputs": [
    {
     "name": "stdout",
     "output_type": "stream",
     "text": [
      "Found 17493 unique words (203621 in total)\n",
      "Found 75 unique characters\n",
      "Found 11 unique named entity tags\n"
     ]
    }
   ],
   "source": [
    "dico_words, word_to_id, id_to_word = word_mapping(train_sentences, args['lower'])\n",
    "dico_chars, char_to_id, id_to_char = char_mapping(train_sentences)\n",
    "dico_tags, tag_to_id, id_to_tag = tag_mapping(train_sentences)"
   ]
  },
  {
   "cell_type": "markdown",
   "metadata": {},
   "source": [
    "##### Preparing final dataset"
   ]
  },
  {
   "cell_type": "markdown",
   "metadata": {},
   "source": [
    "The function prepare dataset returns a list of dictionaries ( one dictionary per each sentence )\n",
    "\n",
    "Each of the dictionary returned by the function contains\n",
    "    1. list of all words in the sentence\n",
    "    2. list of word index for all words in the sentence\n",
    "    3. list of lists, containing character id of each character for words in the sentence\n",
    "    4. list of tag for each word in the sentence."
   ]
  },
  {
   "cell_type": "code",
   "execution_count": 11,
   "metadata": {},
   "outputs": [],
   "source": [
    "def lower_case(x, lower=False):\n",
    "    if lower:\n",
    "        return x.lower()  \n",
    "    else:\n",
    "        return x"
   ]
  },
  {
   "cell_type": "code",
   "execution_count": 12,
   "metadata": {},
   "outputs": [
    {
     "name": "stdout",
     "output_type": "stream",
     "text": [
      "14041 / 3250 / 3453 sentences in train / dev / test.\n"
     ]
    }
   ],
   "source": [
    "def prepare_dataset(sentences, word_to_id, char_to_id, tag_to_id, lower=False):\n",
    "    \"\"\"\n",
    "    Prepare the dataset. Return a list of lists of dictionaries containing:\n",
    "        - word indexes\n",
    "        - word char indexes\n",
    "        - tag indexes\n",
    "    \"\"\"\n",
    "    data = []\n",
    "    for s in sentences:\n",
    "        str_words = [w[0] for w in s]\n",
    "        words = [word_to_id[lower_case(w,lower) if lower_case(w,lower) in word_to_id else '<UNK>']\n",
    "                 for w in str_words]\n",
    "         #  Skip characters that are not in the training set\n",
    "        chars = [[char_to_id[c] for c in w if c in char_to_id]\n",
    "                 for w in str_words]\n",
    "        tags = [tag_to_id[w[-1]] for w in s]\n",
    "        data.append({\n",
    "            'str_words': str_words,\n",
    "            'words': words,\n",
    "            'chars': chars,\n",
    "            'tags': tags,\n",
    "        })\n",
    "    return data\n",
    "\n",
    "train_data = prepare_dataset(\n",
    "    train_sentences, word_to_id, char_to_id, tag_to_id, args['lower']\n",
    ")\n",
    "dev_data = prepare_dataset(\n",
    "    dev_sentences, word_to_id, char_to_id, tag_to_id, args['lower']\n",
    ")\n",
    "test_data = prepare_dataset(\n",
    "    test_sentences, word_to_id, char_to_id, tag_to_id, args['lower']\n",
    ")\n",
    "print(\"{} / {} / {} sentences in train / dev / test.\".format(len(train_data), len(dev_data), len(test_data)))"
   ]
  },
  {
   "cell_type": "markdown",
   "metadata": {},
   "source": [
    "We are  done with the preprocessing step for input data. It ready to be given as input to the model ! ! !"
   ]
  },
  {
   "cell_type": "markdown",
   "metadata": {},
   "source": [
    "##### Load Word Embeddings\n",
    "\n",
    "Now, We move to the next step of loading the pre-trained word embeddings.\n",
    "\n",
    "The paper uses glove vectors 100 dimension vectors trained on the ( Wikipedia 2014 + Gigaword 5 ) corpus containing 6 Billion Words. The word embedding file ( glove.6B.100d.txt ) is placed in the data folder."
   ]
  },
  {
   "cell_type": "code",
   "execution_count": 13,
   "metadata": {},
   "outputs": [
    {
     "name": "stdout",
     "output_type": "stream",
     "text": [
      "Loaded 400000 pretrained embeddings.\n"
     ]
    }
   ],
   "source": [
    "all_word_embeds = {}\n",
    "for i, line in enumerate(codecs.open(args['embedding_path'], 'r', 'utf-8')):\n",
    "    s = line.strip().split()\n",
    "    if len(s) == args['word_dim'] + 1:\n",
    "        all_word_embeds[s[0]] = np.array([float(i) for i in s[1:]])\n",
    "\n",
    "#Intializing Word Embedding Matrix\n",
    "word_embeds = np.random.uniform(-np.sqrt(0.06), np.sqrt(0.06), (len(word_to_id), args['word_dim']))\n",
    "\n",
    "for w in word_to_id:\n",
    "    if w in all_word_embeds:\n",
    "        word_embeds[word_to_id[w]] = all_word_embeds[w]\n",
    "    elif w.lower() in all_word_embeds:\n",
    "        word_embeds[word_to_id[w]] = all_word_embeds[w.lower()]\n",
    "\n",
    "print('Loaded %i pretrained embeddings.' % len(all_word_embeds))"
   ]
  },
  {
   "attachments": {},
   "cell_type": "markdown",
   "metadata": {},
   "source": [
    "##### (Optional) Storing Processed Data for Reuse\n",
    "\n",
    "We can store the preprocessed data and the embedding matrix for future reuse.\n",
    "This helps us avoid the time taken by the step of preprocessing when try to tune the hyper parameters for the model."
   ]
  },
  {
   "cell_type": "code",
   "execution_count": null,
   "metadata": {},
   "outputs": [],
   "source": [
    "mappings = {\n",
    "    'word_to_id': word_to_id,\n",
    "    'tag_to_id': tag_to_id,\n",
    "    'char_to_id': char_to_id,\n",
    "    'args': args,\n",
    "    'word_embeds': word_embeds\n",
    "}\n",
    "torch.save(mappings, mapping_file)\n",
    "\n",
    "print('word_to_id: ', len(word_to_id))"
   ]
  },
  {
   "attachments": {},
   "cell_type": "markdown",
   "metadata": {},
   "source": [
    "##### (Optional) Loading Stored Data\n",
    "\n",
    "To load the data stored on the disk, we can simply use the `torch.load` function:"
   ]
  },
  {
   "cell_type": "code",
   "execution_count": null,
   "metadata": {},
   "outputs": [],
   "source": [
    "data_dict = torch.load(mapping_file)\n",
    "\n",
    "word_to_id = data_dict['word_to_id']\n",
    "tag_to_id = data_dict['tag_to_id']\n",
    "char_to_id = data_dict['char_to_id']\n",
    "args = data_dict['args']\n",
    "word_embeds = data_dict['word_embeds']"
   ]
  },
  {
   "cell_type": "markdown",
   "metadata": {},
   "source": [
    "### Model\n"
   ]
  },
  {
   "cell_type": "markdown",
   "metadata": {},
   "source": [
    "The model that we are presenting is a complicated one, since its a hybridized network using LSTMs and CNNs. So in order to break down the complexity, we have attempted to simplify the process by splitting up operations into individual functions that we can go over part by part. This hopefully makes the whole thing more easily digestable and gives a more intuitive understanding of the whole process."
   ]
  },
  {
   "cell_type": "markdown",
   "metadata": {},
   "source": [
    "##### Initialization of weights"
   ]
  },
  {
   "cell_type": "markdown",
   "metadata": {},
   "source": [
    "We start with the init_embedding function, which just initializes the embedding layer by pooling from a random sample. \n",
    "\n",
    "The distribution is pooled from $-\\sqrt{\\frac{3}{V}}$ to $+\\sqrt{\\frac{3}{V}}$ where $V$ is the embedding dimension size."
   ]
  },
  {
   "cell_type": "code",
   "execution_count": 14,
   "metadata": {},
   "outputs": [],
   "source": [
    "def init_embedding(input_embedding):\n",
    "    \"\"\"\n",
    "    Initialize embedding\n",
    "    \"\"\"\n",
    "    bias = np.sqrt(3.0 / input_embedding.size(1))\n",
    "    nn.init.uniform_(input_embedding, -bias, bias)"
   ]
  },
  {
   "cell_type": "markdown",
   "metadata": {},
   "source": [
    "Similar to the initialization above, except this is for the linear layer."
   ]
  },
  {
   "cell_type": "code",
   "execution_count": 15,
   "metadata": {},
   "outputs": [],
   "source": [
    "def init_linear(input_linear):\n",
    "    \"\"\"\n",
    "    Initialize linear transformation\n",
    "    \"\"\"\n",
    "    bias = np.sqrt(6.0 / (input_linear.weight.size(0) + input_linear.weight.size(1)))\n",
    "    nn.init.uniform_(input_linear.weight, -bias, bias)\n",
    "    if input_linear.bias is not None:\n",
    "        input_linear.bias.data.zero_()"
   ]
  },
  {
   "cell_type": "markdown",
   "metadata": {},
   "source": [
    "This is the initialization scheme for the LSTM layers. \n",
    "\n",
    "The LSTM layers are initialized by uniform sampling from $-\\sqrt{\\frac{6}{r+c}}$ to $+\\sqrt{\\frac{6}{r+c}}$. Where $r$ is the number of rows, $c$ is the number of columns (based on the shape of the weight matrix)."
   ]
  },
  {
   "cell_type": "code",
   "execution_count": 16,
   "metadata": {},
   "outputs": [],
   "source": [
    "def init_lstm(input_lstm):\n",
    "    \"\"\"\n",
    "    Initialize lstm\n",
    "    \n",
    "    PyTorch weights parameters:\n",
    "    \n",
    "        weight_ih_l[k]: the learnable input-hidden weights of the k-th layer,\n",
    "            of shape `(hidden_size * input_size)` for `k = 0`. Otherwise, the shape is\n",
    "            `(hidden_size * hidden_size)`\n",
    "            \n",
    "        weight_hh_l[k]: the learnable hidden-hidden weights of the k-th layer,\n",
    "            of shape `(hidden_size * hidden_size)`            \n",
    "    \"\"\"\n",
    "    \n",
    "     #  Weights init for forward layer\n",
    "    for ind in range(0, input_lstm.num_layers):\n",
    "        \n",
    "         # # Gets the weights Tensor from our model, for the input-hidden weights in our current layer\n",
    "        weight = eval('input_lstm.weight_ih_l' + str(ind))\n",
    "        \n",
    "         #  Initialize the sampling range\n",
    "        sampling_range = np.sqrt(6.0 / (weight.size(0) / 4 + weight.size(1)))\n",
    "        \n",
    "         #  Randomly sample from our samping range using uniform distribution and apply it to our current layer\n",
    "        nn.init.uniform_(weight, -sampling_range, sampling_range)\n",
    "        \n",
    "         #  Similar to above but for the hidden-hidden weights of the current layer\n",
    "        weight = eval('input_lstm.weight_hh_l' + str(ind))\n",
    "        sampling_range = np.sqrt(6.0 / (weight.size(0) / 4 + weight.size(1)))\n",
    "        nn.init.uniform_(weight, -sampling_range, sampling_range)\n",
    "        \n",
    "        \n",
    "     #  We do the above again, for the backward layer if we are using a bi-directional LSTM (our final model uses this)\n",
    "    if input_lstm.bidirectional:\n",
    "        for ind in range(0, input_lstm.num_layers):\n",
    "            weight = eval('input_lstm.weight_ih_l' + str(ind) + '_reverse')\n",
    "            sampling_range = np.sqrt(6.0 / (weight.size(0) / 4 + weight.size(1)))\n",
    "            nn.init.uniform_(weight, -sampling_range, sampling_range)\n",
    "            weight = eval('input_lstm.weight_hh_l' + str(ind) + '_reverse')\n",
    "            sampling_range = np.sqrt(6.0 / (weight.size(0) / 4 + weight.size(1)))\n",
    "            nn.init.uniform_(weight, -sampling_range, sampling_range)\n",
    "\n",
    "     #  Bias initialization steps\n",
    "    \n",
    "     #  We initialize them to zero except for the forget gate bias, which is initialized to 1\n",
    "    if input_lstm.bias:\n",
    "        for ind in range(0, input_lstm.num_layers):\n",
    "            bias = eval('input_lstm.bias_ih_l' + str(ind))\n",
    "            \n",
    "             #  Initializing to zero\n",
    "            bias.data.zero_()\n",
    "            \n",
    "             #  This is the range of indices for our forget gates for each LSTM cell\n",
    "            bias.data[input_lstm.hidden_size: 2 * input_lstm.hidden_size] = 1\n",
    "            \n",
    "             # Similar for the hidden-hidden layer\n",
    "            bias = eval('input_lstm.bias_hh_l' + str(ind))\n",
    "            bias.data.zero_()\n",
    "            bias.data[input_lstm.hidden_size: 2 * input_lstm.hidden_size] = 1\n",
    "            \n",
    "         #  Similar to above, we do for backward layer if we are using a bi-directional LSTM \n",
    "        if input_lstm.bidirectional:\n",
    "            for ind in range(0, input_lstm.num_layers):\n",
    "                bias = eval('input_lstm.bias_ih_l' + str(ind) + '_reverse')\n",
    "                bias.data.zero_()\n",
    "                bias.data[input_lstm.hidden_size: 2 * input_lstm.hidden_size] = 1\n",
    "                bias = eval('input_lstm.bias_hh_l' + str(ind) + '_reverse')\n",
    "                bias.data.zero_()\n",
    "                bias.data[input_lstm.hidden_size: 2 * input_lstm.hidden_size] = 1"
   ]
  },
  {
   "attachments": {},
   "cell_type": "markdown",
   "metadata": {},
   "source": [
    "##### Output Layer\n",
    "\n",
    "In this tutorial, we use softmax to normalize the scores into a vector such that can be interpreted as the probability that the word belongs to class.\n",
    "Eventually, the probability of a sequence of tag $y$ is the product of all tags.\n",
    "\n",
    "Another type of output layer usually used in combination with LSTM is the linear-chain conditional random field (CRF).\n",
    "Its advantages over Softmax include:\n",
    "- Softmax doesn't value any dependencies, this is a problem since NER the context heavily influences the tag that is assigned.\n",
    "This is solved by applying CRF as it takes into account the full sequence to assign the tag. \n",
    "- *Example: I-ORG cannot directly follow I-PER.*\n"
   ]
  },
  {
   "cell_type": "markdown",
   "metadata": {},
   "source": [
    "### Details fo the Model"
   ]
  },
  {
   "cell_type": "markdown",
   "metadata": {},
   "source": [
    "##### 1. CNN model for generating character embeddings\n",
    "\n",
    "\n",
    "Consider the word 'cat', we pad it on both ends to get our maximum word length ( this is mainly an implementation quirk since we can't have variable length layers at run time, our algorithm will ignore the pads).\n",
    "\n",
    "We then apply a convolution layer on top that generates spatial coherence across characters, we use a maxpool to extract meaningful features out of our convolution layer. This now gives us a dense vector representation of each word. This representation will be concatenated with the pre-trained GloVe embeddings using a simple lookup.\n",
    "\n",
    "\n",
    "<img src = \"https://github.com/TheAnig/NER-LSTM-CNN-Pytorch/raw/master/images/cnn_model.png\"></img>\n",
    "<a href=\"http://www.aclweb.org/anthology/P16-1101\">Image Source</a>\n",
    "\n",
    "\n",
    "This snippet shows us how the CNN is implemented in pytorch\n",
    "\n",
    "`self.char_cnn3 = nn.Conv2d(in_channels=1, out_channels=self.out_channels, kernel_size=(3, char_embedding_dim), padding=(2,0))`\n",
    "\n",
    "##### 2. Rest of the model (LSTM based) that generates tags for the given sequence\n",
    "\n",
    "The word-embeddings( glove+char embedding ) that we generated above, we feed to a bi-directional LSTM model. The LSTM model has 2 layers, \n",
    "* The forward layer takes in a sequence of word vectors and generates a new vector based on what it has seen so far in the forward direction (starting from the start word up until current word) this vector can be thought of as a summary of all the words it has seen. \n",
    "\n",
    "* The backwards layer does the same but in opposite direction, i.e., from the end of the sentence to the current word.\n",
    "\n",
    "The forward vector and the backwards vector at current word concatanate to generate a unified representation.\n",
    "\n",
    "<img src = \"https://github.com/TheAnig/NER-LSTM-CNN-Pytorch/raw/master/images/lstm_model.png\"></img>\n",
    "<a href=\"http://www.aclweb.org/anthology/P16-1101\">Image Source</a>\n",
    "\n",
    "This snippet shows us how the BiLSTM is implemented in pytorch\n",
    "\n",
    "`self.lstm = nn.LSTM(embedding_dim+self.out_channels, hidden_dim, bidirectional=True)`\n",
    "\n",
    "Finally, we have a linear layer to map hidden vectors to tag space."
   ]
  },
  {
   "cell_type": "markdown",
   "metadata": {},
   "source": [
    "##### Main Model Implementation"
   ]
  },
  {
   "cell_type": "markdown",
   "metadata": {},
   "source": [
    "The get_lstm_features function returns the LSTM's tag vectors. The function performs all the steps mentioned above for the model.\n",
    "\n",
    "Steps:\n",
    "1. It takes in characters, converts them to embeddings using our character CNN.\n",
    "2. We concat Character Embeeding with glove vectors, use this as features that we feed to Bidirectional-LSTM. \n",
    "3. The Bidirectional-LSTM generates outputs based on these set of features.\n",
    "4. The output are passed through a linear layer to convert to tag space."
   ]
  },
  {
   "cell_type": "code",
   "execution_count": 17,
   "metadata": {},
   "outputs": [],
   "source": [
    "def get_lstm_features(self, sentence, chars):\n",
    "\n",
    "    # Character embedding\n",
    "    chars_embeds = self.char_embeds(chars).unsqueeze(1)\n",
    "\n",
    "    # # Creating Character level representation using Convolutional Neural Netowrk\n",
    "    # # followed by a Maxpooling Layer\n",
    "    chars_cnn_out3 = self.char_cnn3(chars_embeds)\n",
    "    chars_embeds = nn.functional.max_pool2d(chars_cnn_out3, kernel_size=(chars_cnn_out3.size(2), 1))\\\n",
    "        .view(chars_cnn_out3.size(0), self.out_channels)\n",
    "\n",
    "    # # Loading word embeddings\n",
    "    embeds = self.word_embeds(sentence)\n",
    "\n",
    "     # # We concatenate the word embeddings and the character level representation\n",
    "     # # to create unified representation for each word\n",
    "    embeds = torch.cat((embeds, chars_embeds), dim=1).unsqueeze(1)\n",
    "\n",
    "     # # Dropout on the unified embeddings\n",
    "    embeds = self.dropout(embeds)\n",
    "\n",
    "    # # Word lstm\n",
    "    # # Takes words as input and generates a output at each step\n",
    "    lstm_out, _ = self.lstm(embeds)\n",
    "\n",
    "    # # Reshaping the outputs from the lstm layer\n",
    "    lstm_out = lstm_out.view(len(sentence), self.hidden_dim*2)\n",
    "\n",
    "    # # Dropout on the lstm output\n",
    "    lstm_out = self.dropout(lstm_out)\n",
    "\n",
    "    # # Linear layer converts the ouput vectors to tag space\n",
    "    lstm_feats = self.hidden2tag(lstm_out)\n",
    "\n",
    "    return lstm_feats"
   ]
  },
  {
   "cell_type": "markdown",
   "metadata": {},
   "source": [
    "##### Funtion for Negative log likelihood calculation"
   ]
  },
  {
   "attachments": {},
   "cell_type": "markdown",
   "metadata": {},
   "source": [
    "This is a helper function that calculates the negative log likelihood. \n",
    "\n",
    "The functions takes as input the previously calulcated lstm features to use to calculate the sentence score and then perform a forward run score and compare it with our predicted score to generate a log likelihood. \n",
    "\n",
    "Implementation detail: Notice we do not pump out any log conversion in this function that is supposedly about log likelihood calculation, this is because we have ensured that we get the scores from our helper functions in the log domain."
   ]
  },
  {
   "cell_type": "code",
   "execution_count": 18,
   "metadata": {},
   "outputs": [],
   "source": [
    "def get_neg_log_likelihood(self, sentence, tags, chars):\n",
    "     #  sentence, tags is a list of ints\n",
    "     #  features is a 2D tensor, len(sentence) * self.tagset_size\n",
    "    feats = self._get_lstm_features(sentence, chars)\n",
    "    scores = nn.functional.cross_entropy(feats, tags)\n",
    "    return scores"
   ]
  },
  {
   "cell_type": "markdown",
   "metadata": {},
   "source": [
    "##### Main Model Class"
   ]
  },
  {
   "cell_type": "code",
   "execution_count": 19,
   "metadata": {},
   "outputs": [],
   "source": [
    "class BiLSTM_CRF(nn.Module):\n",
    "\n",
    "    def __init__(self,\n",
    "                 vocab_size,\n",
    "                 tag_to_ix,\n",
    "                 embedding_dim,\n",
    "                 hidden_dim,\n",
    "                 char_to_ix=None,\n",
    "                 pre_word_embeds=None,\n",
    "                 char_out_dimension=25,\n",
    "                 char_embedding_dim=25,\n",
    "                 use_gpu=False,\n",
    "                 dropout=0.1):\n",
    "        '''\n",
    "        Input parameters:\n",
    "                \n",
    "                vocab_size= Size of vocabulary (int)\n",
    "                tag_to_ix = Dictionary that maps NER tags to indices\n",
    "                embedding_dim = Dimension of word embeddings (int)\n",
    "                hidden_dim = The hidden dimension of the LSTM layer (int)\n",
    "                char_to_ix = Dictionary that maps characters to indices\n",
    "                pre_word_embeds = Numpy array which provides mapping from word embeddings to word indices\n",
    "                char_out_dimension = Output dimension from the CNN encoder for character\n",
    "                char_embedding_dim = Dimension of the character embeddings\n",
    "                use_gpu = defines availability of GPU, \n",
    "                    when True: CUDA function calls are made\n",
    "                    else: Normal CPU function calls are made\n",
    "                dropout: dropout retio\n",
    "        '''\n",
    "        \n",
    "        super(BiLSTM_CRF, self).__init__()\n",
    "        \n",
    "         # parameter initialization for the model\n",
    "        self.use_gpu = use_gpu\n",
    "        self.embedding_dim = embedding_dim\n",
    "        self.hidden_dim = hidden_dim\n",
    "        self.vocab_size = vocab_size\n",
    "        self.tag_to_ix = tag_to_ix\n",
    "        self.tagset_size = len(tag_to_ix)\n",
    "        self.out_channels = char_out_dimension\n",
    "\n",
    "        if char_embedding_dim is not None:\n",
    "            self.char_embedding_dim = char_embedding_dim\n",
    "            \n",
    "             # Initializing the character embedding layer\n",
    "            self.char_embeds = nn.Embedding(len(char_to_ix), char_embedding_dim)\n",
    "            init_embedding(self.char_embeds.weight)\n",
    "            \n",
    "             # Performing CNN encoding on the character embeddings\n",
    "            self.char_cnn3 = nn.Conv2d(in_channels=1, out_channels=self.out_channels, kernel_size=(3, char_embedding_dim), padding=(2,0))\n",
    "\n",
    "         # Creating Embedding layer with dimension of ( number of words * dimension of each word)\n",
    "        self.word_embeds = nn.Embedding(vocab_size, embedding_dim)\n",
    "        if pre_word_embeds is not None:\n",
    "             # Initializes the word embeddings with pretrained word embeddings\n",
    "            self.pre_word_embeds = True\n",
    "            self.word_embeds.weight = nn.Parameter(torch.FloatTensor(pre_word_embeds))\n",
    "        else:\n",
    "            self.pre_word_embeds = False\n",
    "    \n",
    "         # Initializing the dropout layer, with dropout specificed in parameters\n",
    "        self.dropout = nn.Dropout(dropout)\n",
    "        \n",
    "         # Lstm Layer:\n",
    "         # input dimension: word embedding dimension + character level representation\n",
    "         # bidirectional=True, specifies that we are using the bidirectional LSTM\n",
    "        self.lstm = nn.LSTM(embedding_dim+self.out_channels, hidden_dim, bidirectional=True)\n",
    "        \n",
    "         # Initializing the lstm layer using predefined function for initialization\n",
    "        init_lstm(self.lstm)\n",
    "        \n",
    "         #  Linear layer which maps the output of the bidirectional LSTM into tag space.\n",
    "        self.hidden2tag = nn.Linear(hidden_dim*2, self.tagset_size)\n",
    "        \n",
    "         # Initializing the linear layer using predefined function for initialization\n",
    "        init_linear(self.hidden2tag) \n",
    "\n",
    "     # assigning the functions, which we have defined earlier\n",
    "    _get_lstm_features = get_lstm_features\n",
    "    neg_log_likelihood = get_neg_log_likelihood\n",
    "\n",
    "    # define the forward function\n",
    "    def forward(self, sentence, chars):\n",
    "    \n",
    "        '''\n",
    "        The function calls viterbi decode and generates the \n",
    "        most probable sequence of tags for the sentence\n",
    "        '''\n",
    "    \n",
    "        # Get the emission scores from the BiLSTM\n",
    "        feats = self._get_lstm_features(sentence, chars)\n",
    "    \n",
    "        # Find the best path, given the features.\n",
    "        score, tag_seq = torch.max(feats, 1)\n",
    "        tag_seq = list(tag_seq.cpu().data)\n",
    "\n",
    "        return score, tag_seq"
   ]
  },
  {
   "cell_type": "code",
   "execution_count": 20,
   "metadata": {},
   "outputs": [
    {
     "name": "stdout",
     "output_type": "stream",
     "text": [
      "Model Initialized!!!\n"
     ]
    }
   ],
   "source": [
    "#creating the model using the Class defined above\n",
    "model = BiLSTM_CRF(vocab_size=len(word_to_id),\n",
    "                   tag_to_ix=tag_to_id,\n",
    "                   embedding_dim=args['word_dim'],\n",
    "                   hidden_dim=args['word_lstm_dim'],\n",
    "                   use_gpu=use_gpu,\n",
    "                   char_to_ix=char_to_id,\n",
    "                   pre_word_embeds=word_embeds)\n",
    "print(\"Model Initialized!!!\")"
   ]
  },
  {
   "cell_type": "code",
   "execution_count": 21,
   "metadata": {},
   "outputs": [],
   "source": [
    "if use_gpu:\n",
    "    model.cuda()"
   ]
  },
  {
   "cell_type": "markdown",
   "metadata": {},
   "source": [
    "##### Training Paramaters"
   ]
  },
  {
   "cell_type": "code",
   "execution_count": 52,
   "metadata": {},
   "outputs": [],
   "source": [
    "#Initializing the optimizer\n",
    "#The best results in the paper where achived using stochastic gradient descent (SGD) \n",
    "#learning rate=0.015 and momentum=0.9 \n",
    "#decay_rate=0.05 \n",
    "\n",
    "learning_rate = 0.015\n",
    "momentum = 0.9\n",
    "number_of_epochs = 5\n",
    "decay_rate = 0.05\n",
    "gradient_clip = 5.0\n",
    "optimizer = torch.optim.SGD(model.parameters(), lr=learning_rate, momentum=momentum)\n",
    "\n",
    "#variables which will used in training process\n",
    "losses = []  # list to store all losses\n",
    "loss = 0.0  # Loss Initializatoin\n",
    "best_dev_F = -1.0  #  Current best F-1 Score on Dev Set\n",
    "best_test_F = -1.0  #  Current best F-1 Score on Test Set\n",
    "best_train_F = -1.0  #  Current best F-1 Score on Train Set\n",
    "all_F = list()  #  List storing all the F-1 Scores\n",
    "eval_every = len(train_data)  #  Calculate F-1 Score after this many iterations\n",
    "plot_every = 2000  #  Store loss after this many iterations\n",
    "count = 0  # Counts the number of iterations"
   ]
  },
  {
   "cell_type": "markdown",
   "metadata": {},
   "source": [
    "### Evaluation"
   ]
  },
  {
   "cell_type": "markdown",
   "metadata": {},
   "source": [
    "##### Helper functions for evaluation"
   ]
  },
  {
   "cell_type": "code",
   "execution_count": 29,
   "metadata": {},
   "outputs": [],
   "source": [
    "def get_chunk_type(tok, idx_to_tag):\n",
    "    \"\"\"\n",
    "    The function takes in a chunk (\"B-PER\") and then splits it into the tag (PER) and its class (B)\n",
    "    as defined in BIOES\n",
    "    \n",
    "    Args:\n",
    "        tok: id of token, ex 4\n",
    "        idx_to_tag: dictionary {4: \"B-PER\", ...}\n",
    "\n",
    "    Returns:\n",
    "        tuple: \"B\", \"PER\"\n",
    "\n",
    "    \"\"\"\n",
    "    \n",
    "    tag_name = idx_to_tag[tok]\n",
    "    tag_class = tag_name.split('-')[0]\n",
    "    tag_type = tag_name.split('-')[-1]\n",
    "    return tag_class, tag_type"
   ]
  },
  {
   "cell_type": "code",
   "execution_count": 34,
   "metadata": {},
   "outputs": [],
   "source": [
    "def get_chunks(seq, tags):\n",
    "    \"\"\"Given a sequence of tags, group entities and their position\n",
    "\n",
    "    Args:\n",
    "        seq: [4, 4, 0, 0, ...] sequence of labels\n",
    "        tags: dict[\"O\"] = 4\n",
    "\n",
    "    Returns:\n",
    "        list of (chunk_type, chunk_start, chunk_end)\n",
    "\n",
    "    Example:\n",
    "        seq = [4, 5, 0, 3]\n",
    "        tags = {\"B-PER\": 4, \"I-PER\": 5, \"B-LOC\": 3}\n",
    "        result = [(\"PER\", 0, 2), (\"LOC\", 3, 4)]\n",
    "\n",
    "    \"\"\"\n",
    "    \n",
    "     #  We assume by default the tags lie outside a named entity\n",
    "    default = tags[\"O\"]\n",
    "    \n",
    "    idx_to_tag = {idx: tag for tag, idx in tags.items()}\n",
    "    \n",
    "    chunks = []\n",
    "    \n",
    "    chunk_type, chunk_start = None, None\n",
    "    for i, tok in enumerate(seq):\n",
    "        #  End of a chunk 1\n",
    "        if tok == default and chunk_type is not None:\n",
    "            #  Add a chunk.\n",
    "            chunk = (chunk_type, chunk_start, i)\n",
    "            chunks.append(chunk)\n",
    "            chunk_type, chunk_start = None, None\n",
    "\n",
    "        #  End of a chunk + start of a chunk!\n",
    "        elif tok != default:\n",
    "            tok_chunk_class, tok_chunk_type = get_chunk_type(tok, idx_to_tag)\n",
    "            if chunk_type is None:\n",
    "                #  Initialize chunk for each entity\n",
    "                chunk_type, chunk_start = tok_chunk_type, i\n",
    "            elif tok_chunk_type != chunk_type or tok_chunk_class == \"B\":\n",
    "                #  If chunk class is B, i.e., its a beginning of a new named entity\n",
    "                #  or, if the chunk type is different from the previous one, then we\n",
    "                #  start labelling it as a new entity\n",
    "                chunk = (chunk_type, chunk_start, i)\n",
    "                chunks.append(chunk)\n",
    "                chunk_type, chunk_start = tok_chunk_type, i\n",
    "        else:\n",
    "            pass\n",
    "\n",
    "    #  end condition\n",
    "    if chunk_type is not None:\n",
    "        chunk = (chunk_type, chunk_start, len(seq))\n",
    "        chunks.append(chunk)\n",
    "\n",
    "    return chunks"
   ]
  },
  {
   "cell_type": "code",
   "execution_count": 49,
   "metadata": {},
   "outputs": [],
   "source": [
    "def evaluating(model, datas, best_F, dataset=\"Train\"):\n",
    "    '''\n",
    "    The function takes as input the model, data and calcuates F-1 Score\n",
    "    It performs conditional updates\n",
    "     1) Flag to save the model\n",
    "     2) Best F-1 score\n",
    "    ,if the F-1 score calculated improves on the previous F-1 score\n",
    "    '''\n",
    "     #  Initializations\n",
    "    save = False  #  Flag that tells us if the model needs to be saved\n",
    "    new_F = 0.0  #  Variable to store the current F1-Score (may not be the best)\n",
    "    correct_preds, total_correct, total_preds = 0., 0., 0.  #  Count variables\n",
    "\n",
    "    print('[Evaluation]')\n",
    "    for data in tqdm(datas):\n",
    "        ground_truth_id = data['tags']\n",
    "        chars2 = data['chars']\n",
    "\n",
    "        #  Padding the each word to max word size of that sentence\n",
    "        chars2_length = [len(c) for c in chars2]\n",
    "        char_maxl = max(chars2_length)\n",
    "        chars2_mask = np.zeros((len(chars2_length), char_maxl), dtype='int')\n",
    "        for i, c in enumerate(chars2):\n",
    "            chars2_mask[i, :chars2_length[i]] = c\n",
    "        chars2_mask = Variable(torch.LongTensor(chars2_mask))\n",
    "\n",
    "        dwords = Variable(torch.LongTensor(data['words']))\n",
    "\n",
    "         #  We are getting the predicted output from our model\n",
    "        if use_gpu:\n",
    "            _, out = model(dwords.cuda(), chars2_mask.cuda())\n",
    "        else:\n",
    "            _, out = model(dwords, chars2_mask)\n",
    "        predicted_id = [idx.item() for idx in out]\n",
    "\n",
    "        #  We use the get chunks function defined above to get the true chunks\n",
    "        #  and the predicted chunks from true labels and predicted labels respectively\n",
    "        lab_chunks      = set(get_chunks(ground_truth_id, tag_to_id))\n",
    "        lab_pred_chunks = set(get_chunks(predicted_id, tag_to_id))\n",
    "\n",
    "        #  Updating the count variables\n",
    "        correct_preds += len(lab_chunks & lab_pred_chunks)\n",
    "        total_preds   += len(lab_pred_chunks)\n",
    "        total_correct += len(lab_chunks)\n",
    "\n",
    "     #  Calculating the F1-Score\n",
    "    p   = correct_preds / total_preds if correct_preds > 0 else 0\n",
    "    r   = correct_preds / total_correct if correct_preds > 0 else 0\n",
    "    new_F  = 2 * p * r / (p + r) if correct_preds > 0 else 0\n",
    "\n",
    "    print(\"{}: new_F: {} best_F: {} \".format(dataset, new_F, best_F))\n",
    "\n",
    "     #  If our current F1-Score is better than the previous best, we update the best\n",
    "     #  to current F1 and we set the flag to indicate that we need to checkpoint this model\n",
    "\n",
    "    if new_F > best_F:\n",
    "        best_F = new_F\n",
    "        save = True\n",
    "\n",
    "    return best_F, new_F, save"
   ]
  },
  {
   "cell_type": "markdown",
   "metadata": {},
   "source": [
    "##### Helper function for performing Learning rate decay"
   ]
  },
  {
   "cell_type": "code",
   "execution_count": 36,
   "metadata": {},
   "outputs": [],
   "source": [
    "def adjust_learning_rate(optimizer, lr):\n",
    "    \"\"\"\n",
    "    shrink learning rate\n",
    "    \"\"\"\n",
    "    for param_group in optimizer.param_groups:\n",
    "        param_group['lr'] = lr"
   ]
  },
  {
   "cell_type": "markdown",
   "metadata": {},
   "source": [
    "### Training Step"
   ]
  },
  {
   "attachments": {},
   "cell_type": "markdown",
   "metadata": {},
   "source": [
    "If `parameters['reload']` is set, we already have a model to load of off, so we can skip the training.\n",
    "We have originally specified a pre-trained model since training is an expensive process, but we encourage readers to try this out once they're done with the tutorial.\n",
    "\n",
    "Notice that this example uses stochastic gradient descent with no batching.\n",
    "**This is bad practice.**\n",
    "It results in waste of computation resource and relatively unstable training process.\n",
    "PyTorch datasets and models are also designed to be trained in batch.\n",
    "You should always train your models with batched data in practice.\n",
    "\n",
    "For a (relatively more) formal implementation of the LSTM-CRF model and training the model with batched data, you can refer to [this repo](https://github.com/Yinghao-Li/SupervisedNER) (also with `wandb` for training status monitoring, but unannotated)."
   ]
  },
  {
   "cell_type": "code",
   "execution_count": 51,
   "metadata": {},
   "outputs": [
    {
     "name": "stdout",
     "output_type": "stream",
     "text": [
      "[Epoch 0]\n"
     ]
    },
    {
     "data": {
      "application/vnd.jupyter.widget-view+json": {
       "model_id": "b732905fb98d474aa61f5767870b13a3",
       "version_major": 2,
       "version_minor": 0
      },
      "text/plain": [
       "  0%|          | 0/14041 [00:00<?, ?it/s]"
      ]
     },
     "metadata": {},
     "output_type": "display_data"
    },
    {
     "name": "stdout",
     "output_type": "stream",
     "text": [
      "2000 :  0.004135122453379485\n",
      "4000 :  0.003045238210593582\n",
      "6000 :  0.003235383934198727\n",
      "8000 :  0.005122574703823977\n",
      "10000 :  0.0037125269382747594\n",
      "12000 :  0.0039194866480012774\n",
      "14000 :  0.002970461088603627\n",
      "[Evaluation]\n"
     ]
    },
    {
     "data": {
      "application/vnd.jupyter.widget-view+json": {
       "model_id": "5837a3fe089d46faae0737972bd9bc3d",
       "version_major": 2,
       "version_minor": 0
      },
      "text/plain": [
       "  0%|          | 0/3250 [00:00<?, ?it/s]"
      ]
     },
     "metadata": {},
     "output_type": "display_data"
    },
    {
     "name": "stdout",
     "output_type": "stream",
     "text": [
      "Dev: new_F: 0.8756227167054135 best_F: -1.0 \n",
      "Saving Model to  ./models/self-trained-model\n",
      "[Epoch 1]\n"
     ]
    },
    {
     "data": {
      "application/vnd.jupyter.widget-view+json": {
       "model_id": "b9a65d093eae453e945a78dd29b3c3ad",
       "version_major": 2,
       "version_minor": 0
      },
      "text/plain": [
       "  0%|          | 0/14041 [00:00<?, ?it/s]"
      ]
     },
     "metadata": {},
     "output_type": "display_data"
    },
    {
     "name": "stdout",
     "output_type": "stream",
     "text": [
      "16000 :  0.002718712996897037\n",
      "18000 :  0.0020489558989192852\n",
      "20000 :  0.002730672256349012\n",
      "22000 :  0.0024141069689381676\n",
      "24000 :  0.0022730897092740126\n",
      "26000 :  0.002657378973527973\n",
      "28000 :  0.002210385241169689\n",
      "[Evaluation]\n"
     ]
    },
    {
     "data": {
      "application/vnd.jupyter.widget-view+json": {
       "model_id": "aedc4afc763745ccb95587b1737c9c5d",
       "version_major": 2,
       "version_minor": 0
      },
      "text/plain": [
       "  0%|          | 0/3250 [00:00<?, ?it/s]"
      ]
     },
     "metadata": {},
     "output_type": "display_data"
    },
    {
     "name": "stdout",
     "output_type": "stream",
     "text": [
      "Dev: new_F: 0.8846599371173259 best_F: 0.8756227167054135 \n",
      "Saving Model to  ./models/self-trained-model\n",
      "[Epoch 2]\n"
     ]
    },
    {
     "data": {
      "application/vnd.jupyter.widget-view+json": {
       "model_id": "f77a3e18b0d6432abfc97af357957930",
       "version_major": 2,
       "version_minor": 0
      },
      "text/plain": [
       "  0%|          | 0/14041 [00:00<?, ?it/s]"
      ]
     },
     "metadata": {},
     "output_type": "display_data"
    },
    {
     "name": "stdout",
     "output_type": "stream",
     "text": [
      "30000 :  0.0020031995552588673\n",
      "32000 :  0.00140047321152302\n",
      "34000 :  0.0017967389758296586\n",
      "36000 :  0.0018244125434712696\n",
      "38000 :  0.001509135896878114\n",
      "40000 :  0.0014881135090573207\n",
      "42000 :  0.0012155722103242789\n",
      "[Evaluation]\n"
     ]
    },
    {
     "data": {
      "application/vnd.jupyter.widget-view+json": {
       "model_id": "f70420644be54dffba7bf76eb9b91b8a",
       "version_major": 2,
       "version_minor": 0
      },
      "text/plain": [
       "  0%|          | 0/3250 [00:00<?, ?it/s]"
      ]
     },
     "metadata": {},
     "output_type": "display_data"
    },
    {
     "name": "stdout",
     "output_type": "stream",
     "text": [
      "Dev: new_F: 0.8934582538761296 best_F: 0.8846599371173259 \n",
      "Saving Model to  ./models/self-trained-model\n",
      "[Epoch 3]\n"
     ]
    },
    {
     "data": {
      "application/vnd.jupyter.widget-view+json": {
       "model_id": "0ad0cfc8f9f04a53a75a2f2049d0ee8a",
       "version_major": 2,
       "version_minor": 0
      },
      "text/plain": [
       "  0%|          | 0/14041 [00:00<?, ?it/s]"
      ]
     },
     "metadata": {},
     "output_type": "display_data"
    },
    {
     "ename": "KeyboardInterrupt",
     "evalue": "",
     "output_type": "error",
     "traceback": [
      "\u001b[0;31m---------------------------------------------------------------------------\u001b[0m",
      "\u001b[0;31mKeyboardInterrupt\u001b[0m                         Traceback (most recent call last)",
      "\u001b[1;32m/localscratch/yli/BiLSTM-CRF/notebook/Named_Entity_Recognition-LSTM-CNN-CRF-Tutorial.ipynb Cell 70\u001b[0m in \u001b[0;36m<module>\u001b[0;34m\u001b[0m\n\u001b[1;32m     <a href='vscode-notebook-cell://ssh-remote%2Bdmserv2.cc.gatech.edu/localscratch/yli/BiLSTM-CRF/notebook/Named_Entity_Recognition-LSTM-CNN-CRF-Tutorial.ipynb#Y126sdnNjb2RlLXJlbW90ZQ%3D%3D?line=30'>31</a>\u001b[0m     neg_log_likelihood \u001b[39m=\u001b[39m model\u001b[39m.\u001b[39mneg_log_likelihood(sentence_in, targets, chars2_mask)\n\u001b[1;32m     <a href='vscode-notebook-cell://ssh-remote%2Bdmserv2.cc.gatech.edu/localscratch/yli/BiLSTM-CRF/notebook/Named_Entity_Recognition-LSTM-CNN-CRF-Tutorial.ipynb#Y126sdnNjb2RlLXJlbW90ZQ%3D%3D?line=31'>32</a>\u001b[0m loss \u001b[39m+\u001b[39m\u001b[39m=\u001b[39m neg_log_likelihood\u001b[39m.\u001b[39mitem() \u001b[39m/\u001b[39m \u001b[39mlen\u001b[39m(data[\u001b[39m'\u001b[39m\u001b[39mwords\u001b[39m\u001b[39m'\u001b[39m])\n\u001b[0;32m---> <a href='vscode-notebook-cell://ssh-remote%2Bdmserv2.cc.gatech.edu/localscratch/yli/BiLSTM-CRF/notebook/Named_Entity_Recognition-LSTM-CNN-CRF-Tutorial.ipynb#Y126sdnNjb2RlLXJlbW90ZQ%3D%3D?line=32'>33</a>\u001b[0m neg_log_likelihood\u001b[39m.\u001b[39;49mbackward()\n\u001b[1;32m     <a href='vscode-notebook-cell://ssh-remote%2Bdmserv2.cc.gatech.edu/localscratch/yli/BiLSTM-CRF/notebook/Named_Entity_Recognition-LSTM-CNN-CRF-Tutorial.ipynb#Y126sdnNjb2RlLXJlbW90ZQ%3D%3D?line=34'>35</a>\u001b[0m  \u001b[39m# we use gradient clipping to avoid exploding gradients\u001b[39;00m\n\u001b[1;32m     <a href='vscode-notebook-cell://ssh-remote%2Bdmserv2.cc.gatech.edu/localscratch/yli/BiLSTM-CRF/notebook/Named_Entity_Recognition-LSTM-CNN-CRF-Tutorial.ipynb#Y126sdnNjb2RlLXJlbW90ZQ%3D%3D?line=35'>36</a>\u001b[0m torch\u001b[39m.\u001b[39mnn\u001b[39m.\u001b[39mutils\u001b[39m.\u001b[39mclip_grad_norm_(model\u001b[39m.\u001b[39mparameters(), gradient_clip)\n",
      "File \u001b[0;32m/localscratch/yli/miniconda/envs/py39/lib/python3.9/site-packages/torch/_tensor.py:396\u001b[0m, in \u001b[0;36mTensor.backward\u001b[0;34m(self, gradient, retain_graph, create_graph, inputs)\u001b[0m\n\u001b[1;32m    387\u001b[0m \u001b[39mif\u001b[39;00m has_torch_function_unary(\u001b[39mself\u001b[39m):\n\u001b[1;32m    388\u001b[0m     \u001b[39mreturn\u001b[39;00m handle_torch_function(\n\u001b[1;32m    389\u001b[0m         Tensor\u001b[39m.\u001b[39mbackward,\n\u001b[1;32m    390\u001b[0m         (\u001b[39mself\u001b[39m,),\n\u001b[0;32m   (...)\u001b[0m\n\u001b[1;32m    394\u001b[0m         create_graph\u001b[39m=\u001b[39mcreate_graph,\n\u001b[1;32m    395\u001b[0m         inputs\u001b[39m=\u001b[39minputs)\n\u001b[0;32m--> 396\u001b[0m torch\u001b[39m.\u001b[39;49mautograd\u001b[39m.\u001b[39;49mbackward(\u001b[39mself\u001b[39;49m, gradient, retain_graph, create_graph, inputs\u001b[39m=\u001b[39;49minputs)\n",
      "File \u001b[0;32m/localscratch/yli/miniconda/envs/py39/lib/python3.9/site-packages/torch/autograd/__init__.py:173\u001b[0m, in \u001b[0;36mbackward\u001b[0;34m(tensors, grad_tensors, retain_graph, create_graph, grad_variables, inputs)\u001b[0m\n\u001b[1;32m    168\u001b[0m     retain_graph \u001b[39m=\u001b[39m create_graph\n\u001b[1;32m    170\u001b[0m \u001b[39m# The reason we repeat same the comment below is that\u001b[39;00m\n\u001b[1;32m    171\u001b[0m \u001b[39m# some Python versions print out the first line of a multi-line function\u001b[39;00m\n\u001b[1;32m    172\u001b[0m \u001b[39m# calls in the traceback and some print out the last line\u001b[39;00m\n\u001b[0;32m--> 173\u001b[0m Variable\u001b[39m.\u001b[39;49m_execution_engine\u001b[39m.\u001b[39;49mrun_backward(  \u001b[39m# Calls into the C++ engine to run the backward pass\u001b[39;49;00m\n\u001b[1;32m    174\u001b[0m     tensors, grad_tensors_, retain_graph, create_graph, inputs,\n\u001b[1;32m    175\u001b[0m     allow_unreachable\u001b[39m=\u001b[39;49m\u001b[39mTrue\u001b[39;49;00m, accumulate_grad\u001b[39m=\u001b[39;49m\u001b[39mTrue\u001b[39;49;00m)\n",
      "\u001b[0;31mKeyboardInterrupt\u001b[0m: "
     ]
    }
   ],
   "source": [
    "\n",
    "model.train()\n",
    "\n",
    "for epoch in range(number_of_epochs):\n",
    "    print(f\"[Training Epoch {epoch}]\")\n",
    "    for i, index in enumerate(tqdm(np.random.permutation(len(train_data)))):\n",
    "        count += 1\n",
    "        data = train_data[index]\n",
    "\n",
    "        # #gradient updates for each data entry\n",
    "        model.zero_grad()\n",
    "\n",
    "        sentence_in = data['words']\n",
    "        sentence_in = torch.tensor(sentence_in, dtype=torch.long)\n",
    "        tags = data['tags']\n",
    "        chars2 = data['chars']\n",
    "\n",
    "        # # Padding the each word to max word size of that sentence\n",
    "        chars2_length = [len(c) for c in chars2]\n",
    "        char_maxl = max(chars2_length)\n",
    "        chars2_mask = np.zeros((len(chars2_length), char_maxl), dtype='int')\n",
    "        for i, c in enumerate(chars2):\n",
    "            chars2_mask[i, :chars2_length[i]] = c\n",
    "        chars2_mask = torch.tensor(chars2_mask, dtype=torch.long)\n",
    "\n",
    "        targets = torch.LongTensor(tags)\n",
    "\n",
    "        # we calculate the negative log-likelihood for the predicted tags using the predefined function\n",
    "        if use_gpu:\n",
    "            neg_log_likelihood = model.neg_log_likelihood(sentence_in.cuda(), targets.cuda(), chars2_mask.cuda())\n",
    "        else:\n",
    "            neg_log_likelihood = model.neg_log_likelihood(sentence_in, targets, chars2_mask)\n",
    "        loss += neg_log_likelihood.item() / len(data['words'])\n",
    "        neg_log_likelihood.backward()\n",
    "\n",
    "         # we use gradient clipping to avoid exploding gradients\n",
    "        torch.nn.utils.clip_grad_norm_(model.parameters(), gradient_clip)\n",
    "        optimizer.step()\n",
    "\n",
    "         # Storing loss\n",
    "        if count % plot_every == 0:\n",
    "            loss /= plot_every\n",
    "            print(count, ': ', loss)\n",
    "            if losses == []:\n",
    "                losses.append(loss)\n",
    "            losses.append(loss)\n",
    "            loss = 0.0\n",
    "\n",
    "    # Calculate model performance after each batch\n",
    "    model.eval()\n",
    "    best_dev_F, new_dev_F, save = evaluating(model, dev_data, best_dev_F, \"Dev\")\n",
    "    if save:\n",
    "        print(\"Saving Model to \", model_name)\n",
    "        torch.save(model.state_dict(), model_name)\n",
    "\n",
    "    all_F.append(new_dev_F)\n",
    "    model.train()\n",
    "\n",
    "    # Performing decay on the learning rate\n",
    "    adjust_learning_rate(optimizer, lr=learning_rate/(1+decay_rate*count/len(train_data)))\n",
    "\n",
    "plt.plot(losses)\n",
    "plt.show()\n",
    "\n",
    "model.load_state_dict(torch.load(model_name))"
   ]
  },
  {
   "cell_type": "markdown",
   "metadata": {},
   "source": [
    "### Model Testing\n",
    "\n",
    "This is where we provide our readers with some fun, they can try out how the trained model functions on the sentences that you throw at it. Feel free to play around.\n",
    "\n",
    "\n",
    "##### LIVE: PRODUCTION!"
   ]
  },
  {
   "cell_type": "code",
   "execution_count": 55,
   "metadata": {},
   "outputs": [
    {
     "name": "stdout",
     "output_type": "stream",
     "text": [
      "Prediction:\n",
      "word : tag\n",
      "Jay : PER\n",
      "is : NA\n",
      "from : NA\n",
      "India : LOC\n",
      "\n",
      "\n",
      "Donald : PER\n",
      "is : NA\n",
      "the : NA\n",
      "president : NA\n",
      "of : NA\n",
      "USA : LOC\n",
      "\n",
      "\n"
     ]
    }
   ],
   "source": [
    "model_testing_sentences = ['Jay is from India','Donald is the president of USA']\n",
    "\n",
    "#parameters\n",
    "lower=args['lower']\n",
    "\n",
    "#preprocessing\n",
    "final_test_data = []\n",
    "for sentence in model_testing_sentences:\n",
    "    s=sentence.split()\n",
    "    str_words = [w for w in s]\n",
    "    words = [word_to_id[lower_case(w,lower) if lower_case(w,lower) in word_to_id else '<UNK>'] for w in str_words]\n",
    "    \n",
    "     #  Skip characters that are not in the training set\n",
    "    chars = [[char_to_id[c] for c in w if c in char_to_id] for w in str_words]\n",
    "    \n",
    "    final_test_data.append({\n",
    "        'str_words': str_words,\n",
    "        'words': words,\n",
    "        'chars': chars,\n",
    "    })\n",
    "\n",
    "#prediction\n",
    "predictions = []\n",
    "print(\"Prediction:\")\n",
    "print(\"word : tag\")\n",
    "for data in final_test_data:\n",
    "    words = data['str_words']\n",
    "    chars2 = data['chars']\n",
    "\n",
    "    #  Padding the each word to max word size of that sentence\n",
    "    chars2_length = [len(c) for c in chars2]\n",
    "    char_maxl = max(chars2_length)\n",
    "    chars2_mask = np.zeros((len(chars2_length), char_maxl), dtype='int')\n",
    "    for i, c in enumerate(chars2):\n",
    "        chars2_mask[i, :chars2_length[i]] = c\n",
    "    chars2_mask = torch.tensor(chars2_mask, dtype=torch.long)\n",
    "    dwords = torch.tensor(data['words'], dtype=torch.long)\n",
    "\n",
    "    #  We are getting the predicted output from our model\n",
    "    if use_gpu:\n",
    "        _, predicted_id = model(dwords.cuda(), chars2_mask.cuda())\n",
    "    else:\n",
    "        _, predicted_id = model(dwords, chars2_mask)\n",
    "\n",
    "    pred_chunks = get_chunks([idx.item() for idx in predicted_id], tag_to_id)\n",
    "    temp_list_tags=['NA']*len(words)\n",
    "    for p in pred_chunks:\n",
    "        temp_list_tags[p[1]]=p[0]\n",
    "        \n",
    "    for word,tag in zip(words,temp_list_tags):\n",
    "        print(word, ':', tag)\n",
    "    print('\\n')"
   ]
  },
  {
   "cell_type": "markdown",
   "metadata": {},
   "source": [
    "### References"
   ]
  },
  {
   "cell_type": "markdown",
   "metadata": {},
   "source": [
    "1) Xuezhe Ma and Eduard Hovy. 2016. ** End-to-end Sequence Labeling via Bi-directional LSTM-CNNs-CRF .** In Proceedings of the 54th Annual Meeting of the Association for Computational Linguistics (Volume 1: LongPapers). Association for Computational Linguistics, Berlin, Germany ** (https://arxiv.org/pdf/1603.01354.pdf) **\n",
    "\n",
    "2) Official PyTorch Tutorial : [** Advanced: Making Dynamic Decisions and the Bi-LSTM CRF **](http://pytorch.org/tutorials/beginner/nlp/advanced_tutorial.html#sphx-glr-beginner-nlp-advanced-tutorial-py)\n",
    "\n",
    "3) [** Sequence Tagging with Tensorflow **](https://guillaumegenthial.github.io/sequence-tagging-with-tensorflow.html)  using bi-LSTM + CRF with character embeddings for NER and POS by Guillaume Genthial\n",
    "\n",
    "4) Github Repository - [** Reference Github Repository **](https://github.com/jayavardhanr/End-to-end-Sequence-Labeling-via-Bi-directional-LSTM-CNNs-CRF-Tutorial)\n"
   ]
  }
 ],
 "metadata": {
  "kernelspec": {
   "display_name": "py39",
   "language": "python",
   "name": "python3"
  },
  "language_info": {
   "codemirror_mode": {
    "name": "ipython",
    "version": 3
   },
   "file_extension": ".py",
   "mimetype": "text/x-python",
   "name": "python",
   "nbconvert_exporter": "python",
   "pygments_lexer": "ipython3",
   "version": "3.9.7"
  },
  "vscode": {
   "interpreter": {
    "hash": "5d00f8952959be9fb2f977b85902a6101fd652db9820ce2b143b005325f5b1ea"
   }
  }
 },
 "nbformat": 4,
 "nbformat_minor": 2
}
