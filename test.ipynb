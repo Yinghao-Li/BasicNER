{
 "cells": [
  {
   "cell_type": "code",
   "execution_count": 74,
   "metadata": {},
   "outputs": [],
   "source": [
    "import json\n",
    "import torch\n",
    "import itertools\n",
    "import operator\n",
    "from dataclasses import dataclass\n",
    "from transformers import AutoTokenizer, AutoModel\n",
    "from seqlbtoolkit.embs import build_bert_token_embeddings\n",
    "from seqlbtoolkit.text import split_overlength_bert_input_sequence\n",
    "\n",
    "from tokenizations import get_alignments\n"
   ]
  },
  {
   "cell_type": "code",
   "execution_count": 75,
   "metadata": {},
   "outputs": [],
   "source": [
    "tokenizer = AutoTokenizer.from_pretrained('roberta-base', add_prefix_space=True)\n",
    "# model = AutoModel.from_pretrained('bert-base-uncased')\n"
   ]
  },
  {
   "cell_type": "code",
   "execution_count": 85,
   "outputs": [],
   "source": [
    "tks = 'I have an apple.'.split()\n",
    "\n",
    "enc_tks = tokenizer([['a', 'b'], ['a', 'b']], add_special_tokens=True, is_split_into_words=True)\n"
   ],
   "metadata": {
    "collapsed": false
   }
  },
  {
   "cell_type": "code",
   "execution_count": 23,
   "outputs": [
    {
     "data": {
      "text/plain": "([[1], [2], [3], [4, 5]], [[], [0], [1], [2], [3], [3], []])"
     },
     "execution_count": 23,
     "metadata": {},
     "output_type": "execute_result"
    }
   ],
   "source": [
    "get_alignments(tks, enc_tks)"
   ],
   "metadata": {
    "collapsed": false
   }
  },
  {
   "cell_type": "code",
   "execution_count": 19,
   "outputs": [],
   "source": [
    "tokenizer = AutoTokenizer.from_pretrained('bert-base-uncased', add_prefix_space=True)\n"
   ],
   "metadata": {
    "collapsed": false
   }
  },
  {
   "cell_type": "code",
   "execution_count": 28,
   "outputs": [
    {
     "data": {
      "text/plain": "['[CLS]', 'i', 'have', 'an', 'apple', '.', '[SEP]']"
     },
     "execution_count": 28,
     "metadata": {},
     "output_type": "execute_result"
    }
   ],
   "source": [
    "tokenizer.convert_ids_to_tokens(tks.input_ids)"
   ],
   "metadata": {
    "collapsed": false
   }
  },
  {
   "cell_type": "code",
   "execution_count": 50,
   "outputs": [
    {
     "data": {
      "text/plain": "{'input_ids': [[101, 1045, 2031, 2019, 6207, 1012, 0, 102], [101, 1045, 2031, 2498, 102]], 'token_type_ids': [[0, 0, 0, 0, 0, 0, 0, 0], [0, 0, 0, 0, 0]], 'attention_mask': [[1, 1, 1, 1, 1, 1, 1, 1], [1, 1, 1, 1, 1]]}"
     },
     "execution_count": 50,
     "metadata": {},
     "output_type": "execute_result"
    }
   ],
   "source": [
    "tks = tokenizer(['I have an apple. [PAD]', 'I have nothing'], add_special_tokens=True)\n",
    "tks"
   ],
   "metadata": {
    "collapsed": false
   }
  },
  {
   "cell_type": "code",
   "execution_count": 71,
   "outputs": [],
   "source": [
    "d = {'input_ids': [[101, 1045, 2031, 2019, 6207, 1012, 0, 102], [101, 1045, 2031, 2498, 102]], 'attention_mask': [[1, 1, 1, 1, 1, 1, 1, 1], [1, 1, 1, 1, 1]], 'labels':[[1, 1, 1, 1, 1, 1, 1, 1], [1, 1, 1, 1, 1]]}"
   ],
   "metadata": {
    "collapsed": false
   }
  },
  {
   "cell_type": "code",
   "execution_count": 73,
   "outputs": [
    {
     "data": {
      "text/plain": "transformers.tokenization_utils_base.BatchEncoding"
     },
     "execution_count": 73,
     "metadata": {},
     "output_type": "execute_result"
    }
   ],
   "source": [
    "type(tokenizer.pad(d))"
   ],
   "metadata": {
    "collapsed": false
   }
  },
  {
   "cell_type": "code",
   "execution_count": 34,
   "outputs": [],
   "source": [
    "x = torch.full((10, ), -100)"
   ],
   "metadata": {
    "collapsed": false
   }
  },
  {
   "cell_type": "code",
   "execution_count": 36,
   "outputs": [],
   "source": [
    "x[[2,3,5,6]] = torch.tensor([1,2,3,4])"
   ],
   "metadata": {
    "collapsed": false
   }
  },
  {
   "cell_type": "code",
   "execution_count": 38,
   "outputs": [],
   "source": [
    "x[[2,3,5,6]] = 0"
   ],
   "metadata": {
    "collapsed": false
   }
  },
  {
   "cell_type": "code",
   "execution_count": 39,
   "outputs": [
    {
     "data": {
      "text/plain": "tensor([-100, -100,    0,    0, -100,    0,    0, -100, -100, -100])"
     },
     "execution_count": 39,
     "metadata": {},
     "output_type": "execute_result"
    }
   ],
   "source": [
    "x"
   ],
   "metadata": {
    "collapsed": false
   }
  },
  {
   "cell_type": "code",
   "execution_count": 20,
   "outputs": [
    {
     "data": {
      "text/plain": "['[CLS]', 'i', 'have', 'an', 'apple', '.', '[SEP]']"
     },
     "execution_count": 20,
     "metadata": {},
     "output_type": "execute_result"
    }
   ],
   "source": [
    "tokenizer.tokenize('I have an apple.', add_special_tokens=True)"
   ],
   "metadata": {
    "collapsed": false
   }
  },
  {
   "cell_type": "code",
   "execution_count": 2,
   "metadata": {},
   "outputs": [],
   "source": [
    "with open('a.json', 'r', encoding='utf-8') as f:\n",
    "    text_seq = json.load(f)"
   ]
  },
  {
   "cell_type": "code",
   "execution_count": 6,
   "metadata": {},
   "outputs": [],
   "source": [
    "encs = tokenizer(text_seq,\n",
    "                 is_split_into_words=True,\n",
    "                 add_special_tokens=True,\n",
    "                 return_offsets_mapping=True)\n"
   ]
  },
  {
   "cell_type": "code",
   "execution_count": 28,
   "metadata": {},
   "outputs": [],
   "source": [
    "max_seq_length = 512\n",
    "tk_seq_list = [text_seq]\n",
    "sent_lengths_list = [None]\n",
    "\n",
    "split_tk_seq_list = list()\n",
    "ori2split_ids_map = list()\n",
    "n = 0\n",
    "\n",
    "# update input sentences so that every sentence has BERT length < 510\n",
    "for tk_seq, sent_lens in zip(tk_seq_list, sent_lengths_list):\n",
    "\n",
    "    if sent_lens:\n",
    "        ends = list(itertools.accumulate(sent_lens, operator.add))\n",
    "        starts = [0] + ends[:-1]\n",
    "        tk_seq_ = [tk_seq[s:e] for s, e in zip(starts, ends)]\n",
    "    else:\n",
    "        tk_seq_ = [tk_seq]\n",
    "\n",
    "    tk_seqs = split_overlength_bert_input_sequence(tk_seq_, tokenizer, max_seq_length)\n",
    "    n_splits = len(tk_seqs)\n",
    "    split_tk_seq_list += tk_seqs\n",
    "\n",
    "    ori2split_ids_map.append(list(range(n, n + n_splits)))\n",
    "    n += n_splits\n"
   ]
  },
  {
   "cell_type": "code",
   "execution_count": 20,
   "metadata": {},
   "outputs": [
    {
     "data": {
      "text/plain": [
       "367"
      ]
     },
     "execution_count": 20,
     "metadata": {},
     "output_type": "execute_result"
    }
   ],
   "source": [
    "len(split_tk_seq_list[0])"
   ]
  },
  {
   "cell_type": "code",
   "execution_count": 21,
   "metadata": {},
   "outputs": [
    {
     "data": {
      "text/plain": [
       "366"
      ]
     },
     "execution_count": 21,
     "metadata": {},
     "output_type": "execute_result"
    }
   ],
   "source": [
    "len(text_seq)"
   ]
  },
  {
   "cell_type": "code",
   "execution_count": 23,
   "metadata": {},
   "outputs": [
    {
     "data": {
      "text/plain": [
       "366"
      ]
     },
     "execution_count": 23,
     "metadata": {},
     "output_type": "execute_result"
    }
   ],
   "source": [
    "len(tk_seq)"
   ]
  },
  {
   "cell_type": "code",
   "execution_count": 29,
   "metadata": {},
   "outputs": [
    {
     "data": {
      "text/plain": [
       "366"
      ]
     },
     "execution_count": 29,
     "metadata": {},
     "output_type": "execute_result"
    }
   ],
   "source": [
    "len(tk_seqs[0])"
   ]
  },
  {
   "cell_type": "code",
   "execution_count": null,
   "metadata": {},
   "outputs": [],
   "source": []
  }
 ],
 "metadata": {
  "kernelspec": {
   "display_name": "py39",
   "language": "python",
   "name": "python3"
  },
  "language_info": {
   "codemirror_mode": {
    "name": "ipython",
    "version": 3
   },
   "file_extension": ".py",
   "mimetype": "text/x-python",
   "name": "python",
   "nbconvert_exporter": "python",
   "pygments_lexer": "ipython3",
   "version": "3.9.7"
  },
  "orig_nbformat": 4,
  "vscode": {
   "interpreter": {
    "hash": "5d00f8952959be9fb2f977b85902a6101fd652db9820ce2b143b005325f5b1ea"
   }
  }
 },
 "nbformat": 4,
 "nbformat_minor": 2
}
