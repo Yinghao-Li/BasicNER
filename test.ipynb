{
 "cells": [
  {
   "cell_type": "code",
   "execution_count": 84,
   "metadata": {
    "collapsed": true
   },
   "outputs": [],
   "source": [
    "import torch\n",
    "import json\n",
    "import logging\n",
    "import numpy as np\n",
    "import itertools\n",
    "import operator\n",
    "from lstm_crf.dataset import Dataset\n",
    "from lstm_crf.args import Config\n",
    "from transformers import AutoTokenizer, AutoModel\n",
    "from nltk.tokenize import word_tokenize, sent_tokenize\n",
    "\n",
    "from seqlbtoolkit.text import split_overlength_bert_input_sequence\n",
    "from seqlbtoolkit.data import merge_list_of_lists\n",
    "from seqlbtoolkit.io import save_json\n",
    "\n",
    "logger = logging.getLogger(__name__)"
   ]
  },
  {
   "cell_type": "code",
   "execution_count": null,
   "outputs": [],
   "source": [
    "with open('./data/MSIE/train.json', 'r', encoding='utf-8') as f:\n",
    "    data = json.load(f)"
   ],
   "metadata": {
    "collapsed": false
   }
  },
  {
   "cell_type": "code",
   "execution_count": null,
   "outputs": [],
   "source": [
    "tks = data['0']['data']['text']"
   ],
   "metadata": {
    "collapsed": false
   }
  },
  {
   "cell_type": "code",
   "execution_count": null,
   "outputs": [],
   "source": [
    "tokenizer = AutoTokenizer.from_pretrained('distilbert-base-uncased')"
   ],
   "metadata": {
    "collapsed": false
   }
  },
  {
   "cell_type": "code",
   "execution_count": 15,
   "outputs": [],
   "source": [],
   "metadata": {
    "collapsed": false
   }
  },
  {
   "cell_type": "code",
   "execution_count": null,
   "outputs": [],
   "source": [
    "for data_id in range(len(data)):\n",
    "    print(data_id)\n",
    "    tks = data[f'{data_id}']['data']['text']\n",
    "    split_overlength_bert_input_sequence(tks, tokenizer)\n"
   ],
   "metadata": {
    "collapsed": false
   }
  },
  {
   "cell_type": "code",
   "execution_count": 25,
   "outputs": [],
   "source": [
    "ori_tks = data[f'{38}']['data']['text']\n"
   ],
   "metadata": {
    "collapsed": false
   }
  },
  {
   "cell_type": "code",
   "execution_count": 26,
   "outputs": [],
   "source": [
    "tks = word_tokenize(' '.join(ori_tks))"
   ],
   "metadata": {
    "collapsed": false
   }
  },
  {
   "cell_type": "code",
   "execution_count": 30,
   "outputs": [
    {
     "name": "stdout",
     "output_type": "stream",
     "text": [
      "[2506, 2306]\n",
      "[1193, 1315, 1109, 1199]\n",
      "[612, 583, 736, 581, 608, 503, 597, 604]\n",
      "[309, 305, 286, 299, 550, 188, 300, 283, 316, 294, 503, 344, 255, 268, 338]\n",
      "[309, 305, 286, 299, 137, 415, 188, 300, 283, 316, 294, 503, 344, 255, 268, 338]\n"
     ]
    }
   ],
   "source": [
    "max_seq_length = 512\n",
    "if len(tokenizer.tokenize(' '.join(tks), add_special_tokens=True)) >= max_seq_length:\n",
    "    sent_tks_list = [tks]\n",
    "    bert_length_list = [len(tokenizer.tokenize(' '.join(t), add_special_tokens=True)) for t in sent_tks_list]\n",
    "\n",
    "    while (np.asarray(bert_length_list) >= max_seq_length).any():\n",
    "        sep_sent_tks_list = list()\n",
    "\n",
    "        for tks_list, bert_len in zip(sent_tks_list, bert_length_list):\n",
    "\n",
    "            if bert_len < max_seq_length:\n",
    "                sep_sent_tks_list.append(tks_list)\n",
    "                continue\n",
    "\n",
    "            sep_sent_list = sent_tokenize(' '.join(tks_list))\n",
    "\n",
    "            sent_lens = list()\n",
    "            for sep_sent in sep_sent_list:\n",
    "                sent_lens.append(len(word_tokenize(sep_sent)))\n",
    "            end_ids = [np.sum(sent_lens[:i]) for i in range(1, len(sent_lens) + 1)]\n",
    "\n",
    "            # try to separate sentences as evenly as possible\n",
    "            halfway_idx = np.argmin((np.array(end_ids) - len(tks_list) / 2) ** 2)\n",
    "            sep_sent_tks_list.append(tks_list[:end_ids[halfway_idx]])  # split 1\n",
    "            sep_sent_tks_list.append(tks_list[end_ids[halfway_idx]:])  # split 2\n",
    "\n",
    "        sent_tks_list = sep_sent_tks_list\n",
    "        bert_length_list = [len(tokenizer.tokenize(' '.join(t), add_special_tokens=True)) for t in sent_tks_list]\n",
    "\n",
    "        print(bert_length_list)\n",
    "        # if len(bert_length_list) > 17:\n",
    "        #     break\n",
    "        # print(sent_tks_list)\n",
    "\n",
    "    sent_lengths = [len(s) for s in sent_tks_list]\n",
    "    assert np.sum(sent_lengths) == len(tks), \\\n",
    "        ValueError(f'Text splitting failed: {tks} ---> {sent_tks_list}')\n",
    "else:\n",
    "    pass\n",
    "\n"
   ],
   "metadata": {
    "collapsed": false
   }
  },
  {
   "cell_type": "code",
   "execution_count": 43,
   "outputs": [],
   "source": [
    "sent_list = sent_tokenize(' '.join(tks))"
   ],
   "metadata": {
    "collapsed": false
   }
  },
  {
   "cell_type": "code",
   "execution_count": 81,
   "outputs": [
    {
     "name": "stdout",
     "output_type": "stream",
     "text": [
      "0 4984\n",
      "bert len: 4984, accu list: [82, 156, 183, 287, 317, 355, 402, 504, 585, 630, 727, 788, 832, 922, 963, 1021, 1089, 1117, 1182, 1191, 1224, 1235, 1257, 1288, 1329, 1378, 1793, 1867, 1936, 1985, 2039, 2082, 2133, 2167, 2227, 2235, 2297, 2357, 2458, 2505, 2586, 2711, 2749, 2830, 2859, 2910, 2948, 2973, 3003, 3036, 3106, 3214, 3269, 3281, 3293, 3364, 3368, 3390, 3501, 3570, 3631, 3635, 3676, 3736, 3741, 3803, 3868, 3932, 3940, 4093, 4142, 4193, 4228, 4267, 4290, 4309, 4360, 4422, 4479, 4556, 4599, 4636, 4650, 4727, 4821, 4908, 4931, 4984]\n",
      "split offset: 39\n",
      "new split points: [40]\n",
      "split bert lengths: [2505, 2479]\n",
      "0 2505\n",
      "bert len: 2505, accu list: [82, 156, 183, 287, 317, 355, 402, 504, 585, 630, 727, 788, 832, 922, 963, 1021, 1089, 1117, 1182, 1191, 1224, 1235, 1257, 1288, 1329, 1378, 1793, 1867, 1936, 1985, 2039, 2082, 2133, 2167, 2227, 2235, 2297, 2357, 2458, 2505]\n",
      "split offset: 22\n",
      "1 2479\n",
      "bert len: 2479, accu list: [81, 206, 244, 325, 354, 405, 443, 468, 498, 531, 601, 709, 764, 776, 788, 859, 863, 885, 996, 1065, 1126, 1130, 1171, 1231, 1236, 1298, 1363, 1427, 1435, 1588, 1637, 1688, 1723, 1762, 1785, 1804, 1855, 1917, 1974, 2051, 2094, 2131, 2145, 2222, 2316, 2403, 2426, 2479]\n",
      "split offset: 24\n",
      "new split points: [23, 65]\n",
      "split bert lengths: [1257, 1248, 1236, 1243]\n",
      "0 1257\n",
      "bert len: 1257, accu list: [82, 156, 183, 287, 317, 355, 402, 504, 585, 630, 727, 788, 832, 922, 963, 1021, 1089, 1117, 1182, 1191, 1224, 1235, 1257]\n",
      "split offset: 9\n",
      "1 1248\n",
      "bert len: 1248, accu list: [31, 72, 121, 536, 610, 679, 728, 782, 825, 876, 910, 970, 978, 1040, 1100, 1201, 1248]\n",
      "split offset: 4\n",
      "2 1236\n",
      "bert len: 1236, accu list: [81, 206, 244, 325, 354, 405, 443, 468, 498, 531, 601, 709, 764, 776, 788, 859, 863, 885, 996, 1065, 1126, 1130, 1171, 1231, 1236]\n",
      "split offset: 10\n",
      "3 1243\n",
      "bert len: 1243, accu list: [62, 127, 191, 199, 352, 401, 452, 487, 526, 549, 568, 619, 681, 738, 815, 858, 895, 909, 986, 1080, 1167, 1190, 1243]\n",
      "split offset: 11\n",
      "new split points: [10, 28, 51, 77]\n",
      "split bert lengths: [630, 627, 610, 638, 601, 635, 619, 624]\n",
      "0 630\n",
      "bert len: 630, accu list: [82, 156, 183, 287, 317, 355, 402, 504, 585, 630]\n",
      "split offset: 4\n",
      "1 627\n",
      "bert len: 627, accu list: [97, 158, 202, 292, 333, 391, 459, 487, 552, 561, 594, 605, 627]\n",
      "split offset: 4\n",
      "2 610\n",
      "bert len: 610, accu list: [31, 72, 121, 536, 610]\n",
      "split offset: 2\n",
      "3 638\n",
      "bert len: 638, accu list: [69, 118, 172, 215, 266, 300, 360, 368, 430, 490, 591, 638]\n",
      "split offset: 5\n",
      "4 601\n",
      "bert len: 601, accu list: [81, 206, 244, 325, 354, 405, 443, 468, 498, 531, 601]\n",
      "split offset: 3\n",
      "5 635\n",
      "bert len: 635, accu list: [108, 163, 175, 187, 258, 262, 284, 395, 464, 525, 529, 570, 630, 635]\n",
      "split offset: 6\n",
      "6 619\n",
      "bert len: 619, accu list: [62, 127, 191, 199, 352, 401, 452, 487, 526, 549, 568, 619]\n",
      "split offset: 4\n",
      "7 624\n",
      "bert len: 624, accu list: [62, 119, 196, 239, 276, 290, 367, 461, 548, 571, 624]\n",
      "split offset: 5\n",
      "new split points: [5, 15, 26, 34, 44, 58, 70, 83]\n",
      "split bert lengths: [317, 313, 333, 294, 121, 489, 300, 338, 325, 276, 284, 351, 352, 267, 290, 334]\n"
     ]
    }
   ],
   "source": [
    "tks_seq_list = [word_tokenize(sent) for sent in sent_tokenize(' '.join(tks))]\n",
    "seq_bert_len_list = [len(tokenizer.tokenize(' '.join(tks_seq), add_special_tokens=True)) for tks_seq in tks_seq_list]\n",
    "split_points = [0, len(tks_seq_list)]\n",
    "split_bert_lens = [sum(seq_bert_len_list[split_points[i]:split_points[i+1]]) for i in range(len(split_points)-1)]\n",
    "\n",
    "while (np.asarray(split_bert_lens) >= max_seq_length).any():\n",
    "\n",
    "    new_split_points = list()\n",
    "    for idx, bert_len in enumerate(split_bert_lens):\n",
    "        print(idx, bert_len)\n",
    "        if bert_len > max_seq_length:\n",
    "            seq_bert_len_sub_list = seq_bert_len_list[split_points[idx]:split_points[idx+1]]\n",
    "            seq_bert_len_sub_accu_list = list(itertools.accumulate(seq_bert_len_sub_list, operator.add))\n",
    "            print(f\"bert len: {bert_len}, accu list: {seq_bert_len_sub_accu_list}\")\n",
    "            # try to separate sentences as evenly as possible\n",
    "            split_offset = np.argmin((np.array(seq_bert_len_sub_accu_list) - bert_len / 2) ** 2)\n",
    "            new_split_points.append(split_offset + split_points[idx] + 1)\n",
    "            print(f\"split offset: {split_offset}\")\n",
    "    print(f\"new split points: {new_split_points}\")\n",
    "\n",
    "    split_points += new_split_points\n",
    "    split_points.sort()\n",
    "\n",
    "    split_bert_lens = [sum(seq_bert_len_list[split_points[i]:split_points[i+1]]) for i in range(len(split_points)-1)]\n",
    "    print(f\"split bert lengths: {split_bert_lens}\")\n",
    "\n",
    "split_tks_seq_list = [tks_seq_list[split_points[i]:split_points[i+1]] for i in range(len(split_points)-1)]\n",
    "\n"
   ],
   "metadata": {
    "collapsed": false
   }
  },
  {
   "cell_type": "code",
   "execution_count": 32,
   "outputs": [],
   "source": [
    "from chemdataextractor.nlp.tokenize import ChemWordTokenizer"
   ],
   "metadata": {
    "collapsed": false
   }
  },
  {
   "cell_type": "code",
   "execution_count": 33,
   "outputs": [],
   "source": [
    "cwt = ChemWordTokenizer()"
   ],
   "metadata": {
    "collapsed": false
   }
  },
  {
   "cell_type": "code",
   "execution_count": 34,
   "outputs": [
    {
     "data": {
      "text/plain": "['Three',\n 'donor',\n '-',\n 'acceptor',\n 'type',\n 'of',\n 'narrow',\n 'band',\n 'gap',\n 'conjugated',\n 'polymers',\n 'with',\n 'enlarged',\n 'coplanar',\n 'skeleton',\n 'were',\n 'synthesized',\n 'via',\n 'Stille',\n 'copolymerization',\n 'of',\n 'indacenodithiophene',\n '(',\n 'IDT',\n ')',\n 'and',\n 'naphtho',\n '[1,2-c:5,6-c]bis(1,2,5-thiadiazole)',\n '(',\n 'NT',\n ')',\n 'based',\n 'monomers.',\n 'The',\n 'energy',\n 'levels',\n ',',\n 'absorption',\n 'spectra',\n 'and',\n 'band',\n 'gaps',\n 'of',\n 'the',\n 'resulting',\n 'polymers',\n 'were',\n 'well',\n 'tuned',\n 'by',\n 'utilizing',\n 'different',\n 'thiophene',\n 'derivatives',\n 'as',\n 'spacer',\n 'between',\n 'IDT',\n 'and',\n 'NT',\n 'units',\n ',',\n 'and',\n 'polymer',\n 'PIDT-C12NT',\n 'which',\n 'employed',\n 'bithiophene',\n 'attached',\n 'with',\n 'dodecyl',\n 'side',\n 'chain',\n 'as',\n 'spacer',\n 'exhibited',\n 'superior',\n 'properties',\n 'compared',\n 'to',\n 'the',\n 'other',\n 'two',\n 'copolymers.',\n 'All',\n 'polymers',\n 'exhibited',\n 'deep',\n 'highest',\n 'occupied',\n 'molecular',\n 'orbital',\n 'energy',\n 'levels',\n 'and',\n 'subsequently',\n 'lead',\n 'to',\n 'high',\n 'open',\n 'circuit',\n 'voltages',\n 'of',\n 'fabricated',\n 'solar',\n 'cell',\n 'devices.',\n 'Best',\n 'performance',\n 'of',\n 'the',\n 'bulk',\n '-',\n 'heterojunction',\n 'solar',\n 'cells',\n 'with',\n 'a',\n 'power',\n 'conversion',\n 'efficiency',\n 'of',\n '5.05',\n '%',\n 'was',\n 'achieved',\n 'with',\n 'PIDT-C12NT',\n 'as',\n 'donor',\n 'and',\n '(6,6)-phenyl-C',\n '71',\n '-butyric',\n 'acid',\n 'methyl',\n 'ester',\n '(',\n 'PC71BM',\n ')',\n 'as',\n 'acceptor',\n ',',\n 'which',\n 'can',\n 'be',\n 'attributed',\n 'to',\n 'its',\n 'higher',\n 'charge',\n 'carrier',\n 'mobility',\n ',',\n 'the',\n 'optimized',\n 'interpenetrating',\n 'network',\n 'as',\n 'well',\n 'as',\n 'enhanced',\n 'absorption',\n 'coefficient',\n 'of',\n 'photoactive',\n 'layer',\n 'with',\n 'respect',\n 'to',\n 'the',\n 'other',\n 'two',\n 'polymers.',\n 'The',\n 'results',\n 'demonstrated',\n 'that',\n 'the',\n 'combination',\n 'of',\n 'IDT',\n 'and',\n 'NT',\n 'with',\n 'appropriate',\n 'spacers',\n 'was',\n 'a',\n 'promising',\n 'molecular',\n 'design',\n 'strategy',\n 'for',\n 'the',\n 'application',\n 'of',\n 'solar',\n 'cells',\n '.',\n 'During',\n 'the',\n 'past',\n 'decade',\n ',',\n 'polymer',\n 'solar',\n 'cells',\n '(',\n 'PSCs',\n ')',\n 'have',\n 'attracted',\n 'extensive',\n 'attention',\n 'due',\n 'to',\n 'their',\n 'lightweight',\n ',',\n 'low',\n 'cost',\n 'and',\n 'great',\n 'potential',\n 'for',\n 'the',\n 'fabrication',\n 'of',\n 'large',\n '-',\n 'area',\n 'flexible',\n 'devices.',\n '1-3',\n 'PSCs',\n 'based',\n 'on',\n 'bulk',\n '-',\n 'heterojunction',\n '(',\n 'BHJ',\n ')',\n 'architecture',\n 'are',\n 'of',\n 'particular',\n 'interests',\n 'since',\n 'high',\n 'performance',\n 'devices',\n 'with',\n 'power',\n 'conversion',\n 'efficiencies',\n '(',\n 'PCE',\n ')',\n 'exceed',\n '8',\n '%',\n 'can',\n 'be',\n 'achieved.',\n '4-9',\n 'Typical',\n 'BHJ',\n 'devices',\n 'comprise',\n 'a',\n 'phaseseparated',\n 'donor',\n '/',\n 'acceptor',\n 'blend',\n 'layer',\n 'with',\n 'low',\n 'band',\n 'gap',\n 'conjugated',\n 'polymers',\n 'as',\n 'the',\n 'electron',\n 'donor',\n ',',\n 'and',\n 'fullerene',\n 'derivatives',\n 'such',\n 'as',\n '[6,6]-phenyl-C61-butyric',\n 'acid',\n 'methyl',\n 'ester',\n '(',\n 'PC61BM',\n ')',\n 'or',\n '[6,6]-phenyl-C71-butyric',\n 'acid',\n 'methyl',\n 'ester',\n '(',\n 'PC71BM',\n ')',\n 'as',\n 'the',\n 'electron',\n 'acceptor.',\n '10,11',\n 'Generally',\n ',',\n 'when',\n 'considering',\n 'that',\n 'open',\n 'circuit',\n 'voltage',\n '(',\n 'V',\n 'oc',\n ')',\n 'is',\n 'related',\n 'to',\n 'the',\n 'difference',\n 'between',\n 'the',\n 'highest',\n 'occupied',\n 'molecular',\n 'orbital',\n '(',\n 'HOMO',\n ')',\n 'energy',\n 'level',\n 'of',\n 'donor',\n 'materials',\n 'and',\n 'the',\n 'lowest',\n 'unoccupied',\n 'molecular',\n 'orbital',\n '(',\n 'LUMO',\n ')',\n 'energy',\n 'level',\n 'of',\n 'acceptor',\n ',',\n '12,13',\n 'deep',\n 'HOMO',\n 'levels',\n 'for',\n 'low',\n 'band',\n 'gap',\n 'conjugated',\n 'polymers',\n 'are',\n 'preferred',\n 'in',\n 'order',\n 'to',\n 'attain',\n 'high',\n 'V',\n 'oc',\n '.',\n 'However',\n ',',\n 'lowering',\n 'HOMO',\n 'level',\n 'would',\n 'result',\n 'in',\n 'larger',\n 'band',\n 'gap',\n ',',\n 'and',\n 'thereby',\n 'the',\n 'absorption',\n 'of',\n 'resulted',\n 'polymers',\n 'would',\n 'have',\n 'less',\n 'overlap',\n 'with',\n 'solar',\n 'spectrum',\n ',',\n 'which',\n 'are',\n 'unfavorable',\n 'for',\n 'high',\n 'short',\n 'circuit',\n 'current',\n '(',\n 'J',\n 'sc',\n ').',\n 'To',\n 'obtain',\n 'the',\n 'ideal',\n 'low',\n 'band',\n 'gap',\n 'polymer',\n 'with',\n 'appropriate',\n 'energy',\n 'levels',\n 'that',\n 'can',\n 'make',\n 'a',\n 'tradeoff',\n 'between',\n 'open',\n 'circuit',\n 'voltage',\n '(',\n 'V',\n 'oc',\n ')',\n 'and',\n 'band',\n 'gap',\n 'so',\n 'as',\n 'to',\n 'maximize',\n 'the',\n 'PCE',\n ',',\n 'an',\n 'intriguing',\n 'approach',\n 'involves',\n 'incorporat',\n '-',\n 'ing',\n 'electron',\n 'rich',\n 'moieties',\n '(',\n 'donor',\n ',',\n 'D',\n ')',\n 'and',\n 'electron',\n 'deficient',\n 'moieties',\n '(',\n 'acceptor',\n ',',\n 'A',\n ')',\n 'and',\n 'alternating',\n 'them',\n 'on',\n 'the',\n 'backbone',\n ',',\n 'which',\n 'are',\n 'so',\n '-',\n 'called',\n 'D-A',\n 'type',\n 'low',\n 'band',\n 'gap',\n 'conjugated',\n 'polymers.',\n '14-16',\n 'Recently',\n ',',\n 'it',\n 'was',\n 'realized',\n 'that',\n 'the',\n 'weak',\n '-',\n 'donor',\n 'and',\n 'strong',\n '-',\n 'acceptor',\n 'strategy',\n 'is',\n 'especially',\n 'effective',\n ',',\n 'as',\n 'the',\n 'weak',\n 'donor',\n 'moieties',\n 'can',\n 'maintain',\n 'low',\n 'HOMO',\n 'levels',\n 'while',\n 'strong',\n 'acceptor',\n 'moieties',\n 'may',\n 'result',\n 'in',\n 'narrow',\n 'band',\n 'gap',\n 'via',\n 'intramolecular',\n 'charge',\n 'transfer',\n '(',\n 'ICT',\n ').',\n '17-19',\n 'Another',\n 'issue',\n 'needs',\n 'specific',\n 'attention',\n 'consists',\n 'of',\n 'the',\n 'molecular',\n 'planarity',\n ',',\n 'which',\n 'may',\n 'have',\n 'significant',\n 'impact',\n 'on',\n 'the',\n 'molecular',\n 'packing',\n 'of',\n 'polymers',\n 'in',\n 'solid',\n 'state',\n 'and',\n 'thereby',\n 'would',\n 'affect',\n 'film',\n 'morphology',\n 'and',\n 'charge',\n 'carrier',\n 'transport',\n 'properties.',\n '20-24',\n 'We',\n 'have',\n 'previously',\n 'demonstrated',\n 'a',\n 'novel',\n 'naphtho-[1,2-c:5,6-c]bis(1,2,5-thiadiazole)',\n '(',\n 'NT',\n ')',\n 'moiety',\n 'with',\n 'enlarged',\n 'planarity',\n 'relative',\n 'to',\n 'conventionally',\n 'used',\n 'acceptor',\n 'of',\n '2,1,3benzothiadiazole',\n '(',\n 'BT',\n ')',\n ',',\n 'which',\n 'can',\n 'be',\n 'used',\n 'as',\n 'a',\n 'strong',\n 'acceptor',\n 'for',\n 'D-A',\n 'polymers.',\n '18',\n 'It',\n 'was',\n 'found',\n 'that',\n 'the',\n 'NT',\n '-',\n 'based',\n 'polymers',\n 'exhibited',\n 'distinctly',\n 'improved',\n 'photovoltaic',\n 'performances',\n 'relative',\n 'to',\n 'the',\n 'BT',\n 'counterparts',\n ',',\n 'which',\n 'can',\n 'be',\n 'attributed',\n 'to',\n 'the',\n 'enhanced',\n 'carrier',\n 'mobility',\n 'and',\n 'reduced',\n 'the',\n 'band',\n 'gaps.',\n '18',\n 'The',\n 'advantage',\n 'of',\n 'D-A',\n 'type',\n 'conjugated',\n 'polymers',\n 'bears',\n 'NT',\n 'as',\n 'acceptor',\n 'was',\n 'also',\n 'verified',\n 'by',\n 'using',\n 'quaterthiophene',\n 'or',\n 'naphtho[1,2-b:5,6-b′]dithiophene',\n 'as',\n 'the',\n 'donor',\n 'unit.',\n 'Such',\n 'NTbased',\n 'polymers',\n 'exhibit',\n '1',\n 'order',\n 'of',\n 'magnitude',\n 'increased',\n 'hole',\n 'mobility',\n 'in',\n 'conjunction',\n 'with',\n 'obviously',\n 'improved',\n 'photovoltaic',\n 'properties',\n 'with',\n 'respect',\n 'to',\n 'the',\n 'corresponding',\n 'BT',\n 'version',\n ',',\n 'which',\n 'can',\n 'be',\n 'ascribed',\n 'to',\n 'the',\n 'centrosymmetric',\n 'structure',\n 'of',\n 'NT',\n 'that',\n 'can',\n 'lead',\n 'to',\n 'straighter',\n 'backbone',\n 'and',\n 'more',\n 'favorable',\n 'side',\n '-',\n 'chain',\n 'placement',\n 'than',\n 'the',\n 'axisymmetric',\n 'BT',\n 'structure.',\n '25,26',\n 'The',\n 'fact',\n 'indicates',\n 'that',\n 'NT',\n 'is',\n 'a',\n 'versatile',\n 'acceptor',\n 'for',\n 'high',\n 'performance',\n 'D-A',\n 'type',\n 'of',\n 'conjugated',\n 'polymers.',\n 'Recently',\n ',',\n 'indacenodithiophene',\n '(',\n 'IDT',\n ')',\n 'with',\n 'two',\n 'thiophene',\n 'rings',\n 'held',\n 'in',\n 'a',\n 'rigid',\n 'arrangement',\n 'via',\n 'a',\n 'central',\n 'phenyl',\n 'ring',\n 'has',\n 'emerged',\n 'as',\n 'a',\n 'promising',\n 'donor',\n 'moiety',\n 'for',\n 'D-A',\n 'polymers',\n 'due',\n 'to',\n 'its',\n 'good',\n 'solubility',\n 'and',\n 'highly',\n 'planar',\n 'structures',\n '(',\n 'Scheme',\n '1',\n ').',\n '27-31',\n 'Ting',\n 'et',\n 'al.',\n 'synthesized',\n 'random',\n 'and',\n 'alternating',\n 'copolymers',\n 'based',\n 'on',\n 'IDT',\n 'and',\n 'BT',\n 'and',\n 'the',\n 'highest',\n 'PCE',\n 'reached',\n '6.4',\n '%',\n 'based',\n 'on',\n 'the',\n 'corresponding',\n 'PSCs.',\n '28,32,33',\n 'Jen',\n 'et',\n 'al.',\n 'studied',\n 'several',\n 'high',\n 'performance',\n 'D-A',\n 'copolymers',\n 'with',\n 'IDT',\n 'and',\n 'different',\n 'acceptor',\n 'units.',\n '29,34-37',\n 'The',\n 'IDT',\n '-',\n 'based',\n 'polymers',\n 'presented',\n 'deep',\n 'HOMO',\n 'levels',\n 'and',\n 'hence',\n 'lead',\n 'to',\n 'considerably',\n 'high',\n 'V',\n 'oc',\n 'of',\n 'the',\n 'resulted',\n 'devices.',\n 'Additionally',\n ',',\n 'IDT',\n '-',\n 'based',\n 'polymers',\n 'have',\n 'presented',\n 'pretty',\n 'high',\n 'mobility',\n 'and',\n 'the',\n 'appropriate',\n 'optical',\n 'properties',\n ',',\n 'which',\n 'can',\n 'facilitate',\n 'the',\n 'charge',\n 'transport',\n 'together',\n 'with',\n 'enhance',\n 'the',\n 'absorption',\n 'of',\n 'sunlight',\n 'and',\n 'subsequently',\n 'lead',\n 'to',\n 'high',\n 'J',\n 'sc',\n '.',\n '38',\n 'Therefore',\n ',',\n 'both',\n 'IDT',\n 'and',\n 'NT',\n 'are',\n 'promising',\n 'building',\n 'blocks',\n 'for',\n 'D-A',\n 'type',\n 'low',\n 'band',\n 'gap',\n 'polymers',\n 'and',\n 'the',\n 'combination',\n 'of',\n 'the',\n 'outstanding',\n 'properties',\n 'of',\n 'IDT',\n 'and',\n 'NT',\n 'may',\n 'develop',\n 'a',\n 'series',\n 'of',\n 'promising',\n 'donor',\n 'materials',\n 'for',\n 'high',\n 'performance',\n 'PSCs.',\n 'In',\n 'this',\n 'manuscript',\n ',',\n 'we',\n 'report',\n 'the',\n 'synthesis',\n 'and',\n 'characterization',\n 'of',\n 'three',\n 'D-A',\n 'type',\n 'IDT-NT',\n 'based',\n 'low',\n 'band',\n 'gap',\n 'conjugated',\n 'polymers',\n ',',\n 'poly[2,7-(4,4,9,9-tetra(p-octylphenyl)-s-',\n 'indaceno[1,2-b:5,6-b′]-dithiophene)-alt-3,7-(di(4-(2-ethylhex-',\n 'yl)-2-thienyl)-naphtho[1,2-c:5,6-c]bis[1,2,5]thiadiazole',\n ')',\n ']',\n '(',\n 'PIDT',\n '-',\n 'EHNT',\n ')',\n ',',\n 'poly[2,7-(4,4,9,9-tetra(p-octylphenyl)-s-',\n 'indaceno[1,2-b:5,6-b′]-dithiophene)-alt-3,7-(di(4-hexyl-2thienyl)-naphtho[1,2-c:5,6-c]bis[1,2,5]thiadiazole)',\n ']',\n '(',\n 'PIDT',\n '-',\n 'DTNT',\n ')',\n 'and',\n 'poly[2,7-(4,4,9,9-tetra(p-octylphenyl)-s-indaceno-[1,2-b:5,6-b′]-dithiophene)-alt-3,7-(di(3′-dodecyl-5-(2,2′-bithienyl))-naphtho[1,2-c:5,6-c]bis(1,2,5-thiadiazole))]',\n '(',\n 'PIDT-C12NT',\n ')',\n '(',\n 'Scheme',\n '2',\n ')',\n ',',\n 'by',\n 'using',\n 'IDT',\n 'as',\n 'a',\n 'weak',\n 'donor',\n 'and',\n 'NT',\n 'as',\n 'a',\n 'strong',\n 'acceptor.',\n 'Taking',\n 'into',\n ...]"
     },
     "execution_count": 34,
     "metadata": {},
     "output_type": "execute_result"
    }
   ],
   "source": [
    "cwt.tokenize(' '.join(ori_tks))"
   ],
   "metadata": {
    "collapsed": false
   }
  },
  {
   "cell_type": "code",
   "execution_count": 35,
   "outputs": [],
   "source": [
    "from chemdataextractor.doc import Paragraph"
   ],
   "metadata": {
    "collapsed": false
   }
  },
  {
   "cell_type": "code",
   "execution_count": 36,
   "outputs": [],
   "source": [
    "para = Paragraph(' '.join(ori_tks))"
   ],
   "metadata": {
    "collapsed": false
   }
  },
  {
   "cell_type": "code",
   "execution_count": 39,
   "outputs": [
    {
     "data": {
      "text/plain": "['Three donor - acceptor type of narrow band gap conjugated polymers with enlarged coplanar skeleton were synthesized via Stille copolymerization of indacenodithiophene ( IDT ) and naphtho [1,2-c:5,6-c]bis(1,2,5-thiadiazole) ( NT ) based monomers.',\n 'The energy levels , absorption spectra and band gaps of the resulting polymers were well tuned by utilizing different thiophene derivatives as spacer between IDT and NT units , and polymer PIDT-C12NT which employed bithiophene attached with dodecyl side chain as spacer exhibited superior properties compared to the other two copolymers.',\n 'All polymers exhibited deep highest occupied molecular orbital energy levels and subsequently lead to high open circuit voltages of fabricated solar cell devices.',\n 'Best performance of the bulk - heterojunction solar cells with a power conversion efficiency of 5.05% was achieved with PIDT-C12NT as donor and (6,6)-phenyl-C 71 -butyric acid methyl ester ( PC71BM ) as acceptor , which can be attributed to its higher charge carrier mobility , the optimized interpenetrating network as well as enhanced absorption coefficient of photoactive layer with respect to the other two polymers.',\n 'The results demonstrated that the combination of IDT and NT with appropriate spacers was a promising molecular design strategy for the application of solar cells .',\n 'During the past decade , polymer solar cells ( PSCs ) have attracted extensive attention due to their lightweight , low cost and great potential for the fabrication of large - area flexible devices.',\n '1-3 PSCs based on bulk - heterojunction ( BHJ ) architecture are of particular interests since high performance devices with power conversion efficiencies ( PCE ) exceed 8% can be achieved.',\n '4-9 Typical BHJ devices comprise a phaseseparated donor / acceptor blend layer with low band gap conjugated polymers as the electron donor , and fullerene derivatives such as [6,6]-phenyl-C61-butyric acid methyl ester ( PC61BM ) or [6,6]-phenyl-C71-butyric acid methyl ester ( PC71BM ) as the electron acceptor.',\n '10,11 Generally , when considering that open circuit voltage ( V oc ) is related to the difference between the highest occupied molecular orbital ( HOMO ) energy level of donor materials and the lowest unoccupied molecular orbital ( LUMO ) energy level of acceptor , 12,13 deep HOMO levels for low band gap conjugated polymers are preferred in order to attain high V oc .',\n 'However , lowering HOMO level would result in larger band gap , and thereby the absorption of resulted polymers would have less overlap with solar spectrum , which are unfavorable for high short circuit current ( J sc ).',\n 'To obtain the ideal low band gap polymer with appropriate energy levels that can make a tradeoff between open circuit voltage ( V oc ) and band gap so as to maximize the PCE , an intriguing approach involves incorporat - ing electron rich moieties ( donor , D ) and electron deficient moieties ( acceptor , A ) and alternating them on the backbone , which are so - called D-A type low band gap conjugated polymers.',\n '14-16 Recently , it was realized that the weak - donor and strong - acceptor strategy is especially effective , as the weak donor moieties can maintain low HOMO levels while strong acceptor moieties may result in narrow band gap via intramolecular charge transfer ( ICT ).',\n '17-19 Another issue needs specific attention consists of the molecular planarity , which may have significant impact on the molecular packing of polymers in solid state and thereby would affect film morphology and charge carrier transport properties.',\n '20-24 We have previously demonstrated a novel naphtho-[1,2-c:5,6-c]bis(1,2,5-thiadiazole) ( NT ) moiety with enlarged planarity relative to conventionally used acceptor of 2,1,3benzothiadiazole ( BT ) , which can be used as a strong acceptor for D-A polymers.',\n '18 It was found that the NT - based polymers exhibited distinctly improved photovoltaic performances relative to the BT counterparts , which can be attributed to the enhanced carrier mobility and reduced the band gaps.',\n '18 The advantage of D-A type conjugated polymers bears NT as acceptor was also verified by using quaterthiophene or naphtho[1,2-b:5,6-b′]dithiophene as the donor unit.',\n 'Such NTbased polymers exhibit 1 order of magnitude increased hole mobility in conjunction with obviously improved photovoltaic properties with respect to the corresponding BT version , which can be ascribed to the centrosymmetric structure of NT that can lead to straighter backbone and more favorable side - chain placement than the axisymmetric BT structure.',\n '25,26 The fact indicates that NT is a versatile acceptor for high performance D-A type of conjugated polymers.',\n 'Recently , indacenodithiophene ( IDT ) with two thiophene rings held in a rigid arrangement via a central phenyl ring has emerged as a promising donor moiety for D-A polymers due to its good solubility and highly planar structures ( Scheme 1 ).',\n '27-31 Ting et al. synthesized random and alternating copolymers based on IDT and BT and the highest PCE reached 6.4% based on the corresponding PSCs.',\n '28,32,33 Jen et al. studied several high performance D-A copolymers with IDT and different acceptor units.',\n '29,34-37 The IDT - based polymers presented deep HOMO levels and hence lead to considerably high V oc of the resulted devices.',\n 'Additionally , IDT - based polymers have presented pretty high mobility and the appropriate optical properties , which can facilitate the charge transport together with enhance the absorption of sunlight and subsequently lead to high J sc .',\n '38 Therefore , both IDT and NT are promising building blocks for D-A type low band gap polymers and the combination of the outstanding properties of IDT and NT may develop a series of promising donor materials for high performance PSCs.',\n 'In this manuscript , we report the synthesis and characterization of three D-A type IDT-NT based low band gap conjugated polymers , poly[2,7-(4,4,9,9-tetra(p-octylphenyl)-s- indaceno[1,2-b:5,6-b′]-dithiophene)-alt-3,7-(di(4-(2-ethylhex- yl)-2-thienyl)-naphtho[1,2-c:5,6-c]bis[1,2,5]thiadiazole ) ] ( PIDT - EHNT ) , poly[2,7-(4,4,9,9-tetra(p-octylphenyl)-s- indaceno[1,2-b:5,6-b′]-dithiophene)-alt-3,7-(di(4-hexyl-2thienyl)-naphtho[1,2-c:5,6-c]bis[1,2,5]thiadiazole) ] ( PIDT - DTNT ) and poly[2,7-(4,4,9,9-tetra(p-octylphenyl)-s-indaceno-[1,2-b:5,6-b′]-dithiophene)-alt-3,7-(di(3′-dodecyl-5-(2,2′-bithienyl))-naphtho[1,2-c:5,6-c]bis(1,2,5-thiadiazole))] ( PIDT-C12NT ) ( Scheme 2 ) , by using IDT as a weak donor and NT as a strong acceptor.',\n 'Taking into account the fact that both IDT and NT are comparatively rigid coplanar structures along the polymer backbone , the IDT-NT based polymers may suffer solubility issue since the tetraoctylbenzene groups attached to the carbon bridges of IDT unit would not be enough to guarantee their solubility in common organic solvents.',\n 'Therefore , the spacers consist of thiophene or bithiophene functionalized with various alkyl side chains were introduced in between IDT and NT units to improve the solubility of the resulting polymers , which may also potentially lead to improved molecular weight that is favorable for the optimal morphology and charge carrier transport.',\n '39-41 We notice that the incorporated side chains may also increase the dihedral angle of their contiguous aromatic units , 42,43 which may somewhat inhibit polymer backbone planarity and thereby increase band gap and lower the charge carrier mobility.',\n '40,41 However , it should be tried several different alkyl side chains to achieve a delicate balance of the molecular weight , solubility as well as planarity of polymers as no comprehensive rule has yet emerged of the influences of specific side chains.',\n '44,45 It was realized that by switching the spacer between the IDT and NT units , the processability , backbone planarity , charge carrier mobility and film morphology can be optimized.',\n 'Further investigation of photovoltaic performances indicates all devices present high V oc because of the relatively deep HOMO energy levels of these polymers , and the highest PCE of 5.05% was achieved based on PIDT-C12NT .',\n 'Differential scanning calorimetry ( DSC ) and thermogravimetric analysis ( TGA ; see Figure 1 ) were used to probe thermal properties.',\n 'No phase transition was observed for all three polymers by DSC analysis up to 300 ° C.',\n 'All polymers have decomposition temperature ( defined as the 5% weight - loss temperature , T d ) over 450 °C under nitrogen as determined by TGA analysis , indicating their excellent thermal stabilities.',\n 'Optical and Electrochemical Properties.',\n 'The UV - vis absorption spectra of all polymers in both chlorobenzene solution ( 1 × 10^-3 mg mL -1 ) and as thin films ( spin - casted from chlorobenzene solutions with concentration of 8 mg mL -1 ) are shown in Figure 2.',\n 'All three polymers exhibit dual characteristic absorption bands , where the short wavelength absorbance originated from the π-π* transition of the IDT unit , while the long wavelength absorbance could be ascribed to the intramolecular charge transfer ( ICT ) between the IDT and the NT segments.',\n '27 In chlorobenzene ( CB ) solution , PIDT - EHNT showed an absorption maximum at 599 nm and a slightly weaker peak at 433 nm ; when changing the branched 2ethylhexyl to linear hexyl side chain , the resulted polymer PIDT - DTNT showed a slightly bathochromic shift of two corresponding peaks to 608 and 439 nm , respectively , which may due to the reduced steric hindrance of the linear side chain.',\n 'In most reported cases , the band gaps of conjugated polymers are reduced by incorporating more thiophene units between the donor and the acceptor segments owing to the more extended and delocalized π-electron system.',\n '49-51 However , it was interesting to notice that PIDT-C12NT , which has four thiophenes in each repeat unit , presented a simultaneous bathochromic shift of short wavelength absorption peak to 465 nm and hypsochromic shift of the long wavelength absorption peak to 593 nm along with increased relative intensity of the high and low - energy peaks.',\n 'Analogous event has also been realized in D-A type of oligomers and polymers based on 3,4bis(2-ethylhexyloxy)thiophene or 2-ethylhexyloxy-substituted 3,4-propylenedioxythiophene as donor and BT as acceptor , which demonstrated that with the depleting composition of BT unit along the conjugated backbone , the dual absorbing bands were induced to move toward the maximum absorption ( λ max ) of the all - donor homopolymer that located in between of the dual absorbance.',\n '52 In solid state , all polymers showed red - shifted absorption spectra compare to their solution absorption ( Figure 2b ) , which could be ascribed to the aggregation of polymer main chain.',\n 'We realized a slightly bathochromic shift of the PIDT - DTNT absorbance relative to that of the PIDT - EHNT , which was in consistent with the trend realized in solution , while PIDT-C12NT showed a pronounced bathochromic shift of the low energy band absorption with λ max moved from 593 nm in solution to 619 nm as thin film.',\n 'It was also worth noting that PIDT-C12NT showed much higher absorption coefficient than other two polymers in the whole visible area.',\n 'Considering that high photo flux of solar spectrum within the region of about 550-700 nm , more intensified absorption of PIDT-C12NT indicated that more sunlight can be harvested that would potentially lead to higher J sc than the other two polymers.',\n 'The optical band gaps of the polymers are in the range of 1.64 - 1.69 eV as estimated from the absorption onset and the detailed results are summarized in Table 1.',\n 'Cyclic voltammetry ( CV ) measurements were carried out to evaluate the molecular frontier orbitals of the resulted polymers.',\n 'The graphite , platinum wire , and Ag / AgCl were used as the working electrode , counter electrode , and reference electrode , respectively.',\n 'Polymer films were casted from chlorobenzene solution with concentration of 8 mg mL -1 and all measurements were carried out under inert atmosphere.',\n 'Figure 3 showed the oxidation of cyclic voltammograms of the polymer films on graphite disk electrode in tetrabutyl ammonium hexafluorophosphate ( Bu 4 NPF 6 ) solution ( 0.1 M in acetonitrile ) at a scan rate of 50 mV s^-1 .',\n 'The onset of oxidation potentials ( E ox ) of PIDT - EHNT , PIDT - DTNT and PIDT-C12NT referred to ferrocene / ferrocenium ( Fc / Fc + ) were 0.68 , 0.68 , and 0.72 V , respectively with the corresponding calculated HOMO energy levels of -5.48 , -5.48 , and -5.52 eV according to the equation of HOMO = -e(E ox + 4.80 ) ( eV ).',\n 'The LUMO energy levels were calculated from the difference of the HOMO energy levels and optical band gaps according to the equation : LUMO = ( HOMO + E opt g ) eV , which lies in the range of -3.79 ∼ -3.88 eV.',\n 'The electrochemical data are summarized in Table 1.',\n 'All polymers showed very deep HOMO levels of ca. -5.5 eV , which were much lower than the reported benzodithiophene-NT ( PBDT - DTNT ) based poly- mers , 20 illustrating that IDT was a good donor unit that can offer deep HOMO level and high V oc of the PSCs based on the target polymers can be anticipated.',\n 'Mobility.',\n 'Hole mobility of donor polymers played an important role in the OPV performance of the resulting PSCs.',\n '53 In order to evaluate the hole mobility of the resulting polymers , corresponding hole - only devices with configuration o f I T O / p o l y ( 3 , 4 -e t h y l e n e d i o x y t h i o p h e n e ) : p o l y -(styrenesulfonate) ( PEDOT : PSS ) / polymer / MoO 3 / Al were fabricated and the hole mobilities were obtained by using the space charge limited current ( SCLC ) model.',\n 'The calculated hole mobilities of PIDT - EHNT , PIDT - DTNT , and PIDT-C12NT were 9.84 × 10^-5 , 1.66 × 10^-4 , and 2.42 × 10^-4 cm^2 V -1 s^-1 , respectively.',\n 'When considering that PIDT-C12NT shows higher hole mobility and superior absorption to that of PIDT - EHNT and PIDT - DTNT , it is rational to envisage that PIDT-C12NT would achieve superior processability and backbone planarity among three polymers.',\n 'Morphology.',\n 'Insight into the nanoscale surface topography of the polymer : PC71BM blend films with weight ratio of 1 : 2 were carried out by tapping mode atomic force microscopy ( AFM ).',\n 'As can be seen in Figure 5 , blend films based on PIDT - EHNT and PIDT - DTNT with PC71BM showed unexpected phase separation , with corresponding domain size over 200 and 100 nm , respectively which are much larger than typical exciton diffusion length of ca. 10 nm.',\n '54,55 In contrast , PIDT-C12NT based blend film displayed an interpenetrating bicontinuous network between polymer and PC71BM with optimal domain size of 10-20 nm that is pretty favorable for efficient diffusion of excitons to donor - acceptor interface.',\n 'It was also found that the blend films of PIDT - EHNT , PIDT - DTNT , and PIDT-C12NT with PC71BM showed surface roughness with rootmean - square ( rms ) of 4.0 , 2.6 , and 0.4 nm , respectively.',\n 'As film morphology plays a critical role in charge transport , the smoother blend film based on PIDT-C12NT that present more favorable morphological features , may effectively reduce charge recombination and traps , and thereby potentially lead to higher J sc and fill factor ( FF ) than the other two polymers.',\n 'Photovoltaic Properties.',\n 'The photovoltaic properties of the resulting polymers were investigated with a conventional device structure of ITO / PEDOT : PSS ( 40 nm ) / polym e r : P C 7^1 B M ( 8^0 n m ) / p o l y [ ( 9 , 9 -b i s ( 3 ′ -( N , Ndimethylamino)propyl)-2,7-fluorene)-alt-2,7-(9,9-dioctylfluorene) ] ( PFN ) ( 5 nm ) / Al ( 100 nm ) , here a thin layer of PFN was employed as the cathode interlayer since it can improve the electron extraction.',\n '56-58 We chose PC71BM as the acceptor because it had much stronger absorption in the visible region than PC61BM , which can complement the absorption valley of the polymers and beneficial for high - efficiency PSCs.',\n '59 The BHJ photoactive layer was prepared by spin - coating chlorobenzene solution of the polymer : PC71BM with weight ratio of 1 : 2 on the top of PEDOT : PSS layer without further treatment.',\n 'The tests were performed under the illumination of AM 1.5G , 100 mW cm^-2 with an active of area of 0.16 cm^2.',\n 'The J-V characteristics are shown in Figure 6a and the parameters of J sc , V oc , FF and PCE of the resulting PSCs are summarized in Table 2.',\n 'It was found that all PSC devices based on these polymers demonstrated relative high V oc of ca. 0.8 - 0.9 V , which benefited from the deep HOMO levels.',\n 'Device based on PIDT - EHNT obtained a low PCE of 1.49% , with a J sc of 4.33 mA cm^-2 , a V oc of 0.86 V and a FF of 40% .',\n 'Slightly improved device performance was realized based on PIDT - DTNT , which exhibited a V oc of 0.80 V , a FF of 45% , but a dramatically improved J sc of 8.26 mA cm^-2 , leading to a moderate PCE of 2.97% .',\n 'Best device performance with a PCE of 5.05% was achieved based on PIDT-C12NT , which showed further improved J sc of 10.21 mA cm^-2 , a V oc of 0.90 V and a FF of 55% .',\n 'We recognize that both J sc and FF of PIDT-C12NT based device were much higher than those of obtained based on the other two polymers , which could be ascribed to optimal morphology with appropriate domain size of the photoactive layer and superior charge carrier mobility that can promote the exciton separation and charge transporting , and consequently lead to simultaneously increased J sc and FF.',\n 'The increased J sc of PIDT-C12NT may be also attributed to the enhanced film absorption coefficient so that more sunlight can be absorbed and then generate more excitons , finally produce more charges.',\n 'It is also worth pointing out that the accuracy of the J sc results was further confirmed by external quantum efficiency ( EQEs ) measurement under illumination of monochromatic light.',\n 'The EQE spectra are shown in Figure 6b.',\n 'The calculated current density from the EQE measurement were 4.18 , 7.83 , and 9.72 mA cm^-2 for PIDT - EHNT , PIDT - DTNT , and PIDT-C12NT respectively , which show mismatches with that of determined from current density measurement of three devices in the range of 3-5 % .',\n 'One can clearly observe the distinctly improved EQE values of polymers by switching the thiophene spacer from the branched 2-ethylhexyl side chain ( PIDT - EHNT ) to linear hexyl side chain ( PIDT - DTNT ) , which was further improved for the bithiophene spacer with linear dodecyl side chain attached on the optimized position ( PIDT-C12NT ) .',\n 'In conclusion , three donor - acceptor type low band gap conjugated polymers based on indacenodithiophene ( IDT ) and naphtho[1,2-c:5,6-c]bis(1,2,5-thiadiazole) ( NT ) with differ - ent thiophene spacers were synthesized by Stille copolymerization.',\n 'All polymers showed relatively deep HOMO levels that consequently lead to high open circuit voltage of the solar cell devices.',\n 'It was shown that the improvement of the processability , backbone planarity , charge carrier mobility and optimal morphology of bulk heterojunction film blended with PC71BM can be achieved by switching the spacer between the IDT and NT units .']"
     },
     "execution_count": 39,
     "metadata": {},
     "output_type": "execute_result"
    }
   ],
   "source": [
    "para.raw_sentences"
   ],
   "metadata": {
    "collapsed": false
   }
  },
  {
   "cell_type": "code",
   "execution_count": 93,
   "outputs": [],
   "source": [
    "tks = para.tokens"
   ],
   "metadata": {
    "collapsed": false
   }
  },
  {
   "cell_type": "code",
   "execution_count": 97,
   "outputs": [
    {
     "data": {
      "text/plain": "34"
     },
     "execution_count": 97,
     "metadata": {},
     "output_type": "execute_result"
    }
   ],
   "source": [
    "len(tks[0])"
   ],
   "metadata": {
    "collapsed": false
   }
  },
  {
   "cell_type": "code",
   "execution_count": 87,
   "outputs": [
    {
     "data": {
      "text/plain": "3318"
     },
     "execution_count": 87,
     "metadata": {},
     "output_type": "execute_result"
    }
   ],
   "source": [
    "len(merge_list_of_lists(tks))"
   ],
   "metadata": {
    "collapsed": false
   }
  },
  {
   "cell_type": "code",
   "execution_count": 92,
   "outputs": [
    {
     "data": {
      "text/plain": "3318"
     },
     "execution_count": 92,
     "metadata": {},
     "output_type": "execute_result"
    }
   ],
   "source": [
    "len(merge_list_of_lists([sent.tokens for sent in para.sentences]))"
   ],
   "metadata": {
    "collapsed": false
   }
  },
  {
   "cell_type": "code",
   "execution_count": 96,
   "outputs": [
    {
     "data": {
      "text/plain": "245"
     },
     "execution_count": 96,
     "metadata": {},
     "output_type": "execute_result"
    }
   ],
   "source": [
    "para.sentences[0].end"
   ],
   "metadata": {
    "collapsed": false
   }
  },
  {
   "cell_type": "code",
   "execution_count": null,
   "outputs": [],
   "source": [],
   "metadata": {
    "collapsed": false
   }
  }
 ],
 "metadata": {
  "kernelspec": {
   "display_name": "Python 3",
   "language": "python",
   "name": "python3"
  },
  "language_info": {
   "codemirror_mode": {
    "name": "ipython",
    "version": 2
   },
   "file_extension": ".py",
   "mimetype": "text/x-python",
   "name": "python",
   "nbconvert_exporter": "python",
   "pygments_lexer": "ipython2",
   "version": "2.7.6"
  }
 },
 "nbformat": 4,
 "nbformat_minor": 0
}
