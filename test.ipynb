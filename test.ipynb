{
 "cells": [
  {
   "cell_type": "code",
   "execution_count": 2,
   "metadata": {
    "collapsed": true
   },
   "outputs": [],
   "source": [
    "import torch\n",
    "import json\n",
    "import logging\n",
    "from lstm_crf.dataset import Dataset\n",
    "from lstm_crf.args import Config\n",
    "\n",
    "logger = logging.getLogger(__name__)"
   ]
  },
  {
   "cell_type": "code",
   "execution_count": 2,
   "outputs": [],
   "source": [
    "config = Config()\n",
    "config.data_dir = 'data/LaptopReview'\n",
    "config.bert_model_name_or_path = 'distilbert-base-uncased'\n",
    "config.debug_mode = True\n",
    "config.get_meta()"
   ],
   "metadata": {
    "collapsed": false
   }
  },
  {
   "cell_type": "code",
   "execution_count": 3,
   "outputs": [],
   "source": [
    "dataset = Dataset()"
   ],
   "metadata": {
    "collapsed": false
   }
  },
  {
   "cell_type": "code",
   "execution_count": 4,
   "outputs": [
    {
     "name": "stderr",
     "output_type": "stream",
     "text": [
      "/opt/homebrew/Caskroom/miniforge/base/envs/py39/lib/python3.9/site-packages/transformers/configuration_utils.py:336: UserWarning: Passing `gradient_checkpointing` to a config initialization is deprecated and will be removed in v5 Transformers. Using `model.gradient_checkpointing_enable()` instead, or if you are using the `Trainer` API, pass `gradient_checkpointing=True` in your `TrainingArguments`.\n",
      "  warnings.warn(\n",
      "Some weights of the model checkpoint at distilbert-base-uncased were not used when initializing DistilBertModel: ['vocab_layer_norm.bias', 'vocab_transform.bias', 'vocab_projector.bias', 'vocab_projector.weight', 'vocab_layer_norm.weight', 'vocab_transform.weight']\n",
      "- This IS expected if you are initializing DistilBertModel from the checkpoint of a model trained on another task or with another architecture (e.g. initializing a BertForSequenceClassification model from a BertForPreTraining model).\n",
      "- This IS NOT expected if you are initializing DistilBertModel from the checkpoint of a model that you expect to be exactly identical (initializing a BertForSequenceClassification model from a BertForSequenceClassification model).\n"
     ]
    },
    {
     "name": "stdout",
     "output_type": "stream",
     "text": [
      "huggingface/tokenizers: The current process just got forked, after parallelism has already been used. Disabling parallelism to avoid deadlocks...\n",
      "To disable this warning, you can either:\n",
      "\t- Avoid using `tokenizers` before the fork if possible\n",
      "\t- Explicitly set the environment variable TOKENIZERS_PARALLELISM=(true | false)\n"
     ]
    },
    {
     "name": "stderr",
     "output_type": "stream",
     "text": [
      "100%|██████████| 100/100 [00:40<00:00,  2.48it/s]\n"
     ]
    },
    {
     "data": {
      "text/plain": "<lstm_crf.dataset.Dataset at 0x15e065d30>"
     },
     "execution_count": 4,
     "metadata": {},
     "output_type": "execute_result"
    }
   ],
   "source": [
    "dataset.prepare(config, partition='test')"
   ],
   "metadata": {
    "collapsed": false
   }
  },
  {
   "cell_type": "code",
   "execution_count": 1,
   "outputs": [],
   "source": [
    "from dataclasses import dataclass\n"
   ],
   "metadata": {
    "collapsed": false
   }
  },
  {
   "cell_type": "code",
   "execution_count": 47,
   "outputs": [],
   "source": [
    "@dataclass\n",
    "class Hello:\n",
    "    a: int = 0\n",
    "    b: int = 0\n",
    "\n",
    "    def __setitem__(self, k, v):\n",
    "        self.__dict__.update(zip(k, v) if type(k) is tuple else [(k, v)])"
   ],
   "metadata": {
    "collapsed": false
   }
  },
  {
   "cell_type": "code",
   "execution_count": 48,
   "outputs": [],
   "source": [
    "def convert(instance_class, **kwargs):\n",
    "    data_points = list()\n",
    "    keys = tuple(kwargs.keys())\n",
    "\n",
    "    for feature_point_list in zip(*tuple(kwargs.values())):\n",
    "        print(feature_point_list)\n",
    "        inst = instance_class()\n",
    "        inst[keys] = feature_point_list\n",
    "        data_points.append(inst)\n",
    "\n",
    "    return data_points"
   ],
   "metadata": {
    "collapsed": false
   }
  },
  {
   "cell_type": "code",
   "execution_count": 49,
   "outputs": [
    {
     "name": "stdout",
     "output_type": "stream",
     "text": [
      "(1, 5)\n",
      "(2, 6)\n",
      "(3, 7)\n",
      "(4, 8)\n"
     ]
    }
   ],
   "source": [
    "a = [1,2,3,4]\n",
    "b = [5,6,7,8]\n",
    "\n",
    "xs = convert(Hello, a=a, b=b)"
   ],
   "metadata": {
    "collapsed": false
   }
  },
  {
   "cell_type": "code",
   "execution_count": 50,
   "outputs": [
    {
     "data": {
      "text/plain": "[Hello(a=1, b=5), Hello(a=2, b=6), Hello(a=3, b=7), Hello(a=4, b=8)]"
     },
     "execution_count": 50,
     "metadata": {},
     "output_type": "execute_result"
    }
   ],
   "source": [
    "xs"
   ],
   "metadata": {
    "collapsed": false
   }
  },
  {
   "cell_type": "code",
   "execution_count": 52,
   "outputs": [],
   "source": [
    "def instance_list_to_feature_lists(instance_list: list, feature_names = None):\n",
    "    if not feature_names:\n",
    "        feature_names = list(instance_list[0].__dict__.keys())\n",
    "\n",
    "    features_lists = list()\n",
    "    for name in feature_names:\n",
    "        features_lists.append([getattr(inst, name) for inst in instance_list])\n",
    "\n",
    "    return features_lists\n"
   ],
   "metadata": {
    "collapsed": false
   }
  },
  {
   "cell_type": "code",
   "execution_count": 54,
   "outputs": [],
   "source": [
    "a, b = instance_list_to_feature_lists(xs)"
   ],
   "metadata": {
    "collapsed": false
   }
  },
  {
   "cell_type": "code",
   "execution_count": 57,
   "outputs": [],
   "source": [
    "x = [1,2,3,4,5]"
   ],
   "metadata": {
    "collapsed": false
   }
  },
  {
   "cell_type": "code",
   "execution_count": 58,
   "outputs": [
    {
     "ename": "TypeError",
     "evalue": "list indices must be integers or slices, not tuple",
     "output_type": "error",
     "traceback": [
      "\u001B[0;31m---------------------------------------------------------------------------\u001B[0m",
      "\u001B[0;31mTypeError\u001B[0m                                 Traceback (most recent call last)",
      "\u001B[0;32m/var/folders/_x/ldc86sks0rl7p0mhjbq4vrs80000gn/T/ipykernel_97866/452966718.py\u001B[0m in \u001B[0;36m<module>\u001B[0;34m\u001B[0m\n\u001B[0;32m----> 1\u001B[0;31m \u001B[0my\u001B[0m \u001B[0;34m=\u001B[0m \u001B[0mx\u001B[0m\u001B[0;34m[\u001B[0m\u001B[0;36m2\u001B[0m\u001B[0;34m,\u001B[0m\u001B[0;36m3\u001B[0m\u001B[0;34m]\u001B[0m\u001B[0;34m\u001B[0m\u001B[0;34m\u001B[0m\u001B[0m\n\u001B[0m",
      "\u001B[0;31mTypeError\u001B[0m: list indices must be integers or slices, not tuple"
     ]
    }
   ],
   "source": [
    "y = x[2,3]"
   ],
   "metadata": {
    "collapsed": false
   }
  },
  {
   "cell_type": "code",
   "execution_count": 3,
   "outputs": [],
   "source": [
    "data_dir = './data/MSIE/test_split.txt'"
   ],
   "metadata": {
    "collapsed": false
   }
  },
  {
   "cell_type": "code",
   "execution_count": 11,
   "outputs": [],
   "source": [
    "with open(data_dir, 'r', encoding='utf-8') as f:\n",
    "    d = json.load(f)\n"
   ],
   "metadata": {
    "collapsed": false
   }
  },
  {
   "cell_type": "code",
   "execution_count": 9,
   "outputs": [
    {
     "data": {
      "text/plain": "14"
     },
     "execution_count": 9,
     "metadata": {},
     "output_type": "execute_result"
    }
   ],
   "source": [
    "len(d)"
   ],
   "metadata": {
    "collapsed": false
   }
  },
  {
   "cell_type": "code",
   "execution_count": 10,
   "outputs": [
    {
     "data": {
      "text/plain": "{'id': 40,\n 'text': ['their',\n  'ter-polymers',\n  'containing',\n  'perylene',\n  'units',\n  'were',\n  'synthesized',\n  'using',\n  'Suzuki',\n  'coupling',\n  'polymerization.',\n  'The',\n  'perylene',\n  'units',\n  'were',\n  'introduced',\n  'to',\n  'improve',\n  'the',\n  'charge',\n  '-',\n  'transport',\n  'ability',\n  'by',\n  'enhancing',\n  'the',\n  'π-π',\n  'interaction',\n  'between',\n  'polymer',\n  'chains.',\n  'The',\n  'resulting',\n  'polymers',\n  'were',\n  'characterized',\n  'by',\n  '1H',\n  'NMR',\n  ',',\n  'elemental',\n  'analysis',\n  ',',\n  'DSC',\n  ',',\n  'and',\n  'TGA.',\n  'The',\n  'synthesized',\n  'polymers',\n  'were',\n  'soluble',\n  'in',\n  'common',\n  'organic',\n  'solvents',\n  ',',\n  'and',\n  'formed',\n  'smooth',\n  'and',\n  'uniform',\n  'spin',\n  '-',\n  'coated',\n  'thin',\n  'films.',\n  'All',\n  'of',\n  'the',\n  'polymers',\n  'studied',\n  'were',\n  'found',\n  'to',\n  'exhibit',\n  'good',\n  'thermal',\n  'stability',\n  ',',\n  'losing',\n  'less',\n  'than',\n  '5%',\n  'of',\n  'their',\n  'weight',\n  'upon',\n  'heating',\n  'to',\n  'approximately',\n  '350',\n  '°',\n  'C.',\n  'Perylene-containing',\n  'polymers',\n  'showed',\n  'higher',\n  'field',\n  '-',\n  'effect',\n  'mobilities',\n  'than',\n  'the',\n  'corresponding',\n  'PFDTBT',\n  'or',\n  'PFD2TBT',\n  'polymers',\n  'because',\n  'of',\n  'the',\n  'enhanced',\n  'π-π',\n  'interaction',\n  'between',\n  'polymer',\n  'chains',\n  'upon',\n  'the',\n  'introduction',\n  'of',\n  'perylene',\n  'units.',\n  'Bulk',\n  'heterojunction',\n  'solar',\n  'cells',\n  'were',\n  'fabricated',\n  'with',\n  'configuration',\n  'of',\n  'ITO',\n  '/',\n  'PEDOT',\n  ':',\n  'PSS',\n  '/',\n  'polymer',\n  ':',\n  'PC71BM',\n  '/',\n  'TiO',\n  'x',\n  '/',\n  'Al.',\n  'The',\n  'devices',\n  'using',\n  'the',\n  'perylene-containing',\n  'polymers',\n  'showed',\n  'higher',\n  'short',\n  '-',\n  'circuit',\n  'currents',\n  ',',\n  'and',\n  'fill',\n  'factors',\n  'than',\n  'the',\n  'corresponding',\n  'PFDTBT',\n  'or',\n  'PFD2TBT',\n  'devices.',\n  'One',\n  'of',\n  'the',\n  'fabricated',\n  'devices',\n  'using',\n  'a',\n  'perylene-containing',\n  'copolymer',\n  'showed',\n  'a',\n  'maximum',\n  'power',\n  'conversion',\n  'efficiency',\n  'of',\n  '3.16%',\n  ',',\n  'with',\n  'a',\n  'short',\n  'circuit',\n  'current',\n  'density',\n  'of',\n  '9.61',\n  'mA',\n  '/',\n  'cm^2',\n  ',',\n  'open',\n  'circuit',\n  'voltage',\n  'of',\n  '0.81',\n  'V',\n  ',',\n  'and',\n  'fill',\n  'factor',\n  'of',\n  '41%',\n  '.',\n  'Extensive',\n  'research',\n  'has',\n  'been',\n  'carried',\n  'out',\n  'during',\n  'the',\n  'past',\n  'decade',\n  'on',\n  'bulk',\n  'heterojunction',\n  'solar',\n  'cells',\n  'that',\n  'utilize',\n  'organic',\n  'semiconducting',\n  'materials.',\n  '1',\n  'The',\n  'main',\n  'advantages',\n  'of',\n  'organic',\n  'photovoltaic',\n  'devices',\n  '(',\n  'OPVs',\n  ')',\n  'are',\n  'their',\n  'lightweight',\n  ',',\n  'flexible',\n  'nature',\n  ',',\n  'and',\n  'their',\n  'cost',\n  '-',\n  'effective',\n  'manufacture',\n  'by',\n  'various',\n  'printing',\n  'technologies.',\n  'The',\n  'photoconversion',\n  'process',\n  'in',\n  'OPVs',\n  'is',\n  'accomplished',\n  'by',\n  'efficient',\n  'light',\n  'absorption',\n  'by',\n  'conjugated',\n  'polymers',\n  'and',\n  'accepting',\n  'materials',\n  ',',\n  'charge',\n  'separation',\n  'at',\n  'the',\n  'interface',\n  'of',\n  'the',\n  'donor',\n  'polymer',\n  'and',\n  'the',\n  'accepting',\n  'materials',\n  ',',\n  'and',\n  'subsequent',\n  'charge',\n  'collection',\n  'at',\n  'the',\n  'electrodes.',\n  'Matching',\n  'the',\n  'absorption',\n  'of',\n  'the',\n  'conjugated',\n  'polymer',\n  'to',\n  'the',\n  'solar',\n  'spectrum',\n  'determines',\n  'the',\n  'ultimate',\n  'performance',\n  'of',\n  'the',\n  'solar',\n  'cell.',\n  'Among',\n  'the',\n  'variety',\n  'of',\n  'conjugated',\n  'polymers',\n  'that',\n  'have',\n  'been',\n  'studied',\n  ',',\n  'poly(p-phenylenevinylene)',\n  '(',\n  'PPV',\n  ')',\n  ',',\n  '2',\n  'poly(alkylfluorene)',\n  '(',\n  'PF',\n  ')',\n  ',',\n  'and',\n  'polythiophene',\n  '(',\n  'PT',\n  ')',\n  '3',\n  'derivatives',\n  'are',\n  'typical',\n  'p',\n  '-',\n  'type',\n  'electron',\n  'donor',\n  'materials.',\n  'However',\n  ',',\n  'the',\n  'performance',\n  'of',\n  'photovoltaic',\n  'cells',\n  'with',\n  'these',\n  'polymers',\n  'is',\n  'limited',\n  'by',\n  'their',\n  'relatively',\n  'large',\n  'band',\n  'gap',\n  'energies',\n  ',',\n  'which',\n  'are',\n  'not',\n  'yet',\n  'optimized',\n  'with',\n  'respect',\n  'to',\n  'the',\n  'solar',\n  'spectrum.',\n  'Therefore',\n  ',',\n  'the',\n  'design',\n  'and',\n  'synthesis',\n  'of',\n  'new',\n  'low',\n  '-',\n  'band',\n  'gap',\n  'polymers',\n  'become',\n  'very',\n  'important',\n  'to',\n  'better',\n  'harvest',\n  'the',\n  'solar',\n  'spectrum',\n  ',',\n  'especially',\n  'in',\n  'the',\n  'red',\n  'and',\n  'near',\n  '-',\n  'infrared',\n  'ranges',\n  ',',\n  'which',\n  'can',\n  'lead',\n  'to',\n  'possible',\n  'enhancements',\n  'in',\n  'the',\n  'photocurrents',\n  'of',\n  'OPVs.',\n  '4',\n  'The',\n  'most',\n  'widely',\n  'used',\n  'approach',\n  'for',\n  'obtaining',\n  'low',\n  '-',\n  'band',\n  'gap',\n  'structures',\n  'is',\n  'to',\n  'utilize',\n  'internal',\n  'charge',\n  'transfer',\n  '(',\n  'ICT',\n  ')',\n  'from',\n  'an',\n  'electron',\n  '-',\n  'donating',\n  'to',\n  'an',\n  'electron',\n  '-',\n  'accepting',\n  'moiety.',\n  '5-7',\n  'Some',\n  'interesting',\n  'structures',\n  'using',\n  'the',\n  'ICT',\n  'approach',\n  'have',\n  'been',\n  'reported.',\n  'For',\n  '(',\n  'PCPDTBT',\n  ')',\n  ',',\n  'which',\n  'showed',\n  'absorption',\n  'in',\n  'the',\n  'range',\n  '380-900',\n  'nm',\n  'in',\n  'the',\n  'AM',\n  '1.5',\n  'G',\n  'spectrum',\n  ',',\n  'good',\n  'hole',\n  'mobility',\n  '(',\n  '0.01',\n  '-',\n  '0.1',\n  'cm^2',\n  'V',\n  '-1',\n  's^-1',\n  ')',\n  'and',\n  'a',\n  'high',\n  'power',\n  'conversion',\n  'efficiency',\n  '(',\n  'PCE',\n  ')',\n  'of',\n  '3.2%',\n  'with',\n  'PC71BM',\n  'as',\n  'the',\n  'electron',\n  'acceptor.',\n  '8,9',\n  'A',\n  '9.9dialkylfluorene',\n  'unit',\n  'has',\n  'previously',\n  'been',\n  'used',\n  'as',\n  'a',\n  'building',\n  'block',\n  'for',\n  'constructing',\n  'donor',\n  '-',\n  'acceptor',\n  '-',\n  'type',\n  'conjugated',\n  'polymers',\n  'in',\n  'OPVs',\n  'such',\n  'as',\n  'poly[2,7-(9,9′-dialkylfluorene)-alt-5,5′-(4′,7′-di-2-thienyl-2′,1′,3′-benzothiadiazole)]',\n  '(',\n  'PFDTBT',\n  ').',\n  'PFDTBT',\n  'showed',\n  'a',\n  'maximum',\n  'PCE',\n  'of',\n  '2.2%',\n  ',',\n  'and',\n  'PFDTBT',\n  'derivatives',\n  'containing',\n  'branched',\n  'alkyl',\n  'chains',\n  '(',\n  'BisDMO',\n  '-',\n  'PFDTBT',\n  ')',\n  'showed',\n  'higher',\n  'PCEs.',\n  '10,11',\n  'Some',\n  'molecules',\n  'and',\n  'polymers',\n  'that',\n  'have',\n  'flat',\n  'structures',\n  'such',\n  'as',\n  'fluorene',\n  ',',\n  '12-16',\n  'anthracene',\n  ',',\n  '17',\n  'and',\n  'pyrene',\n  '18,19',\n  'have',\n  'been',\n  'reported',\n  'to',\n  'form',\n  'excimers',\n  'or',\n  'aggregates',\n  'by',\n  'strong',\n  'interchain',\n  'π-π',\n  'interactions.',\n  'Excimer',\n  'formation',\n  'could',\n  'affect',\n  'the',\n  'emission',\n  'properties',\n  'of',\n  'molecules',\n  'or',\n  'polymers',\n  ',',\n  'therefore',\n  ',',\n  'the',\n  'excimer',\n  'or',\n  'exciplex',\n  'formation',\n  'has',\n  'been',\n  'used',\n  'as',\n  'a',\n  'fluorescence',\n  'probe',\n  'for',\n  'molecular',\n  'recognition.',\n  '19',\n  'In',\n  'organic',\n  'photovoltaic',\n  'devices',\n  ',',\n  'π-π',\n  'interactions',\n  'between',\n  'low',\n  '-',\n  'band',\n  'gap',\n  'donor',\n  'polymers',\n  'are',\n  'important',\n  'for',\n  'charge',\n  'transportation.',\n  'Enhanced',\n  'π-π',\n  'interactions',\n  'in',\n  'p',\n  '-',\n  'type',\n  'donor',\n  'polymers',\n  'could',\n  'improve',\n  'their',\n  'chargetransport',\n  'ability',\n  ',',\n  'and',\n  'thus',\n  'increase',\n  'short',\n  '-',\n  'circuit',\n  'currents',\n  'in',\n  'solar',\n  'cells.',\n  'In',\n  'this',\n  'study',\n  'we',\n  'report',\n  'on',\n  'a',\n  'new',\n  'approach',\n  'to',\n  'improve',\n  'PCE',\n  'of',\n  'OPVs',\n  'by',\n  'enhancing',\n  'the',\n  'interchain',\n  'π-π',\n  'interaction.',\n  'To',\n  'do',\n  'this',\n  'we',\n  'introduced',\n  'flat',\n  'perylene',\n  'units',\n  'into',\n  'the',\n  'conjugated',\n  'polymers.',\n  'We',\n  'synthesized',\n  'poly[2,7-(9,9′-dioctylfluorene)-alt-5,5′-(4′,7′-di-2-thienyl-2′,1′,3′-benzothiadiazole)]',\n  '(',\n  'PFDTBT',\n  ')',\n  ',',\n  'poly[2,2′-(9,9-dioctylfluorene-2,7-diyl)dithiophene-alt-5,5′-(4′,7′-di-2-thienyl-2′,1′,3′-benzothiadiazole)]',\n  '(',\n  'PFD2TBT',\n  ')',\n  ',',\n  'and',\n  'their',\n  'ter-polymers',\n  'with',\n  'perylene',\n  'units.',\n  'Optical',\n  ',',\n  'electrical',\n  'and',\n  'photovoltaic',\n  'properties',\n  'of',\n  'the',\n  'polymers',\n  'were',\n  'investigated.',\n  'Synthetic',\n  'routes',\n  'and',\n  'polymer',\n  'structures',\n  'are',\n  'shown',\n  'in',\n  'Schemes',\n  '1',\n  'and',\n  '2',\n  '.',\n  'The',\n  'UV',\n  '-',\n  'visible',\n  'absorption',\n  'spectra',\n  'of',\n  'the',\n  'synthesized',\n  'polymers',\n  'were',\n  'recorded',\n  'in',\n  'both',\n  'chloroform',\n  'solution',\n  'and',\n  'as',\n  'a',\n  'solid',\n  'thin',\n  'film.',\n  'PFDTBT',\n  'and',\n  'the',\n  'ter-polymer',\n  'solutions',\n  'exhibited',\n  'two',\n  'distinct',\n  'absorption',\n  'bands',\n  ',',\n  'where',\n  'the',\n  'first',\n  'absorption',\n  'peak',\n  'is',\n  'at',\n  'around',\n  '387',\n  'nm',\n  ',',\n  'corresponding',\n  'to',\n  'the',\n  'π-π*',\n  'transition',\n  'of',\n  'the',\n  'conjugated',\n  'polymer',\n  'backbone',\n  ',',\n  '23,24',\n  'and',\n  'the',\n  'second',\n  'absorption',\n  'band',\n  'in',\n  'the',\n  'longer',\n  'wavelength',\n  'region',\n  'at',\n  'around',\n  '530',\n  'nm',\n  ',',\n  'can',\n  'be',\n  'attributed',\n  'to',\n  'the',\n  'strong',\n  'internal',\n  'charge',\n  '-',\n  'transfer',\n  '(',\n  'ICT',\n  ')',\n  'interaction',\n  'between',\n  'donating',\n  'and',\n  'accepting',\n  'groups',\n  'in',\n  'the',\n  'main',\n  'chain.',\n  '21',\n  'Peak',\n  'and',\n  'edge',\n  'positions',\n  'were',\n  'almost',\n  'equivalent',\n  'for',\n  'PFDTBT',\n  ',',\n  'PFDTBT_5Per',\n  'and',\n  'PFDTBT_10Per',\n  ',',\n  'but',\n  'the',\n  'maximum',\n  'absorption',\n  'peak',\n  'for',\n  'PFDTBT_20Per',\n  'moved',\n  'to',\n  'a',\n  'shorter',\n  'wavelength',\n  'region.',\n  'This',\n  'might',\n  'be',\n  'due',\n  'to',\n  'a',\n  'decrease',\n  'in',\n  'the',\n  'internal',\n  'charge',\n  '-',\n  'transfer',\n  '(',\n  'ICT',\n  ')',\n  'interaction',\n  'cause',\n  'by',\n  'a',\n  'decreased',\n  'content',\n  'of',\n  'electron',\n  '-',\n  'withdrawing',\n  'DTBT',\n  'monomer',\n  'in',\n  'the',\n  'copolymer.',\n  'PFD2TBT',\n  'and',\n  'the',\n  'ter-polymer',\n  'solutions',\n  'also',\n  'exhibited',\n  'two',\n  'absorption',\n  'bands',\n  'at',\n  'around',\n  '410',\n  'and',\n  '520',\n  'nm.',\n  'The',\n  'absorption',\n  'maxima',\n  'and',\n  'edges',\n  'of',\n  'the',\n  'polymer',\n  'solutions',\n  'showed',\n  'little',\n  'dependence',\n  'upon',\n  'perylene',\n  'contents.',\n  'The',\n  'UV',\n  '-',\n  'visible',\n  'absorption',\n  'spectra',\n  'of',\n  'the',\n  'synthesized',\n  'polymers',\n  'in',\n  'a',\n  'chloroform',\n  'solution',\n  'are',\n  'shown',\n  'in',\n  'Figure',\n  '2.',\n  'The',\n  'polymer',\n  'thin',\n  'films',\n  'showed',\n  'a',\n  'similar',\n  'absorption',\n  'trend',\n  ';',\n  'however',\n  ',',\n  'the',\n  'films',\n  'showed',\n  'increasingly',\n  'larger',\n  'redshifts',\n  'in',\n  'absorption',\n  'than',\n  'those',\n  'for',\n  'the',\n  'solution',\n  'as',\n  'shown',\n  'in',\n  'Figure',\n  '3.',\n  'A',\n  'strong',\n  'interchain',\n  'interaction',\n  'between',\n  'polymer',\n  'chains',\n  'in',\n  'the',\n  'solid',\n  ...],\n 'entities': [{'id': 461850,\n   'label': 'CN',\n   'start_offset': 3,\n   'end_offset': 4},\n  {'id': 461851, 'label': 'CN', 'start_offset': 12, 'end_offset': 13},\n  {'id': 461852, 'label': 'PN', 'start_offset': 77, 'end_offset': 79},\n  {'id': 461853, 'label': 'PV', 'start_offset': 91, 'end_offset': 94},\n  {'id': 461854, 'label': 'CN', 'start_offset': 95, 'end_offset': 96},\n  {'id': 461855, 'label': 'PN', 'start_offset': 98, 'end_offset': 102},\n  {'id': 461856, 'label': 'CN', 'start_offset': 105, 'end_offset': 106},\n  {'id': 461857, 'label': 'CN', 'start_offset': 107, 'end_offset': 108},\n  {'id': 461858, 'label': 'CN', 'start_offset': 122, 'end_offset': 123},\n  {'id': 480694, 'label': 'CN', 'start_offset': 133, 'end_offset': 147},\n  {'id': 461865, 'label': 'CN', 'start_offset': 151, 'end_offset': 152},\n  {'id': 461866, 'label': 'PN', 'start_offset': 155, 'end_offset': 159},\n  {'id': 461867, 'label': 'PN', 'start_offset': 161, 'end_offset': 163},\n  {'id': 461868, 'label': 'CN', 'start_offset': 166, 'end_offset': 167},\n  {'id': 461869, 'label': 'CN', 'start_offset': 168, 'end_offset': 169},\n  {'id': 480695, 'label': 'CN', 'start_offset': 177, 'end_offset': 179},\n  {'id': 461871, 'label': 'PN', 'start_offset': 182, 'end_offset': 185},\n  {'id': 461872, 'label': 'PV', 'start_offset': 186, 'end_offset': 187},\n  {'id': 461873, 'label': 'PN', 'start_offset': 190, 'end_offset': 194},\n  {'id': 461874, 'label': 'PV', 'start_offset': 195, 'end_offset': 199},\n  {'id': 461875, 'label': 'PN', 'start_offset': 200, 'end_offset': 203},\n  {'id': 461876, 'label': 'PV', 'start_offset': 204, 'end_offset': 206},\n  {'id': 461877, 'label': 'PN', 'start_offset': 208, 'end_offset': 210},\n  {'id': 461878, 'label': 'PV', 'start_offset': 211, 'end_offset': 212},\n  {'id': 461879, 'label': 'CN', 'start_offset': 330, 'end_offset': 331},\n  {'id': 461880, 'label': 'CN', 'start_offset': 332, 'end_offset': 333},\n  {'id': 461881, 'label': 'CN', 'start_offset': 336, 'end_offset': 337},\n  {'id': 461882, 'label': 'CN', 'start_offset': 338, 'end_offset': 339},\n  {'id': 461883, 'label': 'CN', 'start_offset': 342, 'end_offset': 343},\n  {'id': 461884, 'label': 'CN', 'start_offset': 344, 'end_offset': 345},\n  {'id': 461885, 'label': 'PN', 'start_offset': 372, 'end_offset': 375},\n  {'id': 461886, 'label': 'PN', 'start_offset': 397, 'end_offset': 399},\n  {'id': 461887, 'label': 'PN', 'start_offset': 441, 'end_offset': 443},\n  {'id': 461888, 'label': 'CN', 'start_offset': 477, 'end_offset': 478},\n  {'id': 461889, 'label': 'PN', 'start_offset': 482, 'end_offset': 483},\n  {'id': 461890, 'label': 'PV', 'start_offset': 486, 'end_offset': 487},\n  {'id': 461891, 'label': 'PV', 'start_offset': 488, 'end_offset': 489},\n  {'id': 461892, 'label': 'Condition', 'start_offset': 490, 'end_offset': 494},\n  {'id': 461893, 'label': 'PN', 'start_offset': 496, 'end_offset': 498},\n  {'id': 461894, 'label': 'PV', 'start_offset': 499, 'end_offset': 500},\n  {'id': 461895, 'label': 'PV', 'start_offset': 501, 'end_offset': 506},\n  {'id': 461896, 'label': 'PN', 'start_offset': 510, 'end_offset': 513},\n  {'id': 461897, 'label': 'PN', 'start_offset': 514, 'end_offset': 515},\n  {'id': 461898, 'label': 'PV', 'start_offset': 517, 'end_offset': 518},\n  {'id': 461899, 'label': 'CN', 'start_offset': 519, 'end_offset': 520},\n  {'id': 461900, 'label': 'CN', 'start_offset': 526, 'end_offset': 527},\n  {'id': 461901, 'label': 'CN', 'start_offset': 549, 'end_offset': 550},\n  {'id': 461902, 'label': 'CN', 'start_offset': 551, 'end_offset': 552},\n  {'id': 461903, 'label': 'CN', 'start_offset': 553, 'end_offset': 554},\n  {'id': 461904, 'label': 'PN', 'start_offset': 557, 'end_offset': 558},\n  {'id': 461905, 'label': 'PV', 'start_offset': 559, 'end_offset': 560},\n  {'id': 461906, 'label': 'CN', 'start_offset': 562, 'end_offset': 563},\n  {'id': 461907, 'label': 'CN', 'start_offset': 566, 'end_offset': 567},\n  {'id': 482650, 'label': 'CN', 'start_offset': 569, 'end_offset': 572},\n  {'id': 461910, 'label': 'CN', 'start_offset': 575, 'end_offset': 576},\n  {'id': 461911, 'label': 'CN', 'start_offset': 587, 'end_offset': 588},\n  {'id': 461912, 'label': 'CN', 'start_offset': 590, 'end_offset': 591},\n  {'id': 461913, 'label': 'CN', 'start_offset': 594, 'end_offset': 595},\n  {'id': 461914, 'label': 'PN', 'start_offset': 649, 'end_offset': 651},\n  {'id': 461915, 'label': 'PN', 'start_offset': 676, 'end_offset': 679},\n  {'id': 461916, 'label': 'PN', 'start_offset': 694, 'end_offset': 695},\n  {'id': 461917, 'label': 'CN', 'start_offset': 709, 'end_offset': 710},\n  {'id': 461918, 'label': 'CN', 'start_offset': 717, 'end_offset': 718},\n  {'id': 461919, 'label': 'CN', 'start_offset': 719, 'end_offset': 720},\n  {'id': 461920, 'label': 'CN', 'start_offset': 722, 'end_offset': 723},\n  {'id': 461921, 'label': 'CN', 'start_offset': 724, 'end_offset': 725},\n  {'id': 461922, 'label': 'CN', 'start_offset': 731, 'end_offset': 732},\n  {'id': 461923, 'label': 'CN', 'start_offset': 771, 'end_offset': 772},\n  {'id': 461924, 'label': 'CN', 'start_offset': 779, 'end_offset': 780},\n  {'id': 461925, 'label': 'PN', 'start_offset': 793, 'end_offset': 795},\n  {'id': 461926, 'label': 'PV', 'start_offset': 798, 'end_offset': 800},\n  {'id': 461927, 'label': 'PN', 'start_offset': 816, 'end_offset': 818},\n  {'id': 461928, 'label': 'PV', 'start_offset': 825, 'end_offset': 827},\n  {'id': 461929, 'label': 'CN', 'start_offset': 860, 'end_offset': 861},\n  {'id': 461930, 'label': 'CN', 'start_offset': 862, 'end_offset': 863},\n  {'id': 461931, 'label': 'CN', 'start_offset': 864, 'end_offset': 865},\n  {'id': 461932, 'label': 'PN', 'start_offset': 869, 'end_offset': 871},\n  {'id': 461933, 'label': 'CN', 'start_offset': 872, 'end_offset': 873},\n  {'id': 461934, 'label': 'CN', 'start_offset': 905, 'end_offset': 906},\n  {'id': 461935, 'label': 'CN', 'start_offset': 910, 'end_offset': 911},\n  {'id': 461936, 'label': 'PN', 'start_offset': 918, 'end_offset': 920},\n  {'id': 461937, 'label': 'PV', 'start_offset': 922, 'end_offset': 923},\n  {'id': 461938, 'label': 'PV', 'start_offset': 924, 'end_offset': 926},\n  {'id': 461939, 'label': 'CN', 'start_offset': 939, 'end_offset': 940},\n  {'id': 461940, 'label': 'CN', 'start_offset': 953, 'end_offset': 954},\n  {'id': 461941, 'label': 'PN', 'start_offset': 1015, 'end_offset': 1019},\n  {'id': 461942, 'label': 'PN', 'start_offset': 1034, 'end_offset': 1037},\n  {'id': 461943, 'label': 'PV', 'start_offset': 1044, 'end_offset': 1045},\n  {'id': 461944, 'label': 'PV', 'start_offset': 1046, 'end_offset': 1048},\n  {'id': 461945, 'label': 'PN', 'start_offset': 1071, 'end_offset': 1072},\n  {'id': 461946, 'label': 'PN', 'start_offset': 1073, 'end_offset': 1076},\n  {'id': 461947, 'label': 'CN', 'start_offset': 1088, 'end_offset': 1089},\n  {'id': 461948, 'label': 'CN', 'start_offset': 1095, 'end_offset': 1096},\n  {'id': 461949, 'label': 'CN', 'start_offset': 1109, 'end_offset': 1110},\n  {'id': 461950, 'label': 'CN', 'start_offset': 1118, 'end_offset': 1119},\n  {'id': 480697, 'label': 'CN', 'start_offset': 1129, 'end_offset': 1133},\n  {'id': 461953, 'label': 'PN', 'start_offset': 1141, 'end_offset': 1144},\n  {'id': 461954, 'label': 'PN', 'start_offset': 1148, 'end_offset': 1150},\n  {'id': 461955, 'label': 'PN', 'start_offset': 1151, 'end_offset': 1153},\n  {'id': 461956, 'label': 'PN', 'start_offset': 1160, 'end_offset': 1162},\n  {'id': 461957, 'label': 'PN', 'start_offset': 1171, 'end_offset': 1174},\n  {'id': 461958, 'label': 'PN', 'start_offset': 1179, 'end_offset': 1182},\n  {'id': 461959, 'label': 'PN', 'start_offset': 1192, 'end_offset': 1194},\n  {'id': 461960, 'label': 'CN', 'start_offset': 1206, 'end_offset': 1207},\n  {'id': 461961, 'label': 'CN', 'start_offset': 1208, 'end_offset': 1209},\n  {'id': 461962, 'label': 'PN', 'start_offset': 1219, 'end_offset': 1221},\n  {'id': 461963, 'label': 'PV', 'start_offset': 1230, 'end_offset': 1232},\n  {'id': 461964, 'label': 'PN', 'start_offset': 1255, 'end_offset': 1258},\n  {'id': 461965, 'label': 'PN', 'start_offset': 1263, 'end_offset': 1265},\n  {'id': 461966, 'label': 'PN', 'start_offset': 1267, 'end_offset': 1269},\n  {'id': 461967, 'label': 'PN', 'start_offset': 1275, 'end_offset': 1277},\n  {'id': 461968, 'label': 'PN', 'start_offset': 1280, 'end_offset': 1283},\n  {'id': 480698, 'label': 'CN', 'start_offset': 1284, 'end_offset': 1288},\n  {'id': 461971, 'label': 'PN', 'start_offset': 1290, 'end_offset': 1293},\n  {'id': 461972, 'label': 'CN', 'start_offset': 1294, 'end_offset': 1295},\n  {'id': 461973, 'label': 'CN', 'start_offset': 1296, 'end_offset': 1297},\n  {'id': 461974, 'label': 'PV', 'start_offset': 1309, 'end_offset': 1310},\n  {'id': 461975, 'label': 'PV', 'start_offset': 1311, 'end_offset': 1313},\n  {'id': 461976, 'label': 'PN', 'start_offset': 1314, 'end_offset': 1316},\n  {'id': 461977, 'label': 'CN', 'start_offset': 1323, 'end_offset': 1324},\n  {'id': 461978, 'label': 'PN', 'start_offset': 1329, 'end_offset': 1332},\n  {'id': 461979, 'label': 'CN', 'start_offset': 1345, 'end_offset': 1346},\n  {'id': 461980, 'label': 'CN', 'start_offset': 1368, 'end_offset': 1369},\n  {'id': 461981, 'label': 'CN', 'start_offset': 1374, 'end_offset': 1375},\n  {'id': 461982, 'label': 'PN', 'start_offset': 1385, 'end_offset': 1386},\n  {'id': 461983, 'label': 'PN', 'start_offset': 1388, 'end_offset': 1392},\n  {'id': 461984, 'label': 'PN', 'start_offset': 1394, 'end_offset': 1395},\n  {'id': 461985, 'label': 'PN', 'start_offset': 1396, 'end_offset': 1399},\n  {'id': 461986, 'label': 'PN', 'start_offset': 1418, 'end_offset': 1421},\n  {'id': 461987, 'label': 'CN', 'start_offset': 1431, 'end_offset': 1432},\n  {'id': 461988, 'label': 'PN', 'start_offset': 1573, 'end_offset': 1575},\n  {'id': 461989, 'label': 'CN', 'start_offset': 1583, 'end_offset': 1584},\n  {'id': 480696, 'label': 'PN', 'start_offset': 1591, 'end_offset': 1593},\n  {'id': 461991, 'label': 'CN', 'start_offset': 1594, 'end_offset': 1595},\n  {'id': 461992, 'label': 'CN', 'start_offset': 1596, 'end_offset': 1597},\n  {'id': 461993, 'label': 'CN', 'start_offset': 1598, 'end_offset': 1599},\n  {'id': 461994, 'label': 'CN', 'start_offset': 1601, 'end_offset': 1602},\n  {'id': 461995, 'label': 'PV', 'start_offset': 1606, 'end_offset': 1609},\n  {'id': 461996, 'label': 'PV', 'start_offset': 1610, 'end_offset': 1613},\n  {'id': 461997, 'label': 'PV', 'start_offset': 1614, 'end_offset': 1617},\n  {'id': 461998, 'label': 'PV', 'start_offset': 1619, 'end_offset': 1628},\n  {'id': 461999, 'label': 'PN', 'start_offset': 1634, 'end_offset': 1638},\n  {'id': 462000, 'label': 'CN', 'start_offset': 1639, 'end_offset': 1640},\n  {'id': 462001, 'label': 'CN', 'start_offset': 1641, 'end_offset': 1642},\n  {'id': 462002, 'label': 'CN', 'start_offset': 1644, 'end_offset': 1645},\n  {'id': 462003, 'label': 'PV', 'start_offset': 1646, 'end_offset': 1649},\n  {'id': 462004, 'label': 'PV', 'start_offset': 1650, 'end_offset': 1653},\n  {'id': 462005, 'label': 'PV', 'start_offset': 1655, 'end_offset': 1664},\n  {'id': 462006, 'label': 'CN', 'start_offset': 1675, 'end_offset': 1676},\n  {'id': 462007, 'label': 'CN', 'start_offset': 1678, 'end_offset': 1679},\n  {'id': 462008, 'label': 'CN', 'start_offset': 1680, 'end_offset': 1681},\n  {'id': 462009, 'label': 'PN', 'start_offset': 1688, 'end_offset': 1690},\n  {'id': 462010, 'label': 'CN', 'start_offset': 1733, 'end_offset': 1734},\n  {'id': 462011, 'label': 'CN', 'start_offset': 1735, 'end_offset': 1736},\n  {'id': 462012, 'label': 'CN', 'start_offset': 1748, 'end_offset': 1755},\n  {'id': 462013, 'label': 'CN', 'start_offset': 1756, 'end_offset': 1757},\n  {'id': 480699, 'label': 'CN', 'start_offset': 1780, 'end_offset': 1808},\n  {'id': 462026, 'label': 'CN', 'start_offset': 1814, 'end_offset': 1816},\n  {'id': 462027, 'label': 'CN', 'start_offset': 1817, 'end_offset': 1819},\n  {'id': 462028, 'label': 'CN', 'start_offset': 1837, 'end_offset': 1838},\n  {'id': 462029, 'label': 'PN', 'start_offset': 1848, 'end_offset': 1849},\n  {'id': 462030, 'label': 'PN', 'start_offset': 1850, 'end_offset': 1851},\n  {'id': 462031, 'label': 'PN', 'start_offset': 1852, 'end_offset': 1853},\n  {'id': 462032, 'label': 'PN', 'start_offset': 1854, 'end_offset': 1855},\n  {'id': 480700, 'label': 'CN', 'start_offset': 1857, 'end_offset': 1870},\n  {'id': 462039, 'label': 'PN', 'start_offset': 1877, 'end_offset': 1880},\n  {'id': 462040, 'label': 'CN', 'start_offset': 1884, 'end_offset': 1885},\n  {'id': 462041, 'label': 'PV', 'start_offset': 1890, 'end_offset': 1891},\n  {'id': 462042, 'label': 'PV', 'start_offset': 1892, 'end_offset': 1894},\n  {'id': 462043, 'label': 'CN', 'start_offset': 1898, 'end_offset': 1899},\n  {'id': 462044, 'label': 'PN', 'start_offset': 1901, 'end_offset': 1904},\n  {'id': 462045, 'label': 'CN', 'start_offset': 1907, 'end_offset': 1908},\n  {'id': 462046, 'label': 'PN', 'start_offset': 1914, 'end_offset': 1917},\n  {'id': 462047, 'label': 'CN', 'start_offset': 1922, 'end_offset': 1923},\n  {'id': 462048, 'label': 'CN', 'start_offset': 1932, 'end_offset': 1933},\n  {'id': 462049, 'label': 'PN', 'start_offset': 1939, 'end_offset': 1940},\n  {'id': 462050, 'label': 'CN', 'start_offset': 1948, 'end_offset': 1949},\n  {'id': 462051, 'label': 'PN', 'start_offset': 1952, 'end_offset': 1955},\n  {'id': 462052, 'label': 'PN', 'start_offset': 1961, 'end_offset': 1964},\n  {'id': 462053, 'label': 'PV', 'start_offset': 1965, 'end_offset': 1967},\n  {'id': 462054, 'label': 'PN', 'start_offset': 1975, 'end_offset': 1978},\n  {'id': 462055, 'label': 'CN', 'start_offset': 1989, 'end_offset': 1990},\n  {'id': 462056, 'label': 'CN', 'start_offset': 2000, 'end_offset': 2001},\n  {'id': 462057, 'label': 'CN', 'start_offset': 2003, 'end_offset': 2004},\n  {'id': 462058, 'label': 'PN', 'start_offset': 2007, 'end_offset': 2009},\n  {'id': 462059, 'label': 'CN', 'start_offset': 2011, 'end_offset': 2012},\n  {'id': 462060, 'label': 'PN', 'start_offset': 2021, 'end_offset': 2023},\n  {'id': 462061, 'label': 'CN', 'start_offset': 2029, 'end_offset': 2030},\n  {'id': 462062, 'label': 'PN', 'start_offset': 2044, 'end_offset': 2046},\n  {'id': 462063, 'label': 'PN', 'start_offset': 2059, 'end_offset': 2062},\n  {'id': 462064, 'label': 'CN', 'start_offset': 2067, 'end_offset': 2068},\n  {'id': 462065, 'label': 'CN', 'start_offset': 2073, 'end_offset': 2074},\n  {'id': 462066, 'label': 'CN', 'start_offset': 2083, 'end_offset': 2084},\n  {'id': 462067, 'label': 'CN', 'start_offset': 2091, 'end_offset': 2092},\n  {'id': 462068, 'label': 'PN', 'start_offset': 2096, 'end_offset': 2098},\n  {'id': 462069, 'label': 'PV', 'start_offset': 2099, 'end_offset': 2100},\n  {'id': 462070, 'label': 'PN', 'start_offset': 2102, 'end_offset': 2104},\n  {'id': 462071, 'label': 'PV', 'start_offset': 2105, 'end_offset': 2109},\n  {'id': 462072, 'label': 'PN', 'start_offset': 2110, 'end_offset': 2111},\n  {'id': 462073, 'label': 'PV', 'start_offset': 2112, 'end_offset': 2113},\n  {'id': 462074, 'label': 'CN', 'start_offset': 2120, 'end_offset': 2121},\n  {'id': 462075, 'label': 'CN', 'start_offset': 2135, 'end_offset': 2136},\n  {'id': 462076, 'label': 'PN', 'start_offset': 2145, 'end_offset': 2146},\n  {'id': 462077, 'label': 'CN', 'start_offset': 2150, 'end_offset': 2151},\n  {'id': 462078, 'label': 'CN', 'start_offset': 2159, 'end_offset': 2160},\n  {'id': 462079, 'label': 'PN', 'start_offset': 2166, 'end_offset': 2170},\n  {'id': 462080, 'label': 'PN', 'start_offset': 2171, 'end_offset': 2175},\n  {'id': 462081, 'label': 'CN', 'start_offset': 2179, 'end_offset': 2180},\n  {'id': 462082, 'label': 'PN', 'start_offset': 2183, 'end_offset': 2184},\n  {'id': 462083, 'label': 'PV', 'start_offset': 2185, 'end_offset': 2186},\n  {'id': 462084, 'label': 'CN', 'start_offset': 2189, 'end_offset': 2190},\n  {'id': 462085, 'label': 'CN', 'start_offset': 2197, 'end_offset': 2198},\n  {'id': 462086, 'label': 'PN', 'start_offset': 2205, 'end_offset': 2206},\n  {'id': 462087, 'label': 'PN', 'start_offset': 2207, 'end_offset': 2208},\n  {'id': 480701, 'label': 'CN', 'start_offset': 2209, 'end_offset': 2222},\n  {'id': 480702, 'label': 'CN', 'start_offset': 2230, 'end_offset': 2243},\n  {'id': 462100, 'label': 'CN', 'start_offset': 2246, 'end_offset': 2247},\n  {'id': 462101, 'label': 'PN', 'start_offset': 2252, 'end_offset': 2255},\n  {'id': 462102, 'label': 'PN', 'start_offset': 2259, 'end_offset': 2262},\n  {'id': 462103, 'label': 'CN', 'start_offset': 2269, 'end_offset': 2271},\n  {'id': 462104, 'label': 'CN', 'start_offset': 2272, 'end_offset': 2274},\n  {'id': 462105, 'label': 'PV', 'start_offset': 2279, 'end_offset': 2281},\n  {'id': 462106, 'label': 'CN', 'start_offset': 2283, 'end_offset': 2285},\n  {'id': 462107, 'label': 'CN', 'start_offset': 2291, 'end_offset': 2292},\n  {'id': 462108, 'label': 'PN', 'start_offset': 2299, 'end_offset': 2302},\n  {'id': 462109, 'label': 'CN', 'start_offset': 2310, 'end_offset': 2311},\n  {'id': 462110, 'label': 'PN', 'start_offset': 2313, 'end_offset': 2315},\n  {'id': 462111, 'label': 'PV', 'start_offset': 2316, 'end_offset': 2317},\n  {'id': 462112, 'label': 'PN', 'start_offset': 2319, 'end_offset': 2322},\n  {'id': 462113, 'label': 'PV', 'start_offset': 2323, 'end_offset': 2325},\n  {'id': 462114, 'label': 'PN', 'start_offset': 2327, 'end_offset': 2330},\n  {'id': 462115, 'label': 'PV', 'start_offset': 2331, 'end_offset': 2335},\n  {'id': 462116, 'label': 'PN', 'start_offset': 2338, 'end_offset': 2340},\n  {'id': 462117, 'label': 'PV', 'start_offset': 2341, 'end_offset': 2342},\n  {'id': 462118, 'label': 'CN', 'start_offset': 2351, 'end_offset': 2352},\n  {'id': 462119, 'label': 'CN', 'start_offset': 2353, 'end_offset': 2354},\n  {'id': 462120, 'label': 'CN', 'start_offset': 2355, 'end_offset': 2356},\n  {'id': 462121, 'label': 'CN', 'start_offset': 2359, 'end_offset': 2360},\n  {'id': 462122, 'label': 'CN', 'start_offset': 2361, 'end_offset': 2363},\n  {'id': 462123, 'label': 'CN', 'start_offset': 2364, 'end_offset': 2365},\n  {'id': 462124, 'label': 'PN', 'start_offset': 2375, 'end_offset': 2383},\n  {'id': 462125, 'label': 'PN', 'start_offset': 2384, 'end_offset': 2385},\n  {'id': 462126, 'label': 'CN', 'start_offset': 2389, 'end_offset': 2390},\n  {'id': 462127, 'label': 'CN', 'start_offset': 2391, 'end_offset': 2392},\n  {'id': 462128, 'label': 'CN', 'start_offset': 2393, 'end_offset': 2394},\n  {'id': 462129, 'label': 'CN', 'start_offset': 2395, 'end_offset': 2397},\n  {'id': 462130, 'label': 'CN', 'start_offset': 2398, 'end_offset': 2399},\n  {'id': 462131, 'label': 'CN', 'start_offset': 2400, 'end_offset': 2401},\n  {'id': 462132, 'label': 'CN', 'start_offset': 2402, 'end_offset': 2403},\n  {'id': 462133, 'label': 'CN', 'start_offset': 2404, 'end_offset': 2405},\n  {'id': 462134, 'label': 'PN', 'start_offset': 2407, 'end_offset': 2409},\n  {'id': 462135, 'label': 'PN', 'start_offset': 2412, 'end_offset': 2419},\n  {'id': 462136, 'label': 'PV', 'start_offset': 2421, 'end_offset': 2423},\n  {'id': 462137, 'label': 'PV', 'start_offset': 2429, 'end_offset': 2431},\n  {'id': 462138, 'label': 'PN', 'start_offset': 2435, 'end_offset': 2438},\n  {'id': 462139, 'label': 'PV', 'start_offset': 2440, 'end_offset': 2441},\n  {'id': 462140, 'label': 'PV', 'start_offset': 2442, 'end_offset': 2444},\n  {'id': 462141, 'label': 'CN', 'start_offset': 2450, 'end_offset': 2451},\n  {'id': 462142, 'label': 'CN', 'start_offset': 2475, 'end_offset': 2476},\n  {'id': 462143, 'label': 'PV', 'start_offset': 2477, 'end_offset': 2480},\n  {'id': 462144, 'label': 'PN', 'start_offset': 2481, 'end_offset': 2482},\n  {'id': 462145, 'label': 'CN', 'start_offset': 2492, 'end_offset': 2493},\n  {'id': 462146, 'label': 'CN', 'start_offset': 2499, 'end_offset': 2500},\n  {'id': 462147, 'label': 'CN', 'start_offset': 2521, 'end_offset': 2523},\n  {'id': 462148, 'label': 'CN', 'start_offset': 2528, 'end_offset': 2530},\n  {'id': 462149, 'label': 'CN', 'start_offset': 2534, 'end_offset': 2536},\n  {'id': 462150, 'label': 'CN', 'start_offset': 2538, 'end_offset': 2543},\n  {'id': 462151, 'label': 'PN', 'start_offset': 2557, 'end_offset': 2562},\n  {'id': 462152, 'label': 'PN', 'start_offset': 2570, 'end_offset': 2572},\n  {'id': 462153, 'label': 'PV', 'start_offset': 2577, 'end_offset': 2579},\n  {'id': 462154, 'label': 'CN', 'start_offset': 2580, 'end_offset': 2581},\n  {'id': 462155, 'label': 'PV', 'start_offset': 2582, 'end_offset': 2584},\n  {'id': 462156, 'label': 'CN', 'start_offset': 2585, 'end_offset': 2586},\n  {'id': 462157, 'label': 'PV', 'start_offset': 2587, 'end_offset': 2589},\n  {'id': 462158, 'label': 'CN', 'start_offset': 2590, 'end_offset': 2591},\n  {'id': 462159, 'label': 'PV', 'start_offset': 2593, 'end_offset': 2595},\n  {'id': 462160, 'label': 'CN', 'start_offset': 2596, 'end_offset': 2597},\n  {'id': 462161, 'label': 'PN', 'start_offset': 2623, 'end_offset': 2625},\n  {'id': 462162, 'label': 'PN', 'start_offset': 2634, 'end_offset': 2635},\n  {'id': 462163, 'label': 'PN', 'start_offset': 2636, 'end_offset': 2638},\n  {'id': 462164, 'label': 'CN', 'start_offset': 2658, 'end_offset': 2659},\n  {'id': 462165, 'label': 'CN', 'start_offset': 2663, 'end_offset': 2664},\n  {'id': 462166, 'label': 'CN', 'start_offset': 2666, 'end_offset': 2667},\n  {'id': 462167, 'label': 'CN', 'start_offset': 2668, 'end_offset': 2669},\n  {'id': 462168, 'label': 'CN', 'start_offset': 2689, 'end_offset': 2690},\n  {'id': 462169, 'label': 'PN', 'start_offset': 2694, 'end_offset': 2698},\n  {'id': 462170, 'label': 'CN', 'start_offset': 2713, 'end_offset': 2714},\n  {'id': 462171, 'label': 'PN', 'start_offset': 2719, 'end_offset': 2722},\n  {'id': 462172, 'label': 'CN', 'start_offset': 2739, 'end_offset': 2740},\n  {'id': 462173, 'label': 'PN', 'start_offset': 2751, 'end_offset': 2755},\n  {'id': 462174, 'label': 'CN', 'start_offset': 2765, 'end_offset': 2766},\n  {'id': 462175, 'label': 'PN', 'start_offset': 2789, 'end_offset': 2792}],\n 'relations': [[480695, 461871, 461872],\n  [480695, 461873, 461874],\n  [480695, 461875, 461876],\n  [480695, 461877, 461878],\n  [461991, 480696, 461995],\n  [461992, 480696, 461996],\n  [461993, 480696, 461997],\n  [461994, 480696, 461998],\n  [462000, 461999, 462003],\n  [462001, 461999, 462004],\n  [462002, 461999, 462005],\n  [462050, 462052, 462053],\n  [462109, 462110, 462111],\n  [462066, 462068, 462069],\n  [462066, 462070, 462071],\n  [462109, 462112, 462113],\n  [462066, 462072, 462073],\n  [462081, 462082, 462083],\n  [462109, 462114, 462115],\n  [462109, 462116, 462117],\n  [462154, 462152, 462153],\n  [462156, 462152, 462155],\n  [462158, 462152, 462157],\n  [462160, 462152, 462159],\n  [461888, 461896, 461898],\n  [461903, 461904, 461905]]}"
     },
     "execution_count": 10,
     "metadata": {},
     "output_type": "execute_result"
    }
   ],
   "source": [
    "d[0]"
   ],
   "metadata": {
    "collapsed": false
   }
  },
  {
   "cell_type": "code",
   "execution_count": 12,
   "outputs": [],
   "source": [
    "x = d[0]"
   ],
   "metadata": {
    "collapsed": false
   }
  },
  {
   "cell_type": "code",
   "execution_count": 13,
   "outputs": [
    {
     "data": {
      "text/plain": "dict"
     },
     "execution_count": 13,
     "metadata": {},
     "output_type": "execute_result"
    }
   ],
   "source": [
    "type(x)"
   ],
   "metadata": {
    "collapsed": false
   }
  },
  {
   "cell_type": "code",
   "execution_count": 14,
   "outputs": [
    {
     "data": {
      "text/plain": "dict_keys(['id', 'text', 'entities', 'relations'])"
     },
     "execution_count": 14,
     "metadata": {},
     "output_type": "execute_result"
    }
   ],
   "source": [
    "x.keys()"
   ],
   "metadata": {
    "collapsed": false
   }
  },
  {
   "cell_type": "code",
   "execution_count": 15,
   "outputs": [
    {
     "data": {
      "text/plain": "['their',\n 'ter-polymers',\n 'containing',\n 'perylene',\n 'units',\n 'were',\n 'synthesized',\n 'using',\n 'Suzuki',\n 'coupling',\n 'polymerization.',\n 'The',\n 'perylene',\n 'units',\n 'were',\n 'introduced',\n 'to',\n 'improve',\n 'the',\n 'charge',\n '-',\n 'transport',\n 'ability',\n 'by',\n 'enhancing',\n 'the',\n 'π-π',\n 'interaction',\n 'between',\n 'polymer',\n 'chains.',\n 'The',\n 'resulting',\n 'polymers',\n 'were',\n 'characterized',\n 'by',\n '1H',\n 'NMR',\n ',',\n 'elemental',\n 'analysis',\n ',',\n 'DSC',\n ',',\n 'and',\n 'TGA.',\n 'The',\n 'synthesized',\n 'polymers',\n 'were',\n 'soluble',\n 'in',\n 'common',\n 'organic',\n 'solvents',\n ',',\n 'and',\n 'formed',\n 'smooth',\n 'and',\n 'uniform',\n 'spin',\n '-',\n 'coated',\n 'thin',\n 'films.',\n 'All',\n 'of',\n 'the',\n 'polymers',\n 'studied',\n 'were',\n 'found',\n 'to',\n 'exhibit',\n 'good',\n 'thermal',\n 'stability',\n ',',\n 'losing',\n 'less',\n 'than',\n '5%',\n 'of',\n 'their',\n 'weight',\n 'upon',\n 'heating',\n 'to',\n 'approximately',\n '350',\n '°',\n 'C.',\n 'Perylene-containing',\n 'polymers',\n 'showed',\n 'higher',\n 'field',\n '-',\n 'effect',\n 'mobilities',\n 'than',\n 'the',\n 'corresponding',\n 'PFDTBT',\n 'or',\n 'PFD2TBT',\n 'polymers',\n 'because',\n 'of',\n 'the',\n 'enhanced',\n 'π-π',\n 'interaction',\n 'between',\n 'polymer',\n 'chains',\n 'upon',\n 'the',\n 'introduction',\n 'of',\n 'perylene',\n 'units.',\n 'Bulk',\n 'heterojunction',\n 'solar',\n 'cells',\n 'were',\n 'fabricated',\n 'with',\n 'configuration',\n 'of',\n 'ITO',\n '/',\n 'PEDOT',\n ':',\n 'PSS',\n '/',\n 'polymer',\n ':',\n 'PC71BM',\n '/',\n 'TiO',\n 'x',\n '/',\n 'Al.',\n 'The',\n 'devices',\n 'using',\n 'the',\n 'perylene-containing',\n 'polymers',\n 'showed',\n 'higher',\n 'short',\n '-',\n 'circuit',\n 'currents',\n ',',\n 'and',\n 'fill',\n 'factors',\n 'than',\n 'the',\n 'corresponding',\n 'PFDTBT',\n 'or',\n 'PFD2TBT',\n 'devices.',\n 'One',\n 'of',\n 'the',\n 'fabricated',\n 'devices',\n 'using',\n 'a',\n 'perylene-containing',\n 'copolymer',\n 'showed',\n 'a',\n 'maximum',\n 'power',\n 'conversion',\n 'efficiency',\n 'of',\n '3.16%',\n ',',\n 'with',\n 'a',\n 'short',\n 'circuit',\n 'current',\n 'density',\n 'of',\n '9.61',\n 'mA',\n '/',\n 'cm^2',\n ',',\n 'open',\n 'circuit',\n 'voltage',\n 'of',\n '0.81',\n 'V',\n ',',\n 'and',\n 'fill',\n 'factor',\n 'of',\n '41%',\n '.',\n 'Extensive',\n 'research',\n 'has',\n 'been',\n 'carried',\n 'out',\n 'during',\n 'the',\n 'past',\n 'decade',\n 'on',\n 'bulk',\n 'heterojunction',\n 'solar',\n 'cells',\n 'that',\n 'utilize',\n 'organic',\n 'semiconducting',\n 'materials.',\n '1',\n 'The',\n 'main',\n 'advantages',\n 'of',\n 'organic',\n 'photovoltaic',\n 'devices',\n '(',\n 'OPVs',\n ')',\n 'are',\n 'their',\n 'lightweight',\n ',',\n 'flexible',\n 'nature',\n ',',\n 'and',\n 'their',\n 'cost',\n '-',\n 'effective',\n 'manufacture',\n 'by',\n 'various',\n 'printing',\n 'technologies.',\n 'The',\n 'photoconversion',\n 'process',\n 'in',\n 'OPVs',\n 'is',\n 'accomplished',\n 'by',\n 'efficient',\n 'light',\n 'absorption',\n 'by',\n 'conjugated',\n 'polymers',\n 'and',\n 'accepting',\n 'materials',\n ',',\n 'charge',\n 'separation',\n 'at',\n 'the',\n 'interface',\n 'of',\n 'the',\n 'donor',\n 'polymer',\n 'and',\n 'the',\n 'accepting',\n 'materials',\n ',',\n 'and',\n 'subsequent',\n 'charge',\n 'collection',\n 'at',\n 'the',\n 'electrodes.',\n 'Matching',\n 'the',\n 'absorption',\n 'of',\n 'the',\n 'conjugated',\n 'polymer',\n 'to',\n 'the',\n 'solar',\n 'spectrum',\n 'determines',\n 'the',\n 'ultimate',\n 'performance',\n 'of',\n 'the',\n 'solar',\n 'cell.',\n 'Among',\n 'the',\n 'variety',\n 'of',\n 'conjugated',\n 'polymers',\n 'that',\n 'have',\n 'been',\n 'studied',\n ',',\n 'poly(p-phenylenevinylene)',\n '(',\n 'PPV',\n ')',\n ',',\n '2',\n 'poly(alkylfluorene)',\n '(',\n 'PF',\n ')',\n ',',\n 'and',\n 'polythiophene',\n '(',\n 'PT',\n ')',\n '3',\n 'derivatives',\n 'are',\n 'typical',\n 'p',\n '-',\n 'type',\n 'electron',\n 'donor',\n 'materials.',\n 'However',\n ',',\n 'the',\n 'performance',\n 'of',\n 'photovoltaic',\n 'cells',\n 'with',\n 'these',\n 'polymers',\n 'is',\n 'limited',\n 'by',\n 'their',\n 'relatively',\n 'large',\n 'band',\n 'gap',\n 'energies',\n ',',\n 'which',\n 'are',\n 'not',\n 'yet',\n 'optimized',\n 'with',\n 'respect',\n 'to',\n 'the',\n 'solar',\n 'spectrum.',\n 'Therefore',\n ',',\n 'the',\n 'design',\n 'and',\n 'synthesis',\n 'of',\n 'new',\n 'low',\n '-',\n 'band',\n 'gap',\n 'polymers',\n 'become',\n 'very',\n 'important',\n 'to',\n 'better',\n 'harvest',\n 'the',\n 'solar',\n 'spectrum',\n ',',\n 'especially',\n 'in',\n 'the',\n 'red',\n 'and',\n 'near',\n '-',\n 'infrared',\n 'ranges',\n ',',\n 'which',\n 'can',\n 'lead',\n 'to',\n 'possible',\n 'enhancements',\n 'in',\n 'the',\n 'photocurrents',\n 'of',\n 'OPVs.',\n '4',\n 'The',\n 'most',\n 'widely',\n 'used',\n 'approach',\n 'for',\n 'obtaining',\n 'low',\n '-',\n 'band',\n 'gap',\n 'structures',\n 'is',\n 'to',\n 'utilize',\n 'internal',\n 'charge',\n 'transfer',\n '(',\n 'ICT',\n ')',\n 'from',\n 'an',\n 'electron',\n '-',\n 'donating',\n 'to',\n 'an',\n 'electron',\n '-',\n 'accepting',\n 'moiety.',\n '5-7',\n 'Some',\n 'interesting',\n 'structures',\n 'using',\n 'the',\n 'ICT',\n 'approach',\n 'have',\n 'been',\n 'reported.',\n 'For',\n '(',\n 'PCPDTBT',\n ')',\n ',',\n 'which',\n 'showed',\n 'absorption',\n 'in',\n 'the',\n 'range',\n '380-900',\n 'nm',\n 'in',\n 'the',\n 'AM',\n '1.5',\n 'G',\n 'spectrum',\n ',',\n 'good',\n 'hole',\n 'mobility',\n '(',\n '0.01',\n '-',\n '0.1',\n 'cm^2',\n 'V',\n '-1',\n 's^-1',\n ')',\n 'and',\n 'a',\n 'high',\n 'power',\n 'conversion',\n 'efficiency',\n '(',\n 'PCE',\n ')',\n 'of',\n '3.2%',\n 'with',\n 'PC71BM',\n 'as',\n 'the',\n 'electron',\n 'acceptor.',\n '8,9',\n 'A',\n '9.9dialkylfluorene',\n 'unit',\n 'has',\n 'previously',\n 'been',\n 'used',\n 'as',\n 'a',\n 'building',\n 'block',\n 'for',\n 'constructing',\n 'donor',\n '-',\n 'acceptor',\n '-',\n 'type',\n 'conjugated',\n 'polymers',\n 'in',\n 'OPVs',\n 'such',\n 'as',\n 'poly[2,7-(9,9′-dialkylfluorene)-alt-5,5′-(4′,7′-di-2-thienyl-2′,1′,3′-benzothiadiazole)]',\n '(',\n 'PFDTBT',\n ').',\n 'PFDTBT',\n 'showed',\n 'a',\n 'maximum',\n 'PCE',\n 'of',\n '2.2%',\n ',',\n 'and',\n 'PFDTBT',\n 'derivatives',\n 'containing',\n 'branched',\n 'alkyl',\n 'chains',\n '(',\n 'BisDMO',\n '-',\n 'PFDTBT',\n ')',\n 'showed',\n 'higher',\n 'PCEs.',\n '10,11',\n 'Some',\n 'molecules',\n 'and',\n 'polymers',\n 'that',\n 'have',\n 'flat',\n 'structures',\n 'such',\n 'as',\n 'fluorene',\n ',',\n '12-16',\n 'anthracene',\n ',',\n '17',\n 'and',\n 'pyrene',\n '18,19',\n 'have',\n 'been',\n 'reported',\n 'to',\n 'form',\n 'excimers',\n 'or',\n 'aggregates',\n 'by',\n 'strong',\n 'interchain',\n 'π-π',\n 'interactions.',\n 'Excimer',\n 'formation',\n 'could',\n 'affect',\n 'the',\n 'emission',\n 'properties',\n 'of',\n 'molecules',\n 'or',\n 'polymers',\n ',',\n 'therefore',\n ',',\n 'the',\n 'excimer',\n 'or',\n 'exciplex',\n 'formation',\n 'has',\n 'been',\n 'used',\n 'as',\n 'a',\n 'fluorescence',\n 'probe',\n 'for',\n 'molecular',\n 'recognition.',\n '19',\n 'In',\n 'organic',\n 'photovoltaic',\n 'devices',\n ',',\n 'π-π',\n 'interactions',\n 'between',\n 'low',\n '-',\n 'band',\n 'gap',\n 'donor',\n 'polymers',\n 'are',\n 'important',\n 'for',\n 'charge',\n 'transportation.',\n 'Enhanced',\n 'π-π',\n 'interactions',\n 'in',\n 'p',\n '-',\n 'type',\n 'donor',\n 'polymers',\n 'could',\n 'improve',\n 'their',\n 'chargetransport',\n 'ability',\n ',',\n 'and',\n 'thus',\n 'increase',\n 'short',\n '-',\n 'circuit',\n 'currents',\n 'in',\n 'solar',\n 'cells.',\n 'In',\n 'this',\n 'study',\n 'we',\n 'report',\n 'on',\n 'a',\n 'new',\n 'approach',\n 'to',\n 'improve',\n 'PCE',\n 'of',\n 'OPVs',\n 'by',\n 'enhancing',\n 'the',\n 'interchain',\n 'π-π',\n 'interaction.',\n 'To',\n 'do',\n 'this',\n 'we',\n 'introduced',\n 'flat',\n 'perylene',\n 'units',\n 'into',\n 'the',\n 'conjugated',\n 'polymers.',\n 'We',\n 'synthesized',\n 'poly[2,7-(9,9′-dioctylfluorene)-alt-5,5′-(4′,7′-di-2-thienyl-2′,1′,3′-benzothiadiazole)]',\n '(',\n 'PFDTBT',\n ')',\n ',',\n 'poly[2,2′-(9,9-dioctylfluorene-2,7-diyl)dithiophene-alt-5,5′-(4′,7′-di-2-thienyl-2′,1′,3′-benzothiadiazole)]',\n '(',\n 'PFD2TBT',\n ')',\n ',',\n 'and',\n 'their',\n 'ter-polymers',\n 'with',\n 'perylene',\n 'units.',\n 'Optical',\n ',',\n 'electrical',\n 'and',\n 'photovoltaic',\n 'properties',\n 'of',\n 'the',\n 'polymers',\n 'were',\n 'investigated.',\n 'Synthetic',\n 'routes',\n 'and',\n 'polymer',\n 'structures',\n 'are',\n 'shown',\n 'in',\n 'Schemes',\n '1',\n 'and',\n '2',\n '.',\n 'The',\n 'UV',\n '-',\n 'visible',\n 'absorption',\n 'spectra',\n 'of',\n 'the',\n 'synthesized',\n 'polymers',\n 'were',\n 'recorded',\n 'in',\n 'both',\n 'chloroform',\n 'solution',\n 'and',\n 'as',\n 'a',\n 'solid',\n 'thin',\n 'film.',\n 'PFDTBT',\n 'and',\n 'the',\n 'ter-polymer',\n 'solutions',\n 'exhibited',\n 'two',\n 'distinct',\n 'absorption',\n 'bands',\n ',',\n 'where',\n 'the',\n 'first',\n 'absorption',\n 'peak',\n 'is',\n 'at',\n 'around',\n '387',\n 'nm',\n ',',\n 'corresponding',\n 'to',\n 'the',\n 'π-π*',\n 'transition',\n 'of',\n 'the',\n 'conjugated',\n 'polymer',\n 'backbone',\n ',',\n '23,24',\n 'and',\n 'the',\n 'second',\n 'absorption',\n 'band',\n 'in',\n 'the',\n 'longer',\n 'wavelength',\n 'region',\n 'at',\n 'around',\n '530',\n 'nm',\n ',',\n 'can',\n 'be',\n 'attributed',\n 'to',\n 'the',\n 'strong',\n 'internal',\n 'charge',\n '-',\n 'transfer',\n '(',\n 'ICT',\n ')',\n 'interaction',\n 'between',\n 'donating',\n 'and',\n 'accepting',\n 'groups',\n 'in',\n 'the',\n 'main',\n 'chain.',\n '21',\n 'Peak',\n 'and',\n 'edge',\n 'positions',\n 'were',\n 'almost',\n 'equivalent',\n 'for',\n 'PFDTBT',\n ',',\n 'PFDTBT_5Per',\n 'and',\n 'PFDTBT_10Per',\n ',',\n 'but',\n 'the',\n 'maximum',\n 'absorption',\n 'peak',\n 'for',\n 'PFDTBT_20Per',\n 'moved',\n 'to',\n 'a',\n 'shorter',\n 'wavelength',\n 'region.',\n 'This',\n 'might',\n 'be',\n 'due',\n 'to',\n 'a',\n 'decrease',\n 'in',\n 'the',\n 'internal',\n 'charge',\n '-',\n 'transfer',\n '(',\n 'ICT',\n ')',\n 'interaction',\n 'cause',\n 'by',\n 'a',\n 'decreased',\n 'content',\n 'of',\n 'electron',\n '-',\n 'withdrawing',\n 'DTBT',\n 'monomer',\n 'in',\n 'the',\n 'copolymer.',\n 'PFD2TBT',\n 'and',\n 'the',\n 'ter-polymer',\n 'solutions',\n 'also',\n 'exhibited',\n 'two',\n 'absorption',\n 'bands',\n 'at',\n 'around',\n '410',\n 'and',\n '520',\n 'nm.',\n 'The',\n 'absorption',\n 'maxima',\n 'and',\n 'edges',\n 'of',\n 'the',\n 'polymer',\n 'solutions',\n 'showed',\n 'little',\n 'dependence',\n 'upon',\n 'perylene',\n 'contents.',\n 'The',\n 'UV',\n '-',\n 'visible',\n 'absorption',\n 'spectra',\n 'of',\n 'the',\n 'synthesized',\n 'polymers',\n 'in',\n 'a',\n 'chloroform',\n 'solution',\n 'are',\n 'shown',\n 'in',\n 'Figure',\n '2.',\n 'The',\n 'polymer',\n 'thin',\n 'films',\n 'showed',\n 'a',\n 'similar',\n 'absorption',\n 'trend',\n ';',\n 'however',\n ',',\n 'the',\n 'films',\n 'showed',\n 'increasingly',\n 'larger',\n 'redshifts',\n 'in',\n 'absorption',\n 'than',\n 'those',\n 'for',\n 'the',\n 'solution',\n 'as',\n 'shown',\n 'in',\n 'Figure',\n '3.',\n 'A',\n 'strong',\n 'interchain',\n 'interaction',\n 'between',\n 'polymer',\n 'chains',\n 'in',\n 'the',\n 'solid',\n ...]"
     },
     "execution_count": 15,
     "metadata": {},
     "output_type": "execute_result"
    }
   ],
   "source": [
    "x['text']"
   ],
   "metadata": {
    "collapsed": false
   }
  },
  {
   "cell_type": "code",
   "execution_count": 16,
   "outputs": [
    {
     "data": {
      "text/plain": "2807"
     },
     "execution_count": 16,
     "metadata": {},
     "output_type": "execute_result"
    }
   ],
   "source": [
    "len(x['text'])"
   ],
   "metadata": {
    "collapsed": false
   }
  },
  {
   "cell_type": "code",
   "execution_count": 17,
   "outputs": [
    {
     "data": {
      "text/plain": "[{'id': 461850, 'label': 'CN', 'start_offset': 3, 'end_offset': 4},\n {'id': 461851, 'label': 'CN', 'start_offset': 12, 'end_offset': 13},\n {'id': 461852, 'label': 'PN', 'start_offset': 77, 'end_offset': 79},\n {'id': 461853, 'label': 'PV', 'start_offset': 91, 'end_offset': 94},\n {'id': 461854, 'label': 'CN', 'start_offset': 95, 'end_offset': 96},\n {'id': 461855, 'label': 'PN', 'start_offset': 98, 'end_offset': 102},\n {'id': 461856, 'label': 'CN', 'start_offset': 105, 'end_offset': 106},\n {'id': 461857, 'label': 'CN', 'start_offset': 107, 'end_offset': 108},\n {'id': 461858, 'label': 'CN', 'start_offset': 122, 'end_offset': 123},\n {'id': 480694, 'label': 'CN', 'start_offset': 133, 'end_offset': 147},\n {'id': 461865, 'label': 'CN', 'start_offset': 151, 'end_offset': 152},\n {'id': 461866, 'label': 'PN', 'start_offset': 155, 'end_offset': 159},\n {'id': 461867, 'label': 'PN', 'start_offset': 161, 'end_offset': 163},\n {'id': 461868, 'label': 'CN', 'start_offset': 166, 'end_offset': 167},\n {'id': 461869, 'label': 'CN', 'start_offset': 168, 'end_offset': 169},\n {'id': 480695, 'label': 'CN', 'start_offset': 177, 'end_offset': 179},\n {'id': 461871, 'label': 'PN', 'start_offset': 182, 'end_offset': 185},\n {'id': 461872, 'label': 'PV', 'start_offset': 186, 'end_offset': 187},\n {'id': 461873, 'label': 'PN', 'start_offset': 190, 'end_offset': 194},\n {'id': 461874, 'label': 'PV', 'start_offset': 195, 'end_offset': 199},\n {'id': 461875, 'label': 'PN', 'start_offset': 200, 'end_offset': 203},\n {'id': 461876, 'label': 'PV', 'start_offset': 204, 'end_offset': 206},\n {'id': 461877, 'label': 'PN', 'start_offset': 208, 'end_offset': 210},\n {'id': 461878, 'label': 'PV', 'start_offset': 211, 'end_offset': 212},\n {'id': 461879, 'label': 'CN', 'start_offset': 330, 'end_offset': 331},\n {'id': 461880, 'label': 'CN', 'start_offset': 332, 'end_offset': 333},\n {'id': 461881, 'label': 'CN', 'start_offset': 336, 'end_offset': 337},\n {'id': 461882, 'label': 'CN', 'start_offset': 338, 'end_offset': 339},\n {'id': 461883, 'label': 'CN', 'start_offset': 342, 'end_offset': 343},\n {'id': 461884, 'label': 'CN', 'start_offset': 344, 'end_offset': 345},\n {'id': 461885, 'label': 'PN', 'start_offset': 372, 'end_offset': 375},\n {'id': 461886, 'label': 'PN', 'start_offset': 397, 'end_offset': 399},\n {'id': 461887, 'label': 'PN', 'start_offset': 441, 'end_offset': 443},\n {'id': 461888, 'label': 'CN', 'start_offset': 477, 'end_offset': 478},\n {'id': 461889, 'label': 'PN', 'start_offset': 482, 'end_offset': 483},\n {'id': 461890, 'label': 'PV', 'start_offset': 486, 'end_offset': 487},\n {'id': 461891, 'label': 'PV', 'start_offset': 488, 'end_offset': 489},\n {'id': 461892, 'label': 'Condition', 'start_offset': 490, 'end_offset': 494},\n {'id': 461893, 'label': 'PN', 'start_offset': 496, 'end_offset': 498},\n {'id': 461894, 'label': 'PV', 'start_offset': 499, 'end_offset': 500},\n {'id': 461895, 'label': 'PV', 'start_offset': 501, 'end_offset': 506},\n {'id': 461896, 'label': 'PN', 'start_offset': 510, 'end_offset': 513},\n {'id': 461897, 'label': 'PN', 'start_offset': 514, 'end_offset': 515},\n {'id': 461898, 'label': 'PV', 'start_offset': 517, 'end_offset': 518},\n {'id': 461899, 'label': 'CN', 'start_offset': 519, 'end_offset': 520},\n {'id': 461900, 'label': 'CN', 'start_offset': 526, 'end_offset': 527},\n {'id': 461901, 'label': 'CN', 'start_offset': 549, 'end_offset': 550},\n {'id': 461902, 'label': 'CN', 'start_offset': 551, 'end_offset': 552},\n {'id': 461903, 'label': 'CN', 'start_offset': 553, 'end_offset': 554},\n {'id': 461904, 'label': 'PN', 'start_offset': 557, 'end_offset': 558},\n {'id': 461905, 'label': 'PV', 'start_offset': 559, 'end_offset': 560},\n {'id': 461906, 'label': 'CN', 'start_offset': 562, 'end_offset': 563},\n {'id': 461907, 'label': 'CN', 'start_offset': 566, 'end_offset': 567},\n {'id': 482650, 'label': 'CN', 'start_offset': 569, 'end_offset': 572},\n {'id': 461910, 'label': 'CN', 'start_offset': 575, 'end_offset': 576},\n {'id': 461911, 'label': 'CN', 'start_offset': 587, 'end_offset': 588},\n {'id': 461912, 'label': 'CN', 'start_offset': 590, 'end_offset': 591},\n {'id': 461913, 'label': 'CN', 'start_offset': 594, 'end_offset': 595},\n {'id': 461914, 'label': 'PN', 'start_offset': 649, 'end_offset': 651},\n {'id': 461915, 'label': 'PN', 'start_offset': 676, 'end_offset': 679},\n {'id': 461916, 'label': 'PN', 'start_offset': 694, 'end_offset': 695},\n {'id': 461917, 'label': 'CN', 'start_offset': 709, 'end_offset': 710},\n {'id': 461918, 'label': 'CN', 'start_offset': 717, 'end_offset': 718},\n {'id': 461919, 'label': 'CN', 'start_offset': 719, 'end_offset': 720},\n {'id': 461920, 'label': 'CN', 'start_offset': 722, 'end_offset': 723},\n {'id': 461921, 'label': 'CN', 'start_offset': 724, 'end_offset': 725},\n {'id': 461922, 'label': 'CN', 'start_offset': 731, 'end_offset': 732},\n {'id': 461923, 'label': 'CN', 'start_offset': 771, 'end_offset': 772},\n {'id': 461924, 'label': 'CN', 'start_offset': 779, 'end_offset': 780},\n {'id': 461925, 'label': 'PN', 'start_offset': 793, 'end_offset': 795},\n {'id': 461926, 'label': 'PV', 'start_offset': 798, 'end_offset': 800},\n {'id': 461927, 'label': 'PN', 'start_offset': 816, 'end_offset': 818},\n {'id': 461928, 'label': 'PV', 'start_offset': 825, 'end_offset': 827},\n {'id': 461929, 'label': 'CN', 'start_offset': 860, 'end_offset': 861},\n {'id': 461930, 'label': 'CN', 'start_offset': 862, 'end_offset': 863},\n {'id': 461931, 'label': 'CN', 'start_offset': 864, 'end_offset': 865},\n {'id': 461932, 'label': 'PN', 'start_offset': 869, 'end_offset': 871},\n {'id': 461933, 'label': 'CN', 'start_offset': 872, 'end_offset': 873},\n {'id': 461934, 'label': 'CN', 'start_offset': 905, 'end_offset': 906},\n {'id': 461935, 'label': 'CN', 'start_offset': 910, 'end_offset': 911},\n {'id': 461936, 'label': 'PN', 'start_offset': 918, 'end_offset': 920},\n {'id': 461937, 'label': 'PV', 'start_offset': 922, 'end_offset': 923},\n {'id': 461938, 'label': 'PV', 'start_offset': 924, 'end_offset': 926},\n {'id': 461939, 'label': 'CN', 'start_offset': 939, 'end_offset': 940},\n {'id': 461940, 'label': 'CN', 'start_offset': 953, 'end_offset': 954},\n {'id': 461941, 'label': 'PN', 'start_offset': 1015, 'end_offset': 1019},\n {'id': 461942, 'label': 'PN', 'start_offset': 1034, 'end_offset': 1037},\n {'id': 461943, 'label': 'PV', 'start_offset': 1044, 'end_offset': 1045},\n {'id': 461944, 'label': 'PV', 'start_offset': 1046, 'end_offset': 1048},\n {'id': 461945, 'label': 'PN', 'start_offset': 1071, 'end_offset': 1072},\n {'id': 461946, 'label': 'PN', 'start_offset': 1073, 'end_offset': 1076},\n {'id': 461947, 'label': 'CN', 'start_offset': 1088, 'end_offset': 1089},\n {'id': 461948, 'label': 'CN', 'start_offset': 1095, 'end_offset': 1096},\n {'id': 461949, 'label': 'CN', 'start_offset': 1109, 'end_offset': 1110},\n {'id': 461950, 'label': 'CN', 'start_offset': 1118, 'end_offset': 1119},\n {'id': 480697, 'label': 'CN', 'start_offset': 1129, 'end_offset': 1133},\n {'id': 461953, 'label': 'PN', 'start_offset': 1141, 'end_offset': 1144},\n {'id': 461954, 'label': 'PN', 'start_offset': 1148, 'end_offset': 1150},\n {'id': 461955, 'label': 'PN', 'start_offset': 1151, 'end_offset': 1153},\n {'id': 461956, 'label': 'PN', 'start_offset': 1160, 'end_offset': 1162},\n {'id': 461957, 'label': 'PN', 'start_offset': 1171, 'end_offset': 1174},\n {'id': 461958, 'label': 'PN', 'start_offset': 1179, 'end_offset': 1182},\n {'id': 461959, 'label': 'PN', 'start_offset': 1192, 'end_offset': 1194},\n {'id': 461960, 'label': 'CN', 'start_offset': 1206, 'end_offset': 1207},\n {'id': 461961, 'label': 'CN', 'start_offset': 1208, 'end_offset': 1209},\n {'id': 461962, 'label': 'PN', 'start_offset': 1219, 'end_offset': 1221},\n {'id': 461963, 'label': 'PV', 'start_offset': 1230, 'end_offset': 1232},\n {'id': 461964, 'label': 'PN', 'start_offset': 1255, 'end_offset': 1258},\n {'id': 461965, 'label': 'PN', 'start_offset': 1263, 'end_offset': 1265},\n {'id': 461966, 'label': 'PN', 'start_offset': 1267, 'end_offset': 1269},\n {'id': 461967, 'label': 'PN', 'start_offset': 1275, 'end_offset': 1277},\n {'id': 461968, 'label': 'PN', 'start_offset': 1280, 'end_offset': 1283},\n {'id': 480698, 'label': 'CN', 'start_offset': 1284, 'end_offset': 1288},\n {'id': 461971, 'label': 'PN', 'start_offset': 1290, 'end_offset': 1293},\n {'id': 461972, 'label': 'CN', 'start_offset': 1294, 'end_offset': 1295},\n {'id': 461973, 'label': 'CN', 'start_offset': 1296, 'end_offset': 1297},\n {'id': 461974, 'label': 'PV', 'start_offset': 1309, 'end_offset': 1310},\n {'id': 461975, 'label': 'PV', 'start_offset': 1311, 'end_offset': 1313},\n {'id': 461976, 'label': 'PN', 'start_offset': 1314, 'end_offset': 1316},\n {'id': 461977, 'label': 'CN', 'start_offset': 1323, 'end_offset': 1324},\n {'id': 461978, 'label': 'PN', 'start_offset': 1329, 'end_offset': 1332},\n {'id': 461979, 'label': 'CN', 'start_offset': 1345, 'end_offset': 1346},\n {'id': 461980, 'label': 'CN', 'start_offset': 1368, 'end_offset': 1369},\n {'id': 461981, 'label': 'CN', 'start_offset': 1374, 'end_offset': 1375},\n {'id': 461982, 'label': 'PN', 'start_offset': 1385, 'end_offset': 1386},\n {'id': 461983, 'label': 'PN', 'start_offset': 1388, 'end_offset': 1392},\n {'id': 461984, 'label': 'PN', 'start_offset': 1394, 'end_offset': 1395},\n {'id': 461985, 'label': 'PN', 'start_offset': 1396, 'end_offset': 1399},\n {'id': 461986, 'label': 'PN', 'start_offset': 1418, 'end_offset': 1421},\n {'id': 461987, 'label': 'CN', 'start_offset': 1431, 'end_offset': 1432},\n {'id': 461988, 'label': 'PN', 'start_offset': 1573, 'end_offset': 1575},\n {'id': 461989, 'label': 'CN', 'start_offset': 1583, 'end_offset': 1584},\n {'id': 480696, 'label': 'PN', 'start_offset': 1591, 'end_offset': 1593},\n {'id': 461991, 'label': 'CN', 'start_offset': 1594, 'end_offset': 1595},\n {'id': 461992, 'label': 'CN', 'start_offset': 1596, 'end_offset': 1597},\n {'id': 461993, 'label': 'CN', 'start_offset': 1598, 'end_offset': 1599},\n {'id': 461994, 'label': 'CN', 'start_offset': 1601, 'end_offset': 1602},\n {'id': 461995, 'label': 'PV', 'start_offset': 1606, 'end_offset': 1609},\n {'id': 461996, 'label': 'PV', 'start_offset': 1610, 'end_offset': 1613},\n {'id': 461997, 'label': 'PV', 'start_offset': 1614, 'end_offset': 1617},\n {'id': 461998, 'label': 'PV', 'start_offset': 1619, 'end_offset': 1628},\n {'id': 461999, 'label': 'PN', 'start_offset': 1634, 'end_offset': 1638},\n {'id': 462000, 'label': 'CN', 'start_offset': 1639, 'end_offset': 1640},\n {'id': 462001, 'label': 'CN', 'start_offset': 1641, 'end_offset': 1642},\n {'id': 462002, 'label': 'CN', 'start_offset': 1644, 'end_offset': 1645},\n {'id': 462003, 'label': 'PV', 'start_offset': 1646, 'end_offset': 1649},\n {'id': 462004, 'label': 'PV', 'start_offset': 1650, 'end_offset': 1653},\n {'id': 462005, 'label': 'PV', 'start_offset': 1655, 'end_offset': 1664},\n {'id': 462006, 'label': 'CN', 'start_offset': 1675, 'end_offset': 1676},\n {'id': 462007, 'label': 'CN', 'start_offset': 1678, 'end_offset': 1679},\n {'id': 462008, 'label': 'CN', 'start_offset': 1680, 'end_offset': 1681},\n {'id': 462009, 'label': 'PN', 'start_offset': 1688, 'end_offset': 1690},\n {'id': 462010, 'label': 'CN', 'start_offset': 1733, 'end_offset': 1734},\n {'id': 462011, 'label': 'CN', 'start_offset': 1735, 'end_offset': 1736},\n {'id': 462012, 'label': 'CN', 'start_offset': 1748, 'end_offset': 1755},\n {'id': 462013, 'label': 'CN', 'start_offset': 1756, 'end_offset': 1757},\n {'id': 480699, 'label': 'CN', 'start_offset': 1780, 'end_offset': 1808},\n {'id': 462026, 'label': 'CN', 'start_offset': 1814, 'end_offset': 1816},\n {'id': 462027, 'label': 'CN', 'start_offset': 1817, 'end_offset': 1819},\n {'id': 462028, 'label': 'CN', 'start_offset': 1837, 'end_offset': 1838},\n {'id': 462029, 'label': 'PN', 'start_offset': 1848, 'end_offset': 1849},\n {'id': 462030, 'label': 'PN', 'start_offset': 1850, 'end_offset': 1851},\n {'id': 462031, 'label': 'PN', 'start_offset': 1852, 'end_offset': 1853},\n {'id': 462032, 'label': 'PN', 'start_offset': 1854, 'end_offset': 1855},\n {'id': 480700, 'label': 'CN', 'start_offset': 1857, 'end_offset': 1870},\n {'id': 462039, 'label': 'PN', 'start_offset': 1877, 'end_offset': 1880},\n {'id': 462040, 'label': 'CN', 'start_offset': 1884, 'end_offset': 1885},\n {'id': 462041, 'label': 'PV', 'start_offset': 1890, 'end_offset': 1891},\n {'id': 462042, 'label': 'PV', 'start_offset': 1892, 'end_offset': 1894},\n {'id': 462043, 'label': 'CN', 'start_offset': 1898, 'end_offset': 1899},\n {'id': 462044, 'label': 'PN', 'start_offset': 1901, 'end_offset': 1904},\n {'id': 462045, 'label': 'CN', 'start_offset': 1907, 'end_offset': 1908},\n {'id': 462046, 'label': 'PN', 'start_offset': 1914, 'end_offset': 1917},\n {'id': 462047, 'label': 'CN', 'start_offset': 1922, 'end_offset': 1923},\n {'id': 462048, 'label': 'CN', 'start_offset': 1932, 'end_offset': 1933},\n {'id': 462049, 'label': 'PN', 'start_offset': 1939, 'end_offset': 1940},\n {'id': 462050, 'label': 'CN', 'start_offset': 1948, 'end_offset': 1949},\n {'id': 462051, 'label': 'PN', 'start_offset': 1952, 'end_offset': 1955},\n {'id': 462052, 'label': 'PN', 'start_offset': 1961, 'end_offset': 1964},\n {'id': 462053, 'label': 'PV', 'start_offset': 1965, 'end_offset': 1967},\n {'id': 462054, 'label': 'PN', 'start_offset': 1975, 'end_offset': 1978},\n {'id': 462055, 'label': 'CN', 'start_offset': 1989, 'end_offset': 1990},\n {'id': 462056, 'label': 'CN', 'start_offset': 2000, 'end_offset': 2001},\n {'id': 462057, 'label': 'CN', 'start_offset': 2003, 'end_offset': 2004},\n {'id': 462058, 'label': 'PN', 'start_offset': 2007, 'end_offset': 2009},\n {'id': 462059, 'label': 'CN', 'start_offset': 2011, 'end_offset': 2012},\n {'id': 462060, 'label': 'PN', 'start_offset': 2021, 'end_offset': 2023},\n {'id': 462061, 'label': 'CN', 'start_offset': 2029, 'end_offset': 2030},\n {'id': 462062, 'label': 'PN', 'start_offset': 2044, 'end_offset': 2046},\n {'id': 462063, 'label': 'PN', 'start_offset': 2059, 'end_offset': 2062},\n {'id': 462064, 'label': 'CN', 'start_offset': 2067, 'end_offset': 2068},\n {'id': 462065, 'label': 'CN', 'start_offset': 2073, 'end_offset': 2074},\n {'id': 462066, 'label': 'CN', 'start_offset': 2083, 'end_offset': 2084},\n {'id': 462067, 'label': 'CN', 'start_offset': 2091, 'end_offset': 2092},\n {'id': 462068, 'label': 'PN', 'start_offset': 2096, 'end_offset': 2098},\n {'id': 462069, 'label': 'PV', 'start_offset': 2099, 'end_offset': 2100},\n {'id': 462070, 'label': 'PN', 'start_offset': 2102, 'end_offset': 2104},\n {'id': 462071, 'label': 'PV', 'start_offset': 2105, 'end_offset': 2109},\n {'id': 462072, 'label': 'PN', 'start_offset': 2110, 'end_offset': 2111},\n {'id': 462073, 'label': 'PV', 'start_offset': 2112, 'end_offset': 2113},\n {'id': 462074, 'label': 'CN', 'start_offset': 2120, 'end_offset': 2121},\n {'id': 462075, 'label': 'CN', 'start_offset': 2135, 'end_offset': 2136},\n {'id': 462076, 'label': 'PN', 'start_offset': 2145, 'end_offset': 2146},\n {'id': 462077, 'label': 'CN', 'start_offset': 2150, 'end_offset': 2151},\n {'id': 462078, 'label': 'CN', 'start_offset': 2159, 'end_offset': 2160},\n {'id': 462079, 'label': 'PN', 'start_offset': 2166, 'end_offset': 2170},\n {'id': 462080, 'label': 'PN', 'start_offset': 2171, 'end_offset': 2175},\n {'id': 462081, 'label': 'CN', 'start_offset': 2179, 'end_offset': 2180},\n {'id': 462082, 'label': 'PN', 'start_offset': 2183, 'end_offset': 2184},\n {'id': 462083, 'label': 'PV', 'start_offset': 2185, 'end_offset': 2186},\n {'id': 462084, 'label': 'CN', 'start_offset': 2189, 'end_offset': 2190},\n {'id': 462085, 'label': 'CN', 'start_offset': 2197, 'end_offset': 2198},\n {'id': 462086, 'label': 'PN', 'start_offset': 2205, 'end_offset': 2206},\n {'id': 462087, 'label': 'PN', 'start_offset': 2207, 'end_offset': 2208},\n {'id': 480701, 'label': 'CN', 'start_offset': 2209, 'end_offset': 2222},\n {'id': 480702, 'label': 'CN', 'start_offset': 2230, 'end_offset': 2243},\n {'id': 462100, 'label': 'CN', 'start_offset': 2246, 'end_offset': 2247},\n {'id': 462101, 'label': 'PN', 'start_offset': 2252, 'end_offset': 2255},\n {'id': 462102, 'label': 'PN', 'start_offset': 2259, 'end_offset': 2262},\n {'id': 462103, 'label': 'CN', 'start_offset': 2269, 'end_offset': 2271},\n {'id': 462104, 'label': 'CN', 'start_offset': 2272, 'end_offset': 2274},\n {'id': 462105, 'label': 'PV', 'start_offset': 2279, 'end_offset': 2281},\n {'id': 462106, 'label': 'CN', 'start_offset': 2283, 'end_offset': 2285},\n {'id': 462107, 'label': 'CN', 'start_offset': 2291, 'end_offset': 2292},\n {'id': 462108, 'label': 'PN', 'start_offset': 2299, 'end_offset': 2302},\n {'id': 462109, 'label': 'CN', 'start_offset': 2310, 'end_offset': 2311},\n {'id': 462110, 'label': 'PN', 'start_offset': 2313, 'end_offset': 2315},\n {'id': 462111, 'label': 'PV', 'start_offset': 2316, 'end_offset': 2317},\n {'id': 462112, 'label': 'PN', 'start_offset': 2319, 'end_offset': 2322},\n {'id': 462113, 'label': 'PV', 'start_offset': 2323, 'end_offset': 2325},\n {'id': 462114, 'label': 'PN', 'start_offset': 2327, 'end_offset': 2330},\n {'id': 462115, 'label': 'PV', 'start_offset': 2331, 'end_offset': 2335},\n {'id': 462116, 'label': 'PN', 'start_offset': 2338, 'end_offset': 2340},\n {'id': 462117, 'label': 'PV', 'start_offset': 2341, 'end_offset': 2342},\n {'id': 462118, 'label': 'CN', 'start_offset': 2351, 'end_offset': 2352},\n {'id': 462119, 'label': 'CN', 'start_offset': 2353, 'end_offset': 2354},\n {'id': 462120, 'label': 'CN', 'start_offset': 2355, 'end_offset': 2356},\n {'id': 462121, 'label': 'CN', 'start_offset': 2359, 'end_offset': 2360},\n {'id': 462122, 'label': 'CN', 'start_offset': 2361, 'end_offset': 2363},\n {'id': 462123, 'label': 'CN', 'start_offset': 2364, 'end_offset': 2365},\n {'id': 462124, 'label': 'PN', 'start_offset': 2375, 'end_offset': 2383},\n {'id': 462125, 'label': 'PN', 'start_offset': 2384, 'end_offset': 2385},\n {'id': 462126, 'label': 'CN', 'start_offset': 2389, 'end_offset': 2390},\n {'id': 462127, 'label': 'CN', 'start_offset': 2391, 'end_offset': 2392},\n {'id': 462128, 'label': 'CN', 'start_offset': 2393, 'end_offset': 2394},\n {'id': 462129, 'label': 'CN', 'start_offset': 2395, 'end_offset': 2397},\n {'id': 462130, 'label': 'CN', 'start_offset': 2398, 'end_offset': 2399},\n {'id': 462131, 'label': 'CN', 'start_offset': 2400, 'end_offset': 2401},\n {'id': 462132, 'label': 'CN', 'start_offset': 2402, 'end_offset': 2403},\n {'id': 462133, 'label': 'CN', 'start_offset': 2404, 'end_offset': 2405},\n {'id': 462134, 'label': 'PN', 'start_offset': 2407, 'end_offset': 2409},\n {'id': 462135, 'label': 'PN', 'start_offset': 2412, 'end_offset': 2419},\n {'id': 462136, 'label': 'PV', 'start_offset': 2421, 'end_offset': 2423},\n {'id': 462137, 'label': 'PV', 'start_offset': 2429, 'end_offset': 2431},\n {'id': 462138, 'label': 'PN', 'start_offset': 2435, 'end_offset': 2438},\n {'id': 462139, 'label': 'PV', 'start_offset': 2440, 'end_offset': 2441},\n {'id': 462140, 'label': 'PV', 'start_offset': 2442, 'end_offset': 2444},\n {'id': 462141, 'label': 'CN', 'start_offset': 2450, 'end_offset': 2451},\n {'id': 462142, 'label': 'CN', 'start_offset': 2475, 'end_offset': 2476},\n {'id': 462143, 'label': 'PV', 'start_offset': 2477, 'end_offset': 2480},\n {'id': 462144, 'label': 'PN', 'start_offset': 2481, 'end_offset': 2482},\n {'id': 462145, 'label': 'CN', 'start_offset': 2492, 'end_offset': 2493},\n {'id': 462146, 'label': 'CN', 'start_offset': 2499, 'end_offset': 2500},\n {'id': 462147, 'label': 'CN', 'start_offset': 2521, 'end_offset': 2523},\n {'id': 462148, 'label': 'CN', 'start_offset': 2528, 'end_offset': 2530},\n {'id': 462149, 'label': 'CN', 'start_offset': 2534, 'end_offset': 2536},\n {'id': 462150, 'label': 'CN', 'start_offset': 2538, 'end_offset': 2543},\n {'id': 462151, 'label': 'PN', 'start_offset': 2557, 'end_offset': 2562},\n {'id': 462152, 'label': 'PN', 'start_offset': 2570, 'end_offset': 2572},\n {'id': 462153, 'label': 'PV', 'start_offset': 2577, 'end_offset': 2579},\n {'id': 462154, 'label': 'CN', 'start_offset': 2580, 'end_offset': 2581},\n {'id': 462155, 'label': 'PV', 'start_offset': 2582, 'end_offset': 2584},\n {'id': 462156, 'label': 'CN', 'start_offset': 2585, 'end_offset': 2586},\n {'id': 462157, 'label': 'PV', 'start_offset': 2587, 'end_offset': 2589},\n {'id': 462158, 'label': 'CN', 'start_offset': 2590, 'end_offset': 2591},\n {'id': 462159, 'label': 'PV', 'start_offset': 2593, 'end_offset': 2595},\n {'id': 462160, 'label': 'CN', 'start_offset': 2596, 'end_offset': 2597},\n {'id': 462161, 'label': 'PN', 'start_offset': 2623, 'end_offset': 2625},\n {'id': 462162, 'label': 'PN', 'start_offset': 2634, 'end_offset': 2635},\n {'id': 462163, 'label': 'PN', 'start_offset': 2636, 'end_offset': 2638},\n {'id': 462164, 'label': 'CN', 'start_offset': 2658, 'end_offset': 2659},\n {'id': 462165, 'label': 'CN', 'start_offset': 2663, 'end_offset': 2664},\n {'id': 462166, 'label': 'CN', 'start_offset': 2666, 'end_offset': 2667},\n {'id': 462167, 'label': 'CN', 'start_offset': 2668, 'end_offset': 2669},\n {'id': 462168, 'label': 'CN', 'start_offset': 2689, 'end_offset': 2690},\n {'id': 462169, 'label': 'PN', 'start_offset': 2694, 'end_offset': 2698},\n {'id': 462170, 'label': 'CN', 'start_offset': 2713, 'end_offset': 2714},\n {'id': 462171, 'label': 'PN', 'start_offset': 2719, 'end_offset': 2722},\n {'id': 462172, 'label': 'CN', 'start_offset': 2739, 'end_offset': 2740},\n {'id': 462173, 'label': 'PN', 'start_offset': 2751, 'end_offset': 2755},\n {'id': 462174, 'label': 'CN', 'start_offset': 2765, 'end_offset': 2766},\n {'id': 462175, 'label': 'PN', 'start_offset': 2789, 'end_offset': 2792}]"
     },
     "execution_count": 17,
     "metadata": {},
     "output_type": "execute_result"
    }
   ],
   "source": [
    "x['entities']"
   ],
   "metadata": {
    "collapsed": false
   }
  },
  {
   "cell_type": "code",
   "execution_count": 20,
   "outputs": [
    {
     "data": {
      "text/plain": "'PFD2TBT'"
     },
     "execution_count": 20,
     "metadata": {},
     "output_type": "execute_result"
    }
   ],
   "source": [
    "x['text'][107]"
   ],
   "metadata": {
    "collapsed": false
   }
  },
  {
   "cell_type": "code",
   "execution_count": null,
   "outputs": [],
   "source": [],
   "metadata": {
    "collapsed": false
   }
  }
 ],
 "metadata": {
  "kernelspec": {
   "display_name": "Python 3",
   "language": "python",
   "name": "python3"
  },
  "language_info": {
   "codemirror_mode": {
    "name": "ipython",
    "version": 2
   },
   "file_extension": ".py",
   "mimetype": "text/x-python",
   "name": "python",
   "nbconvert_exporter": "python",
   "pygments_lexer": "ipython2",
   "version": "2.7.6"
  }
 },
 "nbformat": 4,
 "nbformat_minor": 0
}
