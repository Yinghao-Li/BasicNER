{
 "cells": [
  {
   "cell_type": "code",
   "execution_count": 50,
   "metadata": {},
   "outputs": [],
   "source": [
    "import json\n",
    "import random\n",
    "import pyperclip\n",
    "import torch\n",
    "import numpy as np\n",
    "import itertools\n",
    "import operator\n",
    "from dataclasses import dataclass\n",
    "from transformers import AutoTokenizer, AutoModel\n",
    "from seqlbtoolkit.embs import build_bert_token_embeddings\n",
    "from seqlbtoolkit.text import split_overlength_bert_input_sequence\n",
    "\n",
    "from tokenizations import get_alignments\n",
    "from open_ner.base.dataset import load_data_from_json\n"
   ]
  },
  {
   "cell_type": "code",
   "execution_count": 39,
   "outputs": [],
   "source": [
    "tokenizer = AutoTokenizer.from_pretrained('distilbert-base-uncased', add_prefix_space=True)"
   ],
   "metadata": {
    "collapsed": false
   }
  },
  {
   "cell_type": "code",
   "execution_count": 57,
   "outputs": [],
   "source": [
    "tks = ['The', 'HOMO-LUMO', '(', 'HL', ')', 'gap', 'of', 'each', 'structure', 'calculated', 'using', 'the', 'hybrid', 'B3LYP', 'functional', 'is', 'notably', 'smaller', ',', 'by', '∼', '0.4', 'eV', ',', 'than', 'that', 'using', 'the', 'meta-hybrid', 'M06', 'functional', ',', 'however', ',', 'the', 'calculated', 'optical', 'gaps', 'are', 'only', 'marginally', 'smaller', ',', 'with', 'a', 'difference', 'of', '∼', '0.1', 'eV', '.', 'In', 'Table', '2', ',', 'we', 'also', 'provide', 'the', 'character', 'of', 'the', 'first', 'allowed', 'excitations', 'only', 'for', 'contributions', 'larger', 'than', '4', '%', '.', 'The', 'first', 'excitation', ',', 'as', 'calculated', 'by', 'each', 'of', 'the', 'functional', 'for', 'all', 'three', 'structures', ',', 'clearly', 'exhibits', 'a', 'single', '-', 'configuration', 'character', '.', 'In', 'Fig.', '7', ',', 'we', 'have', 'plotted', 'the', 'isosurfaces', '(', 'isovalue', '=', '0.02', ')', 'of', 'the', 'HOMO', 'and', 'LUMO', 'for', 'both', 'structures', '.', 'In', 'both', 'cases', 'the', 'HOMO', 'extends', 'evenly', 'over', 'the', 'main', 'body', '.', 'For', 'the', 'LUMO', 'of', 'each', 'structure', 'the', 'delocalizations', 'are', 'also', 'similar', '.', 'The', 'LUMO', 'of', 'P1', 'and', 'P2', 'extends', 'over', 'the', 'main', 'structure', 'but', 'considerably', 'more', 'over', 'the', 'triazole', 'group', 'than', 'in', 'the', 'case', 'of', 'the', 'respective', 'HOMOs', '.', 'To', 'quantify', 'the', 'contributions', 'of', 'the', 'moieties', 'to', 'the', 'frontier', 'orbitals', 'we', 'have', 'calculated', 'the', 'total', 'and', 'partial', 'density', 'of', 'states', '(', 'PDOS', ').', 'The', 'PDOSs', 'for', 'P1', 'and', 'P2', 'are', 'shown', 'in', 'Fig.', 'S6', '(', 'ESI', '†', ').', 'We', 'partition', 'all', 'of', 'the', 'structures', 'into', 'the', 'silolodithiophene', '(', 'SDT', ')', 'and', 'fluorobenzotriazole', '(', 'FBT', ')', 'moieties', '.', 'As', 'expected', ',', 'structures', 'P1', 'and', 'P2', 'have', 'significant', 'similarities', 'on', 'the', 'delocalization', 'of', 'the', 'frontier', 'orbitals', '.']"
   ],
   "metadata": {
    "collapsed": false
   }
  },
  {
   "cell_type": "code",
   "execution_count": 41,
   "outputs": [],
   "source": [
    "bert_tks = tokenizer.tokenize(tks, is_split_into_words=True, add_special_tokens=True)"
   ],
   "metadata": {
    "collapsed": false
   }
  },
  {
   "cell_type": "code",
   "execution_count": 52,
   "outputs": [],
   "source": [
    "word_ids = tokenizer(tks, is_split_into_words=True).word_ids(batch_index=0)\n",
    "ori_tk_ids = np.arange(len(tks))\n",
    "\n",
    "word_ids_shifted_left = np.asarray([-100] + word_ids[:-1])\n",
    "word_ids = np.asarray(word_ids)\n",
    "\n",
    "is_first_wordpiece = (word_ids_shifted_left != word_ids) & (word_ids != None)\n",
    "word_ids[~is_first_wordpiece] = -100  # could be anything less than 0\n",
    "\n",
    "tks = np.asarray(tks)\n",
    "tks[np.setdiff1d(ori_tk_ids, word_ids)] = tokenizer.unk_token\n"
   ],
   "metadata": {
    "collapsed": false
   }
  },
  {
   "cell_type": "code",
   "execution_count": 58,
   "outputs": [],
   "source": [
    "enc = tokenizer(tks, is_split_into_words=True)"
   ],
   "metadata": {
    "collapsed": false
   }
  },
  {
   "cell_type": "code",
   "execution_count": 60,
   "outputs": [
    {
     "data": {
      "text/plain": "[101,\n 1996,\n 24004,\n 1011,\n 11320,\n 5302,\n 1006,\n 1044,\n 2140,\n 1007,\n 6578,\n 1997,\n 2169,\n 3252,\n 10174,\n 2478,\n 1996,\n 8893,\n 1038,\n 2509,\n 2135,\n 2361,\n 8360,\n 2003,\n 5546,\n 3760,\n 1010,\n 2011,\n 100,\n 1014,\n 1012,\n 1018,\n 23408,\n 1010,\n 2084,\n 2008,\n 2478,\n 1996,\n 18804,\n 1011,\n 8893,\n 1049,\n 2692,\n 2575,\n 8360,\n 1010,\n 2174,\n 1010,\n 1996,\n 10174,\n 9380,\n 16680,\n 2024,\n 2069,\n 14785,\n 2135,\n 3760,\n 1010,\n 2007,\n 1037,\n 4489,\n 1997,\n 100,\n 1014,\n 1012,\n 1015,\n 23408,\n 1012,\n 1999,\n 2795,\n 1016,\n 1010,\n 2057,\n 2036,\n 3073,\n 1996,\n 2839,\n 1997,\n 1996,\n 2034,\n 3039,\n 4654,\n 26243,\n 10708,\n 2069,\n 2005,\n 5857,\n 3469,\n 2084,\n 1018,\n 1003,\n 1012,\n 1996,\n 2034,\n 4654,\n 26243,\n 3370,\n 1010,\n 2004,\n 10174,\n 2011,\n 2169,\n 1997,\n 1996,\n 8360,\n 2005,\n 2035,\n 2093,\n 5090,\n 1010,\n 4415,\n 10637,\n 1037,\n 2309,\n 1011,\n 9563,\n 2839,\n 1012,\n 1999,\n 20965,\n 1012,\n 1021,\n 1010,\n 2057,\n 2031,\n 27347,\n 1996,\n 11163,\n 26210,\n 12172,\n 2015,\n 1006,\n 11163,\n 10175,\n 5657,\n 1027,\n 1014,\n 1012,\n 6185,\n 1007,\n 1997,\n 1996,\n 24004,\n 1998,\n 11320,\n 5302,\n 2005,\n 2119,\n 5090,\n 1012,\n 1999,\n 2119,\n 3572,\n 1996,\n 24004,\n 8908,\n 18030,\n 2058,\n 1996,\n 2364,\n 2303,\n 1012,\n 2005,\n 1996,\n 11320,\n 5302,\n 1997,\n 2169,\n 3252,\n 1996,\n 3972,\n 24755,\n 22731,\n 2015,\n 2024,\n 2036,\n 2714,\n 1012,\n 1996,\n 11320,\n 5302,\n 1997,\n 1052,\n 2487,\n 1998,\n 1052,\n 2475,\n 8908,\n 2058,\n 1996,\n 2364,\n 3252,\n 2021,\n 9839,\n 2062,\n 2058,\n 1996,\n 13012,\n 10936,\n 9890,\n 2177,\n 2084,\n 1999,\n 1996,\n 2553,\n 1997,\n 1996,\n 7972,\n 24004,\n 2015,\n 1012,\n 2000,\n 24110,\n 27351,\n 1996,\n 5857,\n 1997,\n 1996,\n 25175,\n 20624,\n 2229,\n 2000,\n 1996,\n 8880,\n 13943,\n 2015,\n 2057,\n 2031,\n 10174,\n 1996,\n 2561,\n 1998,\n 7704,\n 4304,\n 1997,\n 2163,\n 1006,\n 22851,\n 2891,\n 1007,\n 1012,\n 1996,\n 22851,\n 15094,\n 2005,\n 1052,\n 2487,\n 1998,\n 1052,\n 2475,\n 2024,\n 3491,\n 1999,\n 20965,\n 1012,\n 1055,\n 2575,\n 1006,\n 9686,\n 2072,\n 1526,\n 1007,\n 1012,\n 2057,\n 13571,\n 2035,\n 1997,\n 1996,\n 5090,\n 2046,\n 1996,\n 9033,\n 4135,\n 4135,\n 23194,\n 4048,\n 7361,\n 10222,\n 2063,\n 1006,\n 17371,\n 2102,\n 1007,\n 1998,\n 19857,\n 14604,\n 10609,\n 6844,\n 18886,\n 10936,\n 9890,\n 1006,\n 1042,\n 19279,\n 1007,\n 25175,\n 20624,\n 2229,\n 1012,\n 2004,\n 3517,\n 1010,\n 5090,\n 1052,\n 2487,\n 1998,\n 1052,\n 2475,\n 2031,\n 3278,\n 12319,\n 2006,\n 1996,\n 3972,\n 24755,\n 22731,\n 1997,\n 1996,\n 8880,\n 13943,\n 2015,\n 1012,\n 102]"
     },
     "execution_count": 60,
     "metadata": {},
     "output_type": "execute_result"
    }
   ],
   "source": [
    "enc.input_ids"
   ],
   "metadata": {
    "collapsed": false
   }
  },
  {
   "cell_type": "code",
   "execution_count": null,
   "outputs": [],
   "source": [],
   "metadata": {
    "collapsed": false
   }
  }
 ],
 "metadata": {
  "kernelspec": {
   "display_name": "py39",
   "language": "python",
   "name": "python3"
  },
  "language_info": {
   "codemirror_mode": {
    "name": "ipython",
    "version": 3
   },
   "file_extension": ".py",
   "mimetype": "text/x-python",
   "name": "python",
   "nbconvert_exporter": "python",
   "pygments_lexer": "ipython3",
   "version": "3.9.7"
  },
  "orig_nbformat": 4,
  "vscode": {
   "interpreter": {
    "hash": "5d00f8952959be9fb2f977b85902a6101fd652db9820ce2b143b005325f5b1ea"
   }
  }
 },
 "nbformat": 4,
 "nbformat_minor": 2
}
